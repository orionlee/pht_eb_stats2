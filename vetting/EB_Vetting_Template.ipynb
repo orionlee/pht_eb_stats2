{
 "cells": [
  {
   "cell_type": "code",
   "execution_count": 1,
   "metadata": {
    "scrolled": true
   },
   "outputs": [
    {
     "data": {
      "text/html": [
       "<style>.container { width:99% !important; }</style>"
      ],
      "text/plain": [
       "<IPython.core.display.HTML object>"
      ]
     },
     "metadata": {},
     "output_type": "display_data"
    },
    {
     "data": {
      "application/javascript": [
       "\n",
       "// export notebook url to Python for bokeh-based interactive features\n",
       "IPython.notebook.kernel.execute(`notebook_url = \"${window.location.origin}\"`);\n"
      ],
      "text/plain": [
       "<IPython.core.display.Javascript object>"
      ]
     },
     "metadata": {},
     "output_type": "display_data"
    }
   ],
   "source": [
    "import lightkurve as lk\n",
    "from lightkurve_ext import of_sector, of_sectors, of_2min_cadences, of_lcs\n",
    "import lightkurve_ext as lke\n",
    "import lightkurve_ext_tess as lket\n",
    "import tic_plot as tplt\n",
    "from lightkurve_ext import TransitTimeSpec, TransitTimeSpecList\n",
    "import lightkurve_ext_pg as lke_pg\n",
    "import lightkurve_ext_pg_runner as lke_pg_runner\n",
    "\n",
    "import asyncio_compat\n",
    "\n",
    "import math\n",
    "from types import SimpleNamespace\n",
    "import warnings\n",
    "\n",
    "import numpy as np\n",
    "import matplotlib.pyplot as plt\n",
    "import matplotlib as matplotlib\n",
    "\n",
    "import pandas as pd\n",
    "import astropy as astropy\n",
    "from astropy import units as u\n",
    "from astropy.time import Time\n",
    "from astropy.io import fits\n",
    "\n",
    "from matplotlib.ticker import (FormatStrFormatter, AutoMinorLocator)\n",
    "\n",
    "import sys\n",
    "if \"../src\" not in sys.path:\n",
    "    sys.path.append(\"../src\")\n",
    "\n",
    "import catalog_utils  # from ../src , for accessing various metadata about a TIC\n",
    "\n",
    "import vetting_utils  # helpers specific for vetting\n",
    "\n",
    "from importlib import reload # useful during development to reload packages\n",
    "\n",
    "from IPython.display import display, HTML, Javascript, Markdown\n",
    "display(HTML(\"<style>.container { width:99% !important; }</style>\"));\n",
    "\n",
    "display(Javascript(\"\"\"\n",
    "// export notebook url to Python for bokeh-based interactive features\n",
    "IPython.notebook.kernel.execute(`notebook_url = \"${window.location.origin}\"`);\n",
    "\"\"\"));\n",
    "\n",
    "%matplotlib inline\n"
   ]
  },
  {
   "cell_type": "code",
   "execution_count": 1,
   "metadata": {},
   "outputs": [
    {
     "data": {
      "application/javascript": [
       "// TODO: revise menu, add keyboard shortcut\n",
       "\n",
       "// a menu to jump to specific section easily\n",
       "function addSideNav() {\n",
       "    let ctr = document.getElementById('nav-ctr');\n",
       "    if (ctr) { ctr.remove(); }\n",
       "    const sections = [\n",
       "        ['#input-tic', 'Enter TIC...'],\n",
       "        ['#tic-metadata', ['TIC Metadata']],\n",
       "        ['#lc-all', 'Lightcurves - all'],\n",
       "        ['#lc-interactive', 'Interactive'],\n",
       "        ['#lc-zoomed-in', 'Zoomed-in'],\n",
       "        ['#lc-fold', 'Folded LC'],\n",
       "        ['#lc-period', \"Add. Variability\"],\n",
       "        ['#lc-background-sso', 'Background'],\n",
       "        ['#tpf_download', 'TPF Download'],\n",
       "        ['#tpf_zoom_in', 'TPF Zoom in'],\n",
       "        ['#reports', 'Reports'],\n",
       "        ['#external_docs', \"External Info\"]\n",
       "    ];\n",
       "    // avoid and arrow functions and string with backslash n \n",
       "    // they cause parsing failure with jupyter's display(HTML())\n",
       "    function toASection(sec) {\n",
       "      return `              <li><a href=\"${sec[0]}\">${sec[1]}</a></li>`;\n",
       "    }\n",
       "    const sectionsHTML = \n",
       "        sections.map(toASection).join(`\n",
       "`);\n",
       "    document.body.insertAdjacentHTML('beforeend', `\n",
       "<div id=\"nav-ctr\">\n",
       "    <style>\n",
       "        #nav-side {\n",
       "            position: fixed; right: 2.5vh; top: 2.5em; z-index: 999;\n",
       "            background-color: #feefc3; border: 1px solid lightgray; border-radius: 10%;\n",
       "            padding: 0.25em 2ch 0.25em 0.5ch;        \n",
       "        }\n",
       "        #nav-side.expand {\n",
       "            padding: 0.25em 2ch;                \n",
       "        }\n",
       "        #nav-side-expand {\n",
       "            display: none;\n",
       "        }\n",
       "        .expand #nav-side-expand {\n",
       "            display: block;\n",
       "        }\n",
       "        #nav-side-ctl-hideshow:before {\n",
       "            content: \"<<\";\n",
       "        }\n",
       "        .expand #nav-side-ctl-hideshow:before {\n",
       "            content: \">>\";\n",
       "        }\n",
       "    </style>\n",
       "    <div id=\"nav-side\" class=\"expand\"\n",
       "         style=\"\">\n",
       "        <div id=\"nav-side-ctl-hideshow\" style=\"float: right; cursor: pointer;\" onclick=\"this.parentElement.classList.toggle('expand');\"></div>\n",
       "        <div id=\"nav-side-expand\">\n",
       "            EB Vetting\n",
       "            <ol>\n",
       "${sectionsHTML}\n",
       "            </ol>\n",
       "        <div id=\"nav-side-expand\">\n",
       "    </div>\n",
       "</div>\n",
       "`);\n",
       "\n",
       "    // Assign keyboard shortcut to jump to the sections, Alt-1, 2, etc.\n",
       "    Array.from(document.querySelectorAll('#nav-side-expand li > a'), (a, i) => {\n",
       "        if (i <= 8) {\n",
       "          a.accessKey = i + 1;        \n",
       "        }\n",
       "    });    \n",
       "}\n",
       "addSideNav();\n"
      ],
      "text/plain": [
       "<IPython.core.display.Javascript object>"
      ]
     },
     "metadata": {},
     "output_type": "display_data"
    }
   ],
   "source": [
    "%%javascript\n",
    "// a menu to jump to specific section easily\n",
    "function addSideNav() {\n",
    "    let ctr = document.getElementById('nav-ctr');\n",
    "    if (ctr) { ctr.remove(); }\n",
    "    const sections = [\n",
    "        ['#input-tic', 'Enter TIC...'],\n",
    "        ['#tic-metadata', ['TIC Metadata']],\n",
    "        ['#lc-all', 'Lightcurves - all'],\n",
    "        ['#lc-interactive', 'Interactive'],\n",
    "        ['#lc-zoomed-in', 'Zoomed-in'],\n",
    "        ['#lc-fold', 'Folded LC'],\n",
    "        ['#lc-period', \"Add. Variability\"],\n",
    "        ['#lc-background-sso', 'Background'],\n",
    "        ['#tpf_download', 'TPF Download'],\n",
    "        ['#tpf_zoom_in', 'TPF Zoom in'],\n",
    "        ['#reports', 'Reports'],\n",
    "        ['#external_docs', \"External Info\"]\n",
    "    ];\n",
    "    // avoid and arrow functions and string with backslash n \n",
    "    // they cause parsing failure with jupyter's display(HTML())\n",
    "    function toASection(sec) {\n",
    "      return `              <li><a href=\"${sec[0]}\">${sec[1]}</a></li>`;\n",
    "    }\n",
    "    const sectionsHTML = \n",
    "        sections.map(toASection).join(`\n",
    "`);\n",
    "    document.body.insertAdjacentHTML('beforeend', `\n",
    "<div id=\"nav-ctr\">\n",
    "    <style>\n",
    "        #nav-side {\n",
    "            position: fixed; right: 2.5vh; top: 2.5em; z-index: 999;\n",
    "            background-color: #feefc3; border: 1px solid lightgray; border-radius: 10%;\n",
    "            padding: 0.25em 2ch 0.25em 0.5ch;        \n",
    "        }\n",
    "        #nav-side.expand {\n",
    "            padding: 0.25em 2ch;                \n",
    "        }\n",
    "        #nav-side-expand {\n",
    "            display: none;\n",
    "        }\n",
    "        .expand #nav-side-expand {\n",
    "            display: block;\n",
    "        }\n",
    "        #nav-side-ctl-hideshow:before {\n",
    "            content: \"<<\";\n",
    "        }\n",
    "        .expand #nav-side-ctl-hideshow:before {\n",
    "            content: \">>\";\n",
    "        }\n",
    "    </style>\n",
    "    <div id=\"nav-side\" class=\"expand\"\n",
    "         style=\"\">\n",
    "        <div id=\"nav-side-ctl-hideshow\" style=\"float: right; cursor: pointer;\" onclick=\"this.parentElement.classList.toggle('expand');\"></div>\n",
    "        <div id=\"nav-side-expand\">\n",
    "            EB Vetting\n",
    "            <ol>\n",
    "${sectionsHTML}\n",
    "            </ol>\n",
    "        <div id=\"nav-side-expand\">\n",
    "    </div>\n",
    "</div>\n",
    "`);\n",
    "\n",
    "    // Assign keyboard shortcut to jump to the sections, Alt-1, 2, etc.\n",
    "    Array.from(document.querySelectorAll('#nav-side-expand li > a'), (a, i) => {\n",
    "        if (i <= 8) {\n",
    "          a.accessKey = i + 1;        \n",
    "        }\n",
    "    });    \n",
    "}\n",
    "addSideNav();"
   ]
  },
  {
   "cell_type": "markdown",
   "metadata": {},
   "source": [
    "## Enter TIC, sector, subject\n",
    "<a name=\"input-tic\">"
   ]
  },
  {
   "cell_type": "code",
   "execution_count": null,
   "metadata": {
    "scrolled": false,
    "tags": []
   },
   "outputs": [],
   "source": [
    "# lightkurve config\n",
    "lk_download_dir = \"data\"\n",
    "\n",
    "if hasattr(lk.search, \"sr_cache\"):   # to support PR for persistent query result cache\n",
    "    lk.search.sr_cache.cache_dir = lk_download_dir\n",
    "    lk.search.sr_cache.expire_second = 7 * 86400\n",
    "\n",
    "# Run All Above and this cell to start\n",
    "#\n",
    "# TIC   : the TIC to be vetted\n",
    "# sector: the sector that the notebook would use by default as the focus,\n",
    "#         the lightcurves from all other sectors would be downloaded as well.\n",
    "#         TPF of the given sector will be downloaded\n",
    "# subject: an example subject on Planet Hunters TESS for the TIC, usually from the sector above.\n",
    "\n",
    "tic_sec_subj_str = \"tofillin  # tab-separted input  from spreadsheet / dataframes output, e.g.,  288100746, 37, 62817178\n",
    "tic, sector, subject =  [int(s) for s in tic_sec_subj_str.split(\"\\t\")[:3]]\n",
    "\n",
    "\n",
    "max_num_sectors_to_download = None  #  None to download all sectors. Otherwise set it to a number to cap it, with the supplied sector as the centor of the slice to donwload\n",
    "to_download_tpf_async = True\n",
    "override_sector_with_first_sector = True\n",
    "to_show_tic_meta = True\n",
    "\n",
    "\n",
    "def limit_sr_to_download(sr):\n",
    "    # used to limit data from cycle 1 - 3, but for vetting purpose, we use full data set\n",
    "    # sr = lk.SearchResult(sr.table[sr.table[\"sequence_number\"] <= 39])\n",
    "    if max_num_sectors_to_download is None:\n",
    "            return sr\n",
    "    return lke.of_sector_n_around(sr, sector, num_additions=max_num_sectors_to_download-1)\n",
    "\n",
    "\n",
    "try:    \n",
    "    lcf_coll, sr, sr_unfiltered = lke.download_lightcurves_of_tic_with_priority(tic, \n",
    "                                                                                download_filter_func=limit_sr_to_download, download_dir=lk_download_dir,\n",
    "                                                                                author_priority=[\"SPOC\", \"TESS-SPOC\", \"QLP\"],\n",
    "                                                                               )\n",
    "    lcf_coll_original = lcf_coll  # retain a reference to the downloaded collection in case I modify it later\n",
    "finally:\n",
    "    tplt.beep()  # a beep to remind the users that the data has been downloaded\n",
    "\n",
    "if override_sector_with_first_sector:\n",
    "    # overide and use the first sector with 2 minute cadence data\n",
    "    # Reason: if the TIC has TCEs, the epoch is generally from the first 2 minute cadence sector.\n",
    "    sector_original = sector\n",
    "    sector_first_short_cadence = sr[sr.exptime == 120 * u.s].table[0][\"sequence_number\"]\n",
    "    if sector_first_short_cadence != sector_original:        \n",
    "        sector = sector_first_short_cadence\n",
    "        print(f\"INFO sector is overridden to be {sector} , the first short cadence sector.\")\n",
    "\n",
    "# Start downloading TPF asycnhronously while the user inspects the lightcurve\n",
    "# Users can jump to \"TPF Download\" section to access the result\n",
    "tpf_task = None\n",
    "if to_download_tpf_async:\n",
    "    tpf_task = lke.create_download_tpf_task(f\"TIC{tic}\", sector=sector, exptime=\"short\", author='SPOC', mission=\"TESS\", download_dir=lk_download_dir)\n",
    "\n",
    "\n",
    "metadata_html_task = None  # load TCEs asycnhronously  while the user inspects the lightcurve\n",
    "if to_show_tic_meta:\n",
    "    metadata_html_task = asyncio_compat.create_background_task(tplt.get_tic_meta_in_html, of_sector(lcf_coll, sector), a_subject_id=subject, download_dir=lk_download_dir)\n",
    "\n",
    "\n",
    "lc = of_sector(lcf_coll, sector)\n",
    "lket.display_crowdsap(lc)"
   ]
  },
  {
   "cell_type": "code",
   "execution_count": null,
   "metadata": {},
   "outputs": [],
   "source": [
    "# for triage MAST query issues\n",
    "# _sr  = lk.search_lightcurve(f\"TIC{tic}\", mission=\"TESS\")\n",
    "#\n",
    "# when needed, run this cell to download all sectors from primary mission or specific sectors\n",
    "# lcf_coll = lk.SearchResult(sr.table[np.in1d(sr.table[\"sequence_number\"], [1, 11, 12, 13])]).download_all(download_dir=lk_download_dir)\n",
    "# tplt.beep()\n",
    "# lcf_coll"
   ]
  },
  {
   "cell_type": "markdown",
   "metadata": {},
   "source": [
    "## TIC Metadata\n",
    "<a name=\"tic-metadata\">"
   ]
  },
  {
   "cell_type": "code",
   "execution_count": null,
   "metadata": {
    "scrolled": false
   },
   "outputs": [],
   "source": [
    "# reload(tplt)\n",
    "# metadata_html_task = asyncio_compat.create_background_task(tplt.get_tic_meta_in_html, of_sector(lcf_coll, sector), a_subject_id=subject, download_dir=\"data\")\n",
    "display(HTML(await metadata_html_task))"
   ]
  },
  {
   "cell_type": "markdown",
   "metadata": {},
   "source": [
    "## Variabiility from other catalogs\n",
    "<a name=\"meta_other_catalogs\"></a>"
   ]
  },
  {
   "cell_type": "code",
   "execution_count": null,
   "metadata": {},
   "outputs": [],
   "source": [
    "# Used for display here, but also for later, e.g., in reports\n",
    "all_meta = catalog_utils.get_all_meta_of_tic(tic)\n",
    "\n",
    "vetting_utils.display_all_meta_highlights(all_meta)"
   ]
  },
  {
   "cell_type": "markdown",
   "metadata": {},
   "source": [
    "## Lightcurves - all sectors\n",
    "<a name=\"lc-all\">"
   ]
  },
  {
   "cell_type": "code",
   "execution_count": null,
   "metadata": {
    "scrolled": false
   },
   "outputs": [],
   "source": [
    "# Use lcf_coll_original rather than lcf_coll, \n",
    "# in case lcf_coll is modified by the manual exclude section \n",
    "# (here we want to plot the downloaded data as-is)\n",
    "\n",
    "obs_span, num_days = lke.get_obs_date_range(lcf_coll_original)\n",
    "print(f\"Obs span: {obs_span}  ; num. of days: {num_days}\")\n",
    "\n",
    "\n",
    "# ---\n",
    "\n",
    "lc = lke.stitch(\n",
    "    lcf_coll_original,\n",
    "    corrector_func=lambda lc: (\n",
    "        lc\n",
    "#         .select_flux(\"sap_flux\")\n",
    "#         .remove_outliers(sigma=7)\n",
    "        .normalize(unit=\"percent\")\n",
    "    ),\n",
    "    ignore_incompatible_column_warning=True,\n",
    ").normalize(unit=\"percent\")\n",
    "\n",
    "print(f\"Sectors {lke.abbrev_sector_list(lc.meta['SECTORS'])}:\")\n",
    "axs = tplt.plot_skip_data_gap(lc, figsize=(30,6), s=2, alpha=0.5);\n",
    "axs[0].get_figure().suptitle(f\"{lc.label}, sectors {lke.abbrev_sector_list(lc.meta['SECTORS'])}\", fontsize=20);\n",
    "# [ax.set_ylim(99.8, None) for ax in axs];\n",
    "\n",
    "\n",
    "# Zoom in to the first and the last known sectors\n",
    "\n",
    "figsize=(12, 6)\n",
    "if len(lcf_coll_original) >= 2:\n",
    "    lcf_coll_first_last = lk.LightCurveCollection([lcf_coll_original[0], lcf_coll_original[-1], ])\n",
    "else:\n",
    "    lcf_coll_first_last = lk.LightCurveCollection([lcf_coll_original[0]])\n",
    "\n",
    "axs = tplt.plot_all(\n",
    "    lcf_coll_first_last,\n",
    "    moving_avg_window='20min',\n",
    "    ax_fn=lambda: tplt.lk_ax(figsize=figsize),\n",
    "    use_relative_time=False,\n",
    "    mark_quality_issues=False,\n",
    "    mark_momentum_dumps=True,\n",
    "    set_title=False,\n",
    ")\n",
    "\n",
    "# as a sanity check, in case PDCSAP_FLUX has some anomaly (e.g., remvoing a good dip)\n",
    "ax_flux_cmp = tplt.plot_flux_sap_flux_comparison(of_sector(lcf_coll_original, sector), ax=plt.figure(figsize=figsize).gca(),\n",
    "                                                 offset=None)"
   ]
  },
  {
   "cell_type": "markdown",
   "metadata": {},
   "source": [
    "### Manual exclude problematic cadences, if any"
   ]
  },
  {
   "cell_type": "code",
   "execution_count": null,
   "metadata": {},
   "outputs": [],
   "source": [
    "to_mask_out_cadences = False\n",
    "\n",
    "if to_mask_out_cadences:\n",
    "    # a new collection that I'd modify\n",
    "    lcf_coll = lk.LightCurveCollection(lcf_coll_original.data.copy())\n",
    "    # custom codes to mask out problematic cadences\n",
    "    #\n",
    "    # the flux in sector 9 QLP lc at the beginning of an orbit does not appear to be reliable\n",
    "    # it seems background is not subtracted sufficiently\n",
    "    idx = -1 # FILL IN\n",
    "    lc = lcf_coll[idx]  \n",
    "    lc = lke.exclude_range(lc, )   # FILL IN\n",
    "    lcf_coll[idx] = lc\n",
    "\n",
    "    # plot all lightcurves again for visual validation\n",
    "    axs = tplt.plot_skip_data_gap(\n",
    "        lke.stitch(lcf_coll, corrector_func=tplt.normalize_percent, ignore_incompatible_column_warning=True),\n",
    "        figsize=(30,6), s=2, alpha=0.5\n",
    "        );\n"
   ]
  },
  {
   "cell_type": "markdown",
   "metadata": {},
   "source": [
    "## Magnitude Range / Amplitude"
   ]
  },
  {
   "cell_type": "code",
   "execution_count": null,
   "metadata": {},
   "outputs": [],
   "source": [
    "res = lket.calc_flux_range(lcf_coll)\n",
    "\n",
    "# they'll be used in reports at the end\n",
    "flux_range_pct = res.flux_range_pct\n",
    "flux_range_mag = res.flux_range_mag\n",
    "\n",
    "# report and visualzie the results\n",
    "lc = res.lc_stitched\n",
    "print(f\"Sectors {lke.abbrev_sector_list(lc.meta['SECTORS'])}:\")\n",
    "print(\"Max/Min (normalized):\", flux_range_pct[0], flux_range_pct[1])\n",
    "print(\"Max/Min (magnitude) :\", flux_range_mag[0], flux_range_mag[1])\n",
    "\n",
    "axs = tplt.plot_skip_data_gap(lc, figsize=(30,6), s=2, alpha=0.5);\n",
    "axs[0].get_figure().suptitle(f\"{lc.label}, sectors {lke.abbrev_sector_list(lc.meta['SECTORS'])}\", fontsize=20);"
   ]
  },
  {
   "cell_type": "markdown",
   "metadata": {},
   "source": [
    "## Lightcurve - interactive\n",
    "<a name=\"lc-interactive\">"
   ]
  },
  {
   "cell_type": "code",
   "execution_count": null,
   "metadata": {
    "scrolled": false
   },
   "outputs": [],
   "source": [
    "run_plot_interactive = False\n",
    "\n",
    "if run_plot_interactive:\n",
    "    lcf = of_sector(lcf_coll, sector)\n",
    "\n",
    "    lket.display_crowdsap(lcf)\n",
    "    display(HTML(f\"TSTART: {lcf.meta.get('TSTART')}\"))  # To aid relative time conversion\n",
    "\n",
    "    # make zoom in to a specific dip eaiser\n",
    "    tplt.plot_transit_interactive(lcf, figsize=(30, 10),\n",
    "#                                   flux_col='sap_flux'\n",
    "                                 );"
   ]
  },
  {
   "cell_type": "markdown",
   "metadata": {},
   "source": [
    "## Identify initial period with BLS"
   ]
  },
  {
   "cell_type": "code",
   "execution_count": null,
   "metadata": {
    "scrolled": false
   },
   "outputs": [],
   "source": [
    "run_bls = False\n",
    "\n",
    "if run_bls:\n",
    "    lc = lke.stitch(\n",
    "        lcf_coll, \n",
    "        corrector_func=lambda lc: lc.normalize(unit=\"percent\"),\n",
    "        ignore_incompatible_column_warning=True,\n",
    "    )\n",
    "    \n",
    "    result = lke_pg_runner.run_bls(lc, pg_kwargs=dict(\n",
    "#         minimum_period=1, maximum_period=20,\n",
    "    ))\n",
    "#     lc.normalize().interact_bls(notebook_url=notebook_url)"
   ]
  },
  {
   "cell_type": "markdown",
   "metadata": {},
   "source": [
    "## Lightcurve - zoomed in\n",
    "<a name=\"lc-zoomed-in\"></a>\n",
    "\n",
    "- Eclipse specification is defined here in `transit_specs`"
   ]
  },
  {
   "cell_type": "code",
   "execution_count": null,
   "metadata": {
    "scrolled": false
   },
   "outputs": [],
   "source": [
    "# Plots, zoomed-in around selected dips / transits\n",
    "\n",
    "transit_specs = TransitTimeSpecList(\n",
    "    dict(epoch=2037.2852, duration_hr=4.7531, label=\"deep, s0001-s0039:TCE1\",  # period is 2X of TCE period 1.995463 * 2\n",
    "         sector=sector, steps_to_show=[0, 1],\n",
    "        ),\n",
    "    dict(epoch=2039.280663, duration_hr=4.7531, label=\"shallow, s0001-s0039:TCE1\",  # epoch is 2037.2852 + 1.995463, deep's epoch + 1/2 period\n",
    "         sector=sector, steps_to_show=[0, 1],\n",
    "        ),    \n",
    "    defaults=dict(period=to-fillin, surround_time=0.5)\n",
    ")\n",
    "\n",
    "\n",
    "def custom_lc_tweak(lc):\n",
    "    res = lc\n",
    "    # res = res.remove_outliers(sigma=7)\n",
    "    # res = res.bin(time_bin_size=20 * u.min)\n",
    "    return res\n",
    "\n",
    "figsize = (8, 4) # (16, 4)\n",
    "axs = tplt.plot_transits(    \n",
    "                         lcf_coll # [of_sectors(lcf_coll, 27)[1], of_sectors(lcf_coll, 28)[1]]\n",
    "                         , transit_specs\n",
    "#                          , flux_col = \"sap_flux\"\n",
    "                         , ax_fn=lambda: plt.figure(figsize=figsize).gca()    \n",
    "                         , t0mark_ymax=0.05\n",
    "#                          , lc_tweak_fn=lambda lc: lc.remove_outliers(sigma=7)\n",
    "                         , lc_tweak_fn=custom_lc_tweak\n",
    "                         , moving_avg_window='20min' # None # '30min' # '10min' # None, '20min' #  '30min'\n",
    "#                          , set_title=False\n",
    "                         , show_r_obj_estimate=False\n",
    "                         , title_fontsize=12\n",
    "                        )\n",
    "# axs[0].set_ylim(None, 100.15)\n",
    "print('Transits, zoomed-in');\n",
    "display(transit_specs.to_table());\n",
    "\n",
    "phase_shallow = ( (transit_specs[1]['epoch'] - transit_specs[0]['epoch']) / transit_specs[0]['period'] ) % 1\n",
    "print(\"Shallow eclipse phase:\", phase_shallow)"
   ]
  },
  {
   "cell_type": "markdown",
   "metadata": {},
   "source": [
    "#### Compare with idientified eclipses with TESS EB results, if any"
   ]
  },
  {
   "cell_type": "code",
   "execution_count": null,
   "metadata": {},
   "outputs": [],
   "source": [
    "if len(all_meta.tesseb) > 0:\n",
    "    vetting_utils.display_no_index(all_meta.tesseb[[\"TIC\", \"Per\", \"Epochp\", \"Durationp-pf\", \"Dp-pf\", \"Epochs-pf\", \"Durations-pf\", \"Ds-pf\"]])\n",
    "    vetting_utils.display_no_index(all_meta.tesseb[[\"TIC\", \"Per\", \"Epochp\", \"Durationp-2g\", \"Dp-2g\", \"Epochs-2g\", \"Durations-2g\", \"Ds-2g\"]])\n",
    "else:\n",
    "    print(\"No TESS EB entry.\")"
   ]
  },
  {
   "cell_type": "markdown",
   "metadata": {},
   "source": [
    "## Lightcurves - eclipses marked\n",
    "<a name=\"lc-transits\">"
   ]
  },
  {
   "cell_type": "code",
   "execution_count": null,
   "metadata": {
    "scrolled": false
   },
   "outputs": [],
   "source": [
    "red_marks = dict(linestyle='--', color=\"red\")\n",
    "blue_marks = dict(linestyle='--', color=\"blue\")\n",
    "yellow_marks = dict(linestyle='--', color=\"yellow\", ymin=0.1, ymax=0.3, linewidth=2)  # , ymax=0.5\n",
    "orange_marks = dict(linestyle=':', color=\"orange\", ymin=0.1, ymax=0.3)  # , ymax=0.8\n",
    "green_marks = dict(linestyle='--', color=\"green\", ymax=0.4)  # , ymax=0.8\n",
    "purple_marks = dict(linestyle=':', color=\"purple\", ymax=0.4)  # , ymax=0.5\n",
    "\n",
    "# customize these parameters if needed\n",
    "lcf_coll_to_use = lcf_coll\n",
    "tt_specs = transit_specs\n",
    "\n",
    "\n",
    "axvline_kwargs_specs = [\n",
    "    red_marks,\n",
    "    blue_marks\n",
    "]\n",
    "skip_no_transit_plot = True\n",
    "\n",
    "# Now do the marking\n",
    "axs, tt_lists = [], []\n",
    "for lc_to_use in lcf_coll_to_use :\n",
    "    with warnings.catch_warnings():\n",
    "        # avoid warnings about repeated normalization\n",
    "        warnings.filterwarnings(\"ignore\", category=lk.LightkurveWarning, message=\".*in relative units.*\")\n",
    "#         lc_to_use = tplt._to_lc_with_flux(lc_to_use, \"sap_flux\")\n",
    "        lc_to_use = lc_to_use.normalize(unit=\"percent\")  # .remove_outliers(sigma=7)\n",
    "    ax = plt.figure(figsize=(25, 5)).gca()\n",
    "    ax1, tt_list = tplt.mark_transit_times(lc_to_use, tt_specs,\n",
    "                                           axvline_kwargs_specs=axvline_kwargs_specs,\n",
    "                                           ax=ax,\n",
    "                                           skip_no_transit_plot=skip_no_transit_plot,\n",
    "#                                            lc_plot_func_name=\"plot\",\n",
    "                                          )\n",
    "    if ax1 is not None:\n",
    "        axs.append(ax1), tt_lists.append(tt_list)\n",
    "    else:\n",
    "        plt.close(ax.figure)\n",
    "\n",
    "print(tt_specs);\n",
    "print(tt_lists);\n",
    "# axs[-1].set_ylim(None, 100.5)"
   ]
  },
  {
   "cell_type": "markdown",
   "metadata": {},
   "source": [
    "### Plot marked dips, zoomed in"
   ]
  },
  {
   "cell_type": "code",
   "execution_count": null,
   "metadata": {
    "scrolled": false
   },
   "outputs": [],
   "source": [
    "specs_idx = 0  # deep eclipses\n",
    "\n",
    "t0, period, duration_hr, label = tt_specs[specs_idx][\"epoch\"], tt_specs[specs_idx][\"period\"], tt_specs[specs_idx][\"duration_hr\"], tt_specs[specs_idx][\"label\"]\n",
    "surround_time = 2.5 * duration_hr / 24\n",
    "\n",
    "figsize = (8, 4)\n",
    "\n",
    "def tweak_axs(axs):\n",
    "#     [ax.set_ylim(axs[-1].get_ylim()) for ax in axs];\n",
    "#     [ax.set_ylim(99.7, 100.2) for ax in axs];\n",
    "    return axs;\n",
    "\n",
    "print(\"period: \", period, \", t0: \", t0)\n",
    "\n",
    "axs = []\n",
    "# check how well the predicted dips fit with observation, using the first and the last sector in the collection\n",
    "for lc in of_sectors(lcf_coll_to_use[:], lcf_coll_to_use[0].sector, lcf_coll_to_use[-1].sector):\n",
    "    lc = lke.select_flux(lc, [\"flux\"])  # [\"kspsap_flux\", \"flux\"] #  \"sap_flux\"\n",
    "    lc_sap = lke.select_flux(lc, [\"sap_flux\", \"flux_raw\"] ) #  use SAP_FLUX to calc transit time to get dips only in SAP_FLUX. For TASOC, use FLUX_RAW\n",
    "    transit_times = lke.get_transit_times_in_lc(lc_sap, t0, period, return_string=False,\n",
    "#                                                 break_tolerance=1e7,  # also mark data gap, by setting large break_tolerance\n",
    "                                               )\n",
    "    for tt in transit_times[:3]:  # limit to 3 per sector for clarity\n",
    "        with plt.style.context(lk.MPLSTYLE):\n",
    "            if True:   # for FLUX\n",
    "                ax = plt.figure(figsize=figsize).gca()\n",
    "                tplt.plot_transit(lc, ax, tt, duration_hr / 24, surround_time,\n",
    "                                  moving_avg_window=\"20min\", \n",
    "                                  title_fontsize=10,                              \n",
    "                                  show_r_obj_estimate=True,        \n",
    "                                  legend_kwargs=dict(fontsize=7, loc=\"upper right\")\n",
    "                                 )\n",
    "                axs.append(ax)\n",
    "        \n",
    "tweak_axs(axs);    "
   ]
  },
  {
   "cell_type": "markdown",
   "metadata": {},
   "source": [
    "## Lightcurves - folded\n",
    "<a name=\"lc-fold\">"
   ]
  },
  {
   "cell_type": "code",
   "execution_count": null,
   "metadata": {
    "scrolled": false
   },
   "outputs": [],
   "source": [
    "# Fold lightcurves\n",
    "\n",
    "# use all LCs  to see better ensure the period is good\n",
    "lc = lke.stitch(lcf_coll, corrector_func=tplt.normalize_percent, ignore_incompatible_column_warning=True)\n",
    "\n",
    "t0 = transit_specs[0][\"epoch\"]\n",
    "period = transit_specs[0][\"period\"]\n",
    "\n",
    "figsize = (12, 6)\n",
    "time_bin_size = None  # 10 * u.minute \n",
    "\n",
    "if time_bin_size is not None:\n",
    "    lc_b = lke.bin_flux(time_bin_size=time_bin_size)\n",
    "else:\n",
    "    lc_b = lc\n",
    "\n",
    "\n",
    "ax1, lc_f1 = tplt.fold_and_plot(lc_b, period, t0, figsize=figsize)\n",
    "ax2, lc_f2 = tplt.fold_2x_periods_and_plot(lc_b, period, t0, figsize=figsize)\n",
    "\n",
    "# used by subsequent cells\n",
    "obs_actual_days = len(set([int(v) for v in lc_f1.time_original.value]))\n",
    "obs_actual_cycles = len(set(lc_f1.cycle))\n",
    "print(f\"# days: {obs_actual_days} ; # cycles: {obs_actual_cycles}\")"
   ]
  },
  {
   "cell_type": "code",
   "execution_count": null,
   "metadata": {},
   "outputs": [],
   "source": [
    "to_animate_folded_lc = False\n",
    "\n",
    "if to_animate_folded_lc:\n",
    "    ax = tplt.lk_ax(figsize=(10, 5))\n",
    "    with plt.style.context(lk.MPLSTYLE):  # needed to main lightkurve style in animation\n",
    "        lc_to_use = lc_f1\n",
    "        tplt.animate_folded_lightcurve(lc_to_use, ax=ax, interval=750, num_frames=240, plot_kwargs=dict(s=9));\n",
    "    lc_to_use.meta.get(\"TARGETID\"), len(np.unique(tplt.calc_cycles(lc_to_use)))"
   ]
  },
  {
   "cell_type": "markdown",
   "metadata": {},
   "source": [
    "## Eclipse Depth from observation\n",
    "- use folded, detrended, normalized lightcurve\n",
    "- calculate flux at minimum as the median flux of a 10 minute window of the minimum (possibly many data points due to folding)\n",
    "- eclipse depth is `1 - flux_at_minimum`, assuming regular (out of eclipse) flux is 100%"
   ]
  },
  {
   "cell_type": "code",
   "execution_count": null,
   "metadata": {},
   "outputs": [],
   "source": [
    "# Detrend then fold,\n",
    "# - eclipses masked out during detrend to preserve them\n",
    "\n",
    "# use 2 min cadence lightcurves only to make flattening easier (with consistent cadence)\n",
    "lc = of_lcs(lcf_coll, lambda lc: lc.author == \"SPOC\").stitch(corrector_func=tplt.normalize_percent)\n",
    "\n",
    "window_length_days = 2 / 24\n",
    "lc_flattened = lc.flatten(window_length=lke.to_window_length_for_2min_cadence(window_length_days),\n",
    "                          mask=lc.create_transit_mask(transit_time=transit_specs.epoch, period=transit_specs.period, duration=transit_specs.duration)\n",
    "                         ).normalize(unit=\"percent\")"
   ]
  },
  {
   "cell_type": "code",
   "execution_count": null,
   "metadata": {
    "scrolled": false
   },
   "outputs": [],
   "source": [
    "# visualize the detrended lightcurve \n",
    "\n",
    "figsize = (20, 4)\n",
    "figsize_z = (14, 6)\n",
    "zoom_window = 5\n",
    "\n",
    "\n",
    "# Overall\n",
    "axs = tplt.plot_skip_data_gap(lc, figsize=figsize, s=2, alpha=0.5);\n",
    "axs[0].get_figure().suptitle(f'{lc.label}')\n",
    "\n",
    "axs = tplt.plot_skip_data_gap(lc_flattened, figsize=figsize, s=2, alpha=0.5);\n",
    "axs[0].get_figure().suptitle(f'{lc_flattened.label}, flattened with a window {window_length_days} days')\n",
    "\n",
    "\n",
    "# plot a section near the beginning and one near the end\n",
    "with plt.style.context(lk.MPLSTYLE):\n",
    "    fig, axs = plt.subplots(2, 2, sharex=\"col\", figsize=figsize_z)  \n",
    "    plt.subplots_adjust(hspace=0, wspace=0.3) \n",
    "\n",
    "    # plot a section near the beginning    \n",
    "    zoom_b, zoom_e = np.ceil(lc_flattened.time.min().value) + 1, np.ceil(lc_flattened.time.min().value) + 1 + zoom_window\n",
    "    ax_col = 0\n",
    "    ax = lc.truncate(zoom_b, zoom_e).scatter(ax=axs[0][ax_col]);\n",
    "    ax = lc_flattened.truncate(zoom_b, zoom_e).scatter(ax=axs[1][ax_col], label=f'{lc.label}, flattened');\n",
    "\n",
    "    # plot a section near the end\n",
    "    zoom_b, zoom_e = np.ceil(lc_flattened.time.max().value) - 1 - zoom_window, np.ceil(lc_flattened.time.max().value) - 1\n",
    "    ax_col = 1\n",
    "    ax = lc.truncate(zoom_b, zoom_e).scatter(ax=axs[0][ax_col]);\n",
    "    ax = lc_flattened.truncate(zoom_b, zoom_e).scatter(ax=axs[1][ax_col], label=f'{lc.label}, flattened');"
   ]
  },
  {
   "cell_type": "markdown",
   "metadata": {},
   "source": [
    "### Deep Eclipse depth"
   ]
  },
  {
   "cell_type": "code",
   "execution_count": null,
   "metadata": {},
   "outputs": [],
   "source": [
    "t0 = transit_specs[0][\"epoch\"]\n",
    "period = transit_specs[0][\"period\"]\n",
    "duration = transit_specs[0][\"duration_hr\"] / 24\n",
    "\n",
    "lc_ff_deep = lc_flattened.fold(epoch_time=t0, period=period)\n",
    "\n",
    "flux_min_deep, flux_min_deep_sample_size = lke.calc_flux_at_minimum(lc_ff_deep)\n",
    "depth_deep = 1 - flux_min_deep\n",
    "print(f\"Deep eclipse depth: {100*depth_deep:.3f}% ; num. data points: {flux_min_deep_sample_size}\")\n",
    "\n",
    "ax, ax_z = tplt.plot_n_annotate_folded(lc_ff_deep, annotate=False, also_plot_zoom_transit=True, duration=duration)"
   ]
  },
  {
   "cell_type": "markdown",
   "metadata": {},
   "source": [
    "### Shallow Eclipse Depth"
   ]
  },
  {
   "cell_type": "code",
   "execution_count": null,
   "metadata": {},
   "outputs": [],
   "source": [
    "t0 = transit_specs[1][\"epoch\"]\n",
    "period = transit_specs[1][\"period\"]\n",
    "duration = transit_specs[1][\"duration_hr\"] / 24\n",
    "\n",
    "lc_ff_shallow = lc_flattened.fold(epoch_time=t0, period=period)\n",
    "\n",
    "flux_min_shallow, flux_min_shallow_sample_size = lke.calc_flux_at_minimum(lc_ff_shallow)\n",
    "depth_shallow = 1 - flux_min_shallow\n",
    "print(f\"Shallow eclipse depth: {100*depth_shallow:.3f}% ; num. data points: {flux_min_shallow_sample_size}\")\n",
    "\n",
    "ax, ax_z = tplt.plot_n_annotate_folded(lc_ff_shallow, annotate=False, also_plot_zoom_transit=True, duration=duration)"
   ]
  },
  {
   "cell_type": "markdown",
   "metadata": {},
   "source": [
    "## Identify additional variability\n",
    "<a name=\"lc-period\">"
   ]
  },
  {
   "cell_type": "markdown",
   "metadata": {},
   "source": [
    "### Mask out eclipses\n",
    "to visualize the remaining fluctuations"
   ]
  },
  {
   "cell_type": "code",
   "execution_count": null,
   "metadata": {},
   "outputs": [],
   "source": [
    "# use LCs with all cadences\n",
    "lc = lke.stitch(lcf_coll, corrector_func=lambda lc: lc.remove_nans().normalize(unit=\"percent\"), ignore_incompatible_column_warning=True)\n",
    "\n",
    "## use LCs with flux in electron/s only, to calculate FAP\n",
    "# lc = lke.stitch(lke.select(lcf_coll, lambda lc: lc.author in [\"SPOC\", \"TESS-SPOC\"]), corrector_func=lambda lc: lc.remove_nans(), ignore_incompatible_column_warning=True)\n",
    "\n",
    "t_mask = lc.create_transit_mask(transit_time=transit_specs.epoch, period=transit_specs.period, duration=transit_specs.duration)\n",
    "lc_masked = lc[~t_mask]\n",
    "\n",
    "with plt.style.context(lk.MPLSTYLE):\n",
    "    figsize = (20, 4)\n",
    "    axs = tplt.plot_skip_data_gap(lc_masked, figsize=figsize, s=2, alpha=0.5);\n",
    "    axs[0].get_figure().suptitle(f'{lc_masked.label}')"
   ]
  },
  {
   "cell_type": "markdown",
   "metadata": {},
   "source": [
    "### Lomb Scargle Periodogram"
   ]
  },
  {
   "cell_type": "code",
   "execution_count": null,
   "metadata": {},
   "outputs": [],
   "source": [
    "pg = (\n",
    "    lc_masked\n",
    "    .to_periodogram(method=\"lombscargle\",\n",
    "#                     minimum_period=.01, maximum_period=25,\n",
    "#                     ls_method=\"fastchi2\", nterms=3,\n",
    "                      )\n",
    "     )\n",
    "pg.show_properties();"
   ]
  },
  {
   "cell_type": "code",
   "execution_count": null,
   "metadata": {},
   "outputs": [],
   "source": [
    "lke_pg.plot_pg_n_mark_max(pg, max_period_factor=10);\n",
    "\n",
    "ax = pg.plot(view=\"period\")  # period view, zoom in around peak\n",
    "ax.set_xlim(pg.period_at_max_power.value / 3 , pg.period_at_max_power.value * 5/3);\n",
    "\n",
    "ax = pg.plot(view=\"frequency\");  # frequency view\n",
    "ax.set_xlim(pg.frequency_at_max_power.value / 100 , pg.frequency_at_max_power.value * 5);\n",
    "\n",
    "# frequency in log scale / microhertz ; useful for, say, solar type oscillator\n",
    "ax = pg.plot(view=\"frequency\", unit=u.microhertz, scale=\"log\");  \n",
    "\n",
    "if not lc_masked.meta.get(\"NORMALIZED\") and pg.nterms == 1:\n",
    "    # calc FAP. Somehow it does not work with normalized flux (always return 1.0 for normalized flux)\n",
    "    pg_fap = pg._LS_object.false_alarm_probability(pg.max_power, method=\"baluev\")  # the FAP is often useless if the lc is normalized\n",
    "    print(\"False Alarm Probability:\", pg_fap)"
   ]
  },
  {
   "cell_type": "code",
   "execution_count": null,
   "metadata": {},
   "outputs": [],
   "source": [
    "axs = lke_pg.plot_lc_with_model(lc_masked.normalize(), pg);"
   ]
  },
  {
   "cell_type": "markdown",
   "metadata": {},
   "source": [
    "Animated folded lightcurve \n",
    "\n",
    "If the target has additional rotational variability,\n",
    "- the period holds across sectors\n",
    "- but the pattern within a period evolves over time. "
   ]
  },
  {
   "cell_type": "code",
   "execution_count": null,
   "metadata": {},
   "outputs": [],
   "source": [
    "lc_add_var_f = lc_masked.normalize(unit=\"percent\").fold(epoch_time=lc_masked.time.min(), period=pg.period_at_max_power)\n",
    "ax = lc_add_var_f.scatter(alpha=1.0, s=0.1);\n",
    "ax.set_title(\"Folded with Periodogram period, eclipses masked\");"
   ]
  },
  {
   "cell_type": "code",
   "execution_count": null,
   "metadata": {},
   "outputs": [],
   "source": [
    "# animate the folded lightcurve (with periodogram period)\n",
    "to_animate_folded_lc = True\n",
    "\n",
    "if to_animate_folded_lc:\n",
    "    ax = tplt.lk_ax(figsize=(8, 4))\n",
    "    with plt.style.context(lk.MPLSTYLE):  # needed to main lightkurve style in animation\n",
    "        lc_to_use = lc_add_var_f\n",
    "        tplt.animate_folded_lightcurve(lc_to_use, ax=ax, interval=750, num_frames=240, plot_kwargs=dict(s=9));\n",
    "    print(lc_to_use.meta.get(\"TARGETID\"), len(np.unique(tplt.calc_cycles(lc_to_use))))"
   ]
  },
  {
   "cell_type": "code",
   "execution_count": null,
   "metadata": {},
   "outputs": [],
   "source": [
    "lc_add_var_f_e = lc_masked.normalize(unit=\"percent\").fold(epoch_time=lc_masked.time.min(), period=transit_specs[0][\"period\"])\n",
    "ax = lc_add_var_f_e.scatter(alpha=1.0, s=0.1);\n",
    "ax.set_title(\"Folded with Eclipse period, eclipses masked\");"
   ]
  },
  {
   "cell_type": "code",
   "execution_count": null,
   "metadata": {},
   "outputs": [],
   "source": [
    "# animate the folded lightcurve (with eclipse period)\n",
    "to_animate_folded_lc = False\n",
    "\n",
    "if to_animate_folded_lc:\n",
    "    ax = tplt.lk_ax(figsize=(8, 4))\n",
    "    with plt.style.context(lk.MPLSTYLE):  # needed to main lightkurve style in animation\n",
    "        lc_to_use = lc_add_var_f_e\n",
    "        tplt.animate_folded_lightcurve(lc_to_use, ax=ax, interval=750, num_frames=240, plot_kwargs=dict(s=9));    "
   ]
  },
  {
   "cell_type": "markdown",
   "metadata": {},
   "source": [
    "## Contamination Check\n",
    "<a name=\"contamination\"></a>"
   ]
  },
  {
   "cell_type": "markdown",
   "metadata": {},
   "source": [
    "### Lightcurve - background\n",
    "<a name=\"lc-background-sso\">"
   ]
  },
  {
   "cell_type": "code",
   "execution_count": null,
   "metadata": {},
   "outputs": [],
   "source": [
    "specs_idx, step_idx = 0, 0\n",
    "\n",
    "lc = of_sector(lcf_coll,  transit_specs[specs_idx][\"sector\"])\n",
    "lc = lc.normalize(unit='percent')\n",
    "\n",
    "# Check the background flux for the duration in question\n",
    "t0 = transit_specs[specs_idx][\"epoch\"]\n",
    "period = transit_specs[specs_idx][\"period\"]\n",
    "search_period = transit_specs[specs_idx][\"duration_hr\"] * 1.3 / 24\n",
    "plot_period = search_period * 1.5 \n",
    "\n",
    "steps_to_show = transit_specs[specs_idx][\"steps_to_show\"]\n",
    "t0 = t0 + period *  steps_to_show[step_idx]\n",
    "\n",
    "search_start, search_end = t0 - search_period /2, t0 + search_period /2\n",
    "plot_start, plot_end = t0 - plot_period /2, t0 + plot_period /2\n",
    "\n",
    "plot_binned = False\n",
    "plot_sap_flux = False\n",
    "\n",
    "fig, axs = plt.subplots(3 if plot_binned else 2, 1, sharex=True, figsize=(12, 10.5 if plot_binned else 7))\n",
    "fig.subplots_adjust(hspace=0)\n",
    "\n",
    "time_mask = (lc.time.value >= plot_start) & (lc.time.value <= plot_end)\n",
    "if plot_binned:\n",
    "    lc_b = lke.bin_flux(lc, time_bin_size = 30 * u.minute)  # bin it to speed up SSO search\n",
    "    lc_b[(lc_b.time.value >= plot_start) & (lc_b.time.value <= plot_end)].scatter(ax=axs[0], label=lc.label + ' binned')\n",
    "\n",
    "if plot_sap_flux:\n",
    "    lc_sap[time_mask].scatter(column='sap_flux', ax=axs[-2], c='orange', label=lc.label + 'SAP')\n",
    "else:\n",
    "    lc[time_mask].scatter(ax=axs[-2], label=lc.label + ' PDCSAP')\n",
    "    \n",
    "lc_bkg = lke.get_bkg_lightcurve(lc)\n",
    "lc_bkg[time_mask].scatter(ax=axs[-1], color='gray')\n",
    "\n",
    "if True and search_start is not None:\n",
    "    for ax in axs:\n",
    "        ax.axvline(search_start, linestyle='--', c='r')\n",
    "        ax.axvline(search_end, linestyle='--', c='r')\n",
    "\n",
    "print('t0=', t0);"
   ]
  },
  {
   "cell_type": "markdown",
   "metadata": {},
   "source": [
    "### TPF Download\n",
    "<a name=\"tpf_download\">"
   ]
  },
  {
   "cell_type": "code",
   "execution_count": null,
   "metadata": {},
   "outputs": [],
   "source": [
    "# Google colab user: this cell will fail with SyntaxError in await\n",
    "# use the next cell instead.\n",
    "\n",
    "global tpf_task  # need to define it as global, otherwise UnboundLocalError would occur\n",
    "if tpf_task is None:\n",
    "    tpf_task = lke.create_download_tpf_task(f\"TIC{tic}\", sector=sector, exptime=\"short\", author='SPOC', mission=\"TESS\", download_dir=\"data\")\n",
    "# else the download has been previoulsy initiated (in \"Enter TIC\" section, no need to do it),\n",
    "#      no need to do it again\n",
    "\n",
    "try:\n",
    "    tpf_coll, sr_tpf = await tpf_task\n",
    "    display(sr_tpf)\n",
    "    \n",
    "    if tpf_coll is not None and len(tpf_coll) > 0: \n",
    "        tpf_original =  tpf_coll[0]\n",
    "        # data around a momentum dump is often very noisy, exclude them to avoid skewing subsequent plots\n",
    "        tpf = lket.MomentumDumpsAccessor.exclude_around(tpf_original, window_before=15/60/24, window_after=15/60/24)\n",
    "\n",
    "        print(tpf, \" , sector\", tpf.sector)\n",
    "        print(\"     time:\", tpf.time.min() , \"-\", tpf.time.max())\n",
    "        print(\"cadenceno:\", tpf.cadenceno.min() , \"-\", tpf.cadenceno.max())\n",
    "\n",
    "        lc = tpf.to_lightcurve().remove_outliers(sigma=8)\n",
    "        ax = lc.scatter();\n",
    "        tplt.plot_momentum_dumps(lc, ax)\n",
    "finally: \n",
    "    tplt.beep()\n",
    "    tpf_task = None  # once task result is consumed, reset it so that one can run it again in the next run"
   ]
  },
  {
   "cell_type": "markdown",
   "metadata": {},
   "source": [
    "### TPF Zoom in, deep eclipse\n",
    "<a name=\"tpf_zoom_in\">"
   ]
  },
  {
   "cell_type": "code",
   "execution_count": null,
   "metadata": {},
   "outputs": [],
   "source": [
    "ylim_func = lambda lc: (np.nanmin(lc.flux), np.nanmax(lc.flux))\n",
    "# ylim_func = lambda lc: (np.nanpercentile(lc.flux, 0.1), np.nanpercentile(lc.flux, 99.9))\n",
    "\n",
    "specs_idx, step_idx = 0, 0\n",
    "t0 = transit_specs[specs_idx][\"epoch\"]\n",
    "duration = transit_specs[specs_idx][\"duration_hr\"] / 24\n",
    "period = transit_specs[specs_idx][\"period\"]\n",
    "steps_to_show = transit_specs[specs_idx][\"steps_to_show\"]\n",
    "t0 = t0 + period * steps_to_show[step_idx]\n",
    "surround_time = duration * 2.5  \n",
    "\n",
    "plot_start, plot_end = t0 - duration / 2 - surround_time / 2,  t0 + duration /2 + surround_time / 2\n",
    "\n",
    "\n",
    "print('t0 =', t0);\n",
    "\n",
    "# zoomed in to the time around the dip \n",
    "tpf_trunc = tpf[(tpf.time.value >= plot_start) & (tpf.time.value <= plot_end)]  # for Lightkurve 2 API\n",
    "\n",
    "# zoom to arbitrary date range\n",
    "# tpf_trunc = tpf[(tpf.time >= tpf.time.min() + 3) & (tpf.time <= tpf.time.min() + 12)]\n",
    "\n",
    "if len(tpf_trunc) < 1:\n",
    "    display(HTML(\"\"\"<font style=\"background-color: red;\">WARNGING:</font> the truncated TPF is zero length. Sunsequent operations would fail.\"\"\"))\n",
    "\n",
    "\n",
    "if (tpf_trunc.time.max() - tpf_trunc.time.min()) > 3 * u.day:\n",
    "    display(HTML(('<span style=\"background-color: yellow\">Note:</span> The TPF spans over a long time. Consider to zoom in. Duration: '\n",
    "                  f'{(tpf_trunc.time.max() -tpf_trunc.time.min()).to(u.day)}')))\n",
    "\n",
    "if 'google.colab' in str(get_ipython()):\n",
    "    tpf_trunc.to_lightcurve().scatter();\n",
    "else: \n",
    "    tpf_trunc.interact(ylim_func=ylim_func,\n",
    "#                        aperture_mask=tpf.background_mask\n",
    "                       transform_func=tplt.normalize_percent,\n",
    "                       notebook_url=notebook_url,\n",
    "                      );"
   ]
  },
  {
   "cell_type": "code",
   "execution_count": null,
   "metadata": {
    "scrolled": false
   },
   "outputs": [],
   "source": [
    "tpf_mag = tpf_trunc.meta.get(\"TESSMAG\")\n",
    "print('Target magnitude: ', tpf_mag)\n",
    "magnitude_limit = tpf_mag + 8 if tpf_mag is not None else 18\n",
    "\n",
    "tplt.show_tpf_orientation(tpf)\n",
    "tplt.interact_sky(tpf_trunc, aperture_mask=\"pipeline\", magnitude_limit = magnitude_limit, notebook_url=notebook_url,);\n",
    "tplt.show_nearby_tic_summary_form();"
   ]
  },
  {
   "cell_type": "code",
   "execution_count": null,
   "metadata": {},
   "outputs": [],
   "source": [
    "pixel_size_inches, markersize = 1.0, 0.8\n",
    "fig = plt.figure(figsize=(tpf.flux[0].shape[1] * pixel_size_inches, tpf.flux[0].shape[0] * pixel_size_inches))\n",
    "ax = tpf_trunc.plot_pixels(ax=fig.gca(), aperture_mask=tpf_trunc.pipeline_mask, show_flux=True, markersize=markersize);\n",
    "tplt.beep();"
   ]
  },
  {
   "cell_type": "markdown",
   "metadata": {},
   "source": [
    "### TPF Zoom In, shallow eclipses"
   ]
  },
  {
   "cell_type": "code",
   "execution_count": null,
   "metadata": {},
   "outputs": [],
   "source": [
    "ylim_func = lambda lc: (np.nanmin(lc.flux), np.nanmax(lc.flux))\n",
    "# ylim_func = lambda lc: (np.nanpercentile(lc.flux, 0.1), np.nanpercentile(lc.flux, 99.9))\n",
    "\n",
    "specs_idx, step_idx = 1, 0\n",
    "t0 = transit_specs[specs_idx][\"epoch\"]\n",
    "duration = transit_specs[specs_idx][\"duration_hr\"] / 24\n",
    "period = transit_specs[specs_idx][\"period\"]\n",
    "steps_to_show = transit_specs[specs_idx][\"steps_to_show\"]\n",
    "t0 = t0 + period *  steps_to_show[step_idx]\n",
    "surround_time = duration * 2.5  \n",
    "\n",
    "\n",
    "plot_start, plot_end = t0 - duration / 2 - surround_time / 2,  t0 + duration /2 + surround_time / 2\n",
    "\n",
    "\n",
    "print('t0 =', t0);\n",
    "\n",
    "# zommed in to the time around the dip \n",
    "tpf_trunc = tpf[(tpf.time.value >= plot_start) & (tpf.time.value <= plot_end)]  # for Lightkurve 2 API\n",
    "\n",
    "# zoom to arbitrary date range\n",
    "# tpf_trunc = tpf[(tpf.time >= tpf.time.min() + 3) & (tpf.time <= tpf.time.min() + 12)]\n",
    "\n",
    "if len(tpf_trunc) < 1:\n",
    "    display(HTML(\"\"\"<font style=\"background-color: red;\">WARNGING:</font> the truncated TPF is zero length. Sunsequent operations would fail.\"\"\"))\n",
    "\n",
    "\n",
    "if (tpf_trunc.time.max() - tpf_trunc.time.min()) > 3 * u.day:\n",
    "    display(HTML(('<span style=\"background-color: yellow\">Note:</span> The TPF spans over a long time. Consider to zoom in. Duration: '\n",
    "                  f'{(tpf_trunc.time.max() -tpf_trunc.time.min()).to(u.day)}')))\n",
    "\n",
    "if 'google.colab' in str(get_ipython()):\n",
    "    tpf_trunc.to_lightcurve().scatter();\n",
    "else: \n",
    "    tpf_trunc.interact(ylim_func=ylim_func,\n",
    "#                        aperture_mask=tpf.background_mask\n",
    "                       transform_func=tplt.normalize_percent,\n",
    "                       notebook_url=notebook_url,\n",
    "                      );"
   ]
  },
  {
   "cell_type": "code",
   "execution_count": null,
   "metadata": {},
   "outputs": [],
   "source": [
    "fig = plt.figure(figsize=(tpf.flux[0].shape[1] * pixel_size_inches, tpf.flux[0].shape[0] * pixel_size_inches))\n",
    "ax = tpf_trunc.plot_pixels(ax=fig.gca(), aperture_mask=tpf_trunc.pipeline_mask, show_flux=True, markersize=markersize);\n",
    "tplt.beep();"
   ]
  },
  {
   "cell_type": "markdown",
   "metadata": {},
   "source": [
    "## Reports\n",
    "<a name=\"reports\"></a>"
   ]
  },
  {
   "cell_type": "code",
   "execution_count": null,
   "metadata": {},
   "outputs": [],
   "source": [
    "# Common elements for reports\n",
    "\n",
    "def get_mag_range_mag_text():\n",
    "    return f\"Mag. range: {flux_range_mag[0]:.2f} - {flux_range_mag[1]:.2f} TESS\"\n",
    "\n",
    "\n",
    "# Fill in for this target\n",
    "variable_type = \"to fill in \"  \n",
    "remarks = f\"{get_mag_range_mag_text()} .\"  # Eccentric, min II phase: {phase_shallow:.2f} .  Rotational period: {lc_add_var_f.meta['PERIOD']:.5f} .  Some flares.\n",
    "remarks_extra = \"\"  # optional extra detailed remarks. They do not go into VSX report\n",
    "\n",
    "# Common helpers, no need to modify\n",
    "def report_to_df(report):\n",
    "    df = pd.DataFrame()\n",
    "    df[\"Field\"] = report.keys()\n",
    "    df[\"Value\"] = report.values()\n",
    "    return df"
   ]
  },
  {
   "cell_type": "markdown",
   "metadata": {},
   "source": [
    "### EB Report \n",
    "<a name=\"eb_report\"></a>"
   ]
  },
  {
   "cell_type": "code",
   "execution_count": null,
   "metadata": {},
   "outputs": [],
   "source": [
    "obs_span_cycles = obs_span / transit_specs[0][\"period\"]\n",
    "sectors_all = \",\".join([str(s) for s in sr.table[\"sequence_number\"]])\n",
    "sectors_short_cadence = \",\".join([str(s) for s in sr[sr.author == \"SPOC\"].table[\"sequence_number\"]])  # it could include fast cadence in theory, but not relevant for our usage here.\n",
    "\n",
    "eb_report = dict(\n",
    "    tic_id=tic,\n",
    "    variable_type=variable_type,\n",
    "    period=transit_specs[0][\"period\"],\n",
    "    epoch_deep=transit_specs[0][\"epoch\"],\n",
    "    duration_hr_deep=transit_specs[0][\"duration_hr\"],\n",
    "    depth_deep=depth_deep,\n",
    "    epoch_shallow=transit_specs[1][\"epoch\"],\n",
    "    duration_hr_shallow=transit_specs[1][\"duration_hr\"],\n",
    "    depth_shallow=depth_shallow,\n",
    "    observation_span_days=obs_span,\n",
    "    observation_span_cycles=obs_span_cycles,\n",
    "    observation_actual_days=obs_actual_days,\n",
    "    observation_actual_cycles=obs_actual_cycles,\n",
    "    sectors=sectors_all,  # used to determine period, epoch, duration \n",
    "    sectors_short_cadence=sectors_short_cadence,  # used to deteremine depth\n",
    "    remarks=f\"{remarks} {remarks_extra}\",  \n",
    ")\n",
    "\n",
    "with pd.option_context('display.max_colwidth', None):\n",
    "    display(report_to_df(eb_report))"
   ]
  },
  {
   "cell_type": "markdown",
   "metadata": {},
   "source": [
    "### VSX Report\n",
    "<a name=\"vsx_report\"></a>"
   ]
  },
  {
   "cell_type": "code",
   "execution_count": null,
   "metadata": {},
   "outputs": [],
   "source": [
    "if len(all_meta.gaia) > 0:\n",
    "    target_ra = all_meta.gaia['RAdeg'].iloc[0]\n",
    "    target_dec = all_meta.gaia['DEdeg'].iloc[0]\n",
    "    target_position = f\"{target_ra}, {target_dec}\"\n",
    "    target_position_src = \"Gaia DR3\"\n",
    "else:\n",
    "    print(\"No Gaia DR3 position available. Use custom one\")\n",
    "    target_position = \"to fill in\"\n",
    "    target_position_src = \"to fill in\"\n",
    "\n",
    "    \n",
    "# heuristics to determine primary name for VSX\n",
    "if len(all_meta.vsx) > 0:\n",
    "    print(\"INFO: case updating an existing VSX entry. Use existing primary name\")\n",
    "    primary_name = all_meta.vsx[\"Name\"].iloc[0]\n",
    "elif len(all_meta.simbad) > 0:\n",
    "    primary_name = all_meta.simbad[\"MAIN_ID\"].iloc[0]\n",
    "elif len(all_meta.asas_sn) > 0:\n",
    "    primary_name = all_meta.asas_sn[\"ASASSN-V\"].iloc[0]\n",
    "else:\n",
    "    primary_name = \"to fill in\"\n",
    "    \n",
    "\n",
    "other_names = \"[to fill in]\"\n",
    "\n",
    "\n",
    "# include Gaia DR3 ID if it is in Gaia DR3 Variable\n",
    "extra_names_gaia_dr3 = \"\"\n",
    "if len(all_meta.gaia) > 0 and not pd.isna(all_meta.gaia[\"Class\"].iloc[0]):\n",
    "    extra_names_gaia_dr3 = f\",Gaia DR3 {all_meta.gaia['Source'].iloc[0]}\"\n",
    "\n",
    "\n",
    "def summarize_shallow_eclipse():\n",
    "    return (f\"Min II epoch: {lket.btjd_to_hjd_utc(transit_specs[1]['epoch'], target_position):.4f}\"\n",
    "            f\", duration: {transit_specs[1]['duration_hr'] * 24 / transit_specs[1]['period']:.2f}%\"\n",
    "            f\", amplitude: {lke.ratio_to_mag(depth_shallow):.3f} .\")\n",
    "\n",
    "BIBS = vetting_utils.BIBS\n",
    "\n",
    "vsx_report = dict(\n",
    "    Position=target_position,\n",
    "    Primary_Name=primary_name,\n",
    "    Other_Names=f\"TIC {tic}{other_names}{extra_names_gaia_dr3}\",  # addition to existing ones for updates\n",
    "    Variable_Type=variable_type,\n",
    "    Spectral_Type=\"[to fill in]\",  # based on to fill in\n",
    "    Spectral_Type_Uncertain=True,\n",
    "    Maximum_Magnitude=, # to fill in, either mean mag, or max mag of the range\n",
    "    Maximum_Magnitude_band=\"V\",\n",
    "    Minimum_Magnitude=f\"{lke.ratio_to_mag(depth_deep):.3f}\",\n",
    "    Minimum_Magnitude_band=\"TESS\",\n",
    "    Minimum_Is_Amplitude=True,\n",
    "    Period=f\"{transit_specs[0]['period']:.5f}\",\n",
    "    Epoch=f\"{lket.btjd_to_hjd_utc(transit_specs[0]['epoch'], target_position):.4f}\",\n",
    "    Rise_Duration_Pct=f\"{transit_specs[0]['duration_hr'] * 24 / transit_specs[0]['period']:.2f}\",  \n",
    "    Discoverer=\"\", \n",
    "    Remarks=f\"{summarize_shallow_eclipse()}  {remarks}\",\n",
    "    Revision_Comment=f\"Mean V magnitude from [to fill in] . {target_position_src} position . Spectral type from [to fill in]. TCE for contamination diagnostics. \",\n",
    "    Reference1_Name=BIBS.TESS_N,\n",
    "    Reference1_Bib=BIBS.TESS_B,\n",
    "    Reference2_Name=BIBS.QLP_N,\n",
    "    Reference2_Bib=BIBS.QLP_B,\n",
    "    Reference3_Name=BIBS.TCE_N,\n",
    "    Reference3_Link=\"[to fill in]\",\n",
    "    Reference4_Name=BIBS.ASAS_SN_N,\n",
    "    Reference4_Bib=BIBS.ASAS_SN_B,\n",
    "    Reference5_Name=BIBS.GAIA_DR3_N,\n",
    "    Reference5_Bib=BIBS.GAIA_DR3_B,\n",
    "    Reference6_Name=BIBS.GAIA_DR3_VAR_N,\n",
    "    Reference6_Bib=BIBS.GAIA_DR3_VAR_B,\n",
    "    Reference7_Name=BIBS.TIC_N,\n",
    "    Reference7_Bib=BIBS.TIC_B,\n",
    "    Reference8_Name=BIBS.TESSEB_N,\n",
    "    Reference8_Bib=BIBS.TESSEB_B,\n",
    "    Reference9_Name=BIBS.TESSEB_LIVE_N,\n",
    "    Reference9_Link=vetting_utils.get_tesseb_live_url_of_tic(tic),    \n",
    ")\n",
    "\n",
    "def print_long_fields(report):\n",
    "    other_names_list = report[\"Other_Names\"].split(\",\")\n",
    "    print(\"Other Names (1 line each):\")\n",
    "    print(\"\\n\".join(other_names_list))\n",
    "    print(\"\")\n",
    "    print(report[\"Remarks\"])\n",
    "    print(\"\")\n",
    "    print(report[\"Revision_Comment\"])\n",
    "\n",
    "print_long_fields(vsx_report)\n",
    "with pd.option_context('display.max_colwidth', None):\n",
    "    display(report_to_df(vsx_report))"
   ]
  },
  {
   "cell_type": "code",
   "execution_count": null,
   "metadata": {},
   "outputs": [],
   "source": [
    "# Phase plot - deep eclipse\n",
    "\n",
    "# use all LCs  to see better ensure the period is good\n",
    "lc = lke.stitch(lcf_coll, corrector_func=tplt.normalize_percent, ignore_incompatible_column_warning=True)\n",
    "\n",
    "period = transit_specs[0][\"period\"]\n",
    "t0_p = transit_specs[0][\"epoch\"]\n",
    "duration_p = transit_specs[0][\"duration_hr\"] / 24\n",
    "\n",
    "figsize = (12, 5)\n",
    "\n",
    "lc_f = lc.fold(epoch_time=t0_p, period=period)\n",
    "lc_f = lke.to_flux_in_mag_by_normalization(lc_f)\n",
    "ax, ax_p = tplt.plot_n_annotate_folded(lc_f, figsize=figsize, also_plot_zoom_transit=True, duration=duration_p)\n",
    "ax_p.set_title(\"Primary eclipse\");\n"
   ]
  },
  {
   "cell_type": "code",
   "execution_count": null,
   "metadata": {},
   "outputs": [],
   "source": [
    "# Phase plot - deep eclipse, usinf detrended lightcurve\n",
    "figsize = (12, 5)\n",
    "\n",
    "# lc_ff_deep, folded, flattened deep eclipses from eclipse depth section\n",
    "lc_f = lke.to_flux_in_mag_by_normalization(lc_ff_deep)\n",
    "ax, ax_p = tplt.plot_n_annotate_folded(lc_f, figsize=figsize, also_plot_zoom_transit=True, duration=duration_p)\n",
    "ax_p.set_title(\"Primary eclipse, detrended\");"
   ]
  },
  {
   "cell_type": "code",
   "execution_count": null,
   "metadata": {},
   "outputs": [],
   "source": [
    "# Phase plot - shallow eclipse\n",
    "\n",
    "period = transit_specs[1][\"period\"]\n",
    "t0_s = transit_specs[1][\"epoch\"]\n",
    "duration_s = transit_specs[1][\"duration_hr\"] / 24\n",
    "\n",
    "figsize = (12, 5)\n",
    "\n",
    "lc_f = lc.fold(epoch_time=t0_s, period=period)\n",
    "lc_f = lke.to_flux_in_mag_by_normalization(lc_f)\n",
    "ax, ax_s = tplt.plot_n_annotate_folded(lc_f, figsize=figsize, also_plot_zoom_transit=True, duration=duration_s)\n",
    "ax_s.set_title(\"Secondary eclipse\");\n",
    "# make secondary eclipse zoom plot use the same scale as the primary\n",
    "ax_s.set_ylim(ax_p.get_ylim()[0], ax_p.get_ylim()[1]);\n",
    "ax_s.set_xlim(ax_p.get_xlim()[0], ax_p.get_xlim()[1]);"
   ]
  },
  {
   "cell_type": "code",
   "execution_count": null,
   "metadata": {},
   "outputs": [],
   "source": [
    "# Phase plot - shallow eclipse, detrended lightcurve\n",
    "\n",
    "# lc_ff_shallow: folded, flattened for shallow eclipses from eclipse depth section\n",
    "lc_f = lke.to_flux_in_mag_by_normalization(lc_ff_shallow)\n",
    "ax, ax_s = tplt.plot_n_annotate_folded(lc_f, figsize=figsize, also_plot_zoom_transit=True, duration=duration_s)\n",
    "ax_s.set_title(\"Secondary eclipse, detrended\");\n",
    "# make secondary eclipse zoom plot use the same scale as the primary\n",
    "ax_s.set_ylim(ax_p.get_ylim()[0], ax_p.get_ylim()[1]);\n",
    "ax_s.set_xlim(ax_p.get_xlim()[0], ax_p.get_xlim()[1]);"
   ]
  },
  {
   "cell_type": "code",
   "execution_count": null,
   "metadata": {},
   "outputs": [],
   "source": [
    "# Phase Plot - additional variability\n",
    "\n",
    "lc_f = lke.to_flux_in_mag_by_normalization(lc_add_var_f)\n",
    "\n",
    "ax = tplt.lk_ax(figsize=figsize)\n",
    "ax = tplt.scatter(lc_f, ax=ax, alpha=1.0, s=0.5);\n",
    "ax.set_title(f\"{lc.label} folded, eclipses masked, period={lc_f.period:.5f}\");"
   ]
  },
  {
   "cell_type": "markdown",
   "metadata": {},
   "source": [
    "## External Supporting Information\n",
    "<a name=\"external_docs\">"
   ]
  },
  {
   "cell_type": "markdown",
   "metadata": {},
   "source": [
    "#### TCEs\n",
    "\n",
    "- Many, representative ones: \n",
    "  - [to fill in](https://dummy) : primary eclipses\n",
    "  \n",
    "- They show the centroid is on target, e.g., to fill in\n",
    "\n",
    "#### TESS EB, ASAS-SN, Gaia DR3\n",
    "\n",
    "- see section [Variability from other catalogs](#meta_other_catalogs)\n",
    "- fill in: additional notes, if needed.\n"
   ]
  }
 ],
 "metadata": {
  "kernelspec": {
   "display_name": "Python 3 (ipykernel)",
   "language": "python",
   "name": "python3"
  },
  "language_info": {
   "codemirror_mode": {
    "name": "ipython",
    "version": 3
   },
   "file_extension": ".py",
   "mimetype": "text/x-python",
   "name": "python",
   "nbconvert_exporter": "python",
   "pygments_lexer": "ipython3",
   "version": "3.10.8"
  },
  "vscode": {
   "interpreter": {
    "hash": "cf14734aefd952c101fa7a730b7e28a3f566541dc5a8dc5204d96dcd505be75c"
   }
  }
 },
 "nbformat": 4,
 "nbformat_minor": 2
}
