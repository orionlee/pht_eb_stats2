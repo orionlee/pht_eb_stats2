{
 "cells": [
  {
   "cell_type": "code",
   "execution_count": 1,
   "metadata": {
    "scrolled": true
   },
   "outputs": [
    {
     "data": {
      "text/html": [
       "<style>.container { width:99% !important; }</style>"
      ],
      "text/plain": [
       "<IPython.core.display.HTML object>"
      ]
     },
     "metadata": {},
     "output_type": "display_data"
    },
    {
     "data": {
      "text/html": [
       "<style>.jp-Notebook { --jp-notebook-max-width: 98%; }</style>"
      ],
      "text/plain": [
       "<IPython.core.display.HTML object>"
      ]
     },
     "metadata": {},
     "output_type": "display_data"
    },
    {
     "data": {
      "application/javascript": [
       "\n",
       "// export notebook url to Python for bokeh-based interactive features\n",
       "if (window[\"IPython\"] != null) {\n",
       "  IPython.notebook.kernel.execute(`notebook_url = \"${window.location.origin}\"`);\n",
       "} else {\n",
       "  console.warn(\"IPython js object not available (in Jupyter 7). Hardcode notebook_url in the notebook itself instead.\")\n",
       "}\n"
      ],
      "text/plain": [
       "<IPython.core.display.Javascript object>"
      ]
     },
     "metadata": {},
     "output_type": "display_data"
    }
   ],
   "source": [
    "import lightkurve as lk\n",
    "from lightkurve_ext import of_sector, of_sectors, of_2min_cadences, of_lcs\n",
    "import lightkurve_ext as lke\n",
    "import lightkurve_ext_tess as lket\n",
    "import tic_plot as tplt\n",
    "from lightkurve_ext import TransitTimeSpec, TransitTimeSpecList\n",
    "import lightkurve_ext_pg as lke_pg\n",
    "import lightkurve_ext_pg_runner as lke_pg_runner\n",
    "\n",
    "import asyncio_compat\n",
    "\n",
    "import math\n",
    "import time\n",
    "from types import SimpleNamespace\n",
    "import warnings\n",
    "\n",
    "import numpy as np\n",
    "import matplotlib.pyplot as plt\n",
    "import matplotlib as matplotlib\n",
    "\n",
    "import pandas as pd\n",
    "import astropy as astropy\n",
    "from astropy import units as u\n",
    "from astropy.time import Time\n",
    "from astropy.io import fits\n",
    "\n",
    "from matplotlib.ticker import (FormatStrFormatter, AutoMinorLocator)\n",
    "\n",
    "import sys\n",
    "if \"../src\" not in sys.path:\n",
    "    sys.path.append(\"../src\")\n",
    "\n",
    "import catalog_utils  # from ../src , for accessing various metadata about a TIC\n",
    "\n",
    "import vetting_utils  # helpers specific for vetting\n",
    "\n",
    "import dashboard_utils  # from ../src, for HD diagram\n",
    "\n",
    "from importlib import reload # useful during development to reload packages\n",
    "\n",
    "from IPython.display import display, HTML, Javascript, Markdown\n",
    "display(HTML(\"<style>.container { width:99% !important; }</style>\"))  # Jupyter 6\n",
    "display(HTML(\"<style>.jp-Notebook { --jp-notebook-max-width: 98%; }</style>\"))  # Jupyter 7\n",
    "\n",
    "# No longer works in Jupyter 7+\n",
    "display(Javascript(\"\"\"\n",
    "// export notebook url to Python for bokeh-based interactive features\n",
    "if (window[\"IPython\"] != null) {\n",
    "  IPython.notebook.kernel.execute(`notebook_url = \"${window.location.origin}\"`);\n",
    "} else {\n",
    "  console.warn(\"IPython js object not available (in Jupyter 7). Hardcode notebook_url in the notebook itself instead.\")\n",
    "}\n",
    "\"\"\"));\n",
    "# notebook_url = \"localhost:8889\"\n",
    "\n",
    "%matplotlib inline"
   ]
  },
  {
   "cell_type": "code",
   "execution_count": 2,
   "metadata": {},
   "outputs": [
    {
     "data": {
      "application/javascript": [
       "function isNBClassic() {\n",
       "    // In Classic Notebook (Jupyter 6 or older), class notebook_app is in <body>\n",
       "    return document.body.classList.contains('notebook_app');\n",
       "}\n",
       "\n",
       "// Add a sidebar UI\n",
       "function addSideNav() {\n",
       "    let ctr = document.getElementById('nav-ctr');\n",
       "    if (ctr) { ctr.remove(); }\n",
       "    const sections = [\n",
       "        ['#input-tic', 'Enter TIC...'],\n",
       "        ['#tic-metadata', ['TIC Metadata']],\n",
       "        ['#lc-all', 'Lightcurves - all'],\n",
       "        ['#lc-interactive', 'Interactive'],\n",
       "        ['#lc-zoomed-in', 'Zoomed-in'],\n",
       "        ['#lc-fold', 'Folded LC'],\n",
       "        ['#lc-period', \"Add. Variability\"],\n",
       "        ['#lc-background-sso', 'Background'],\n",
       "        ['#tpf_download', 'TPF Download'],\n",
       "        ['#tpf_zoom_in', 'TPF Zoom in'],\n",
       "        ['#reports', 'Reports'],\n",
       "        ['#external_docs', \"External Info\"]\n",
       "    ];\n",
       "    // avoid and arrow functions and string with backslash n\n",
       "    // they cause parsing failure with jupyter's display(HTML())\n",
       "    function toASection(sec) {\n",
       "      return `              <li><a href=\"${sec[0]}\">${sec[1]}</a></li>`;\n",
       "    }\n",
       "    const sectionsHTML =\n",
       "        sections.map(toASection).join(`\n",
       "`);\n",
       "    document.body.insertAdjacentHTML('beforeend', `\n",
       "<div id=\"nav-ctr\">\n",
       "    <style>\n",
       "        #nav-side {\n",
       "            position: fixed; right: 2.5vh; top: 2.5em; z-index: 999;\n",
       "            background-color: #feefc3; border: 1px solid lightgray; border-radius: 10%;\n",
       "            padding: 0.25em 2ch 0.25em 0.5ch;\n",
       "        }\n",
       "        #nav-side.expand {\n",
       "            padding: 0.25em 2ch;\n",
       "        }\n",
       "        #nav-side-expand {\n",
       "            display: none;\n",
       "        }\n",
       "        .expand #nav-side-expand {\n",
       "            display: block;\n",
       "        }\n",
       "        #nav-side-ctl-hideshow:before {\n",
       "            content: \"<<\";\n",
       "        }\n",
       "        .expand #nav-side-ctl-hideshow:before {\n",
       "            content: \">>\";\n",
       "        }\n",
       "\n",
       "        #nav-side-expand ol {\n",
       "            margin-left: 4ch;\n",
       "            padding-left: 0;\n",
       "        }\n",
       "    </style>\n",
       "    <div id=\"nav-side\" class=\"expand\"\n",
       "         style=\"\">\n",
       "        <div id=\"nav-side-ctl-hideshow\" style=\"float: right; cursor: pointer;\" onclick=\"this.parentElement.classList.toggle('expand');\"></div>\n",
       "        <div id=\"nav-side-expand\">\n",
       "            <div>\n",
       "                Jump to:\n",
       "                <ol>\n",
       "    ${sectionsHTML}\n",
       "                </ol>\n",
       "            </div>\n",
       "            <div title=\"Control where the TIC Metadata is displayed, if available\">\n",
       "                TIC Metadata Output:<br>\n",
       "                <button id=\"tic_metadata_run_ctl\" accesskey=\"R\" style=\"font-size: 80%\">&nbsp;<u>R</u>un&nbsp;</button>&emsp;\n",
       "                <button id=\"tic_metadata_float_fixed_toggle_2\" accesskey=\"T\" style=\"font-size: 80%;\"\n",
       "                        title=\"Toggle TIC Metadata as a floating table. Shortcut: Alt-T\"\n",
       "                        >Floa<u>T</u></button>\n",
       "            </div>\n",
       "        </div>\n",
       "    </div>\n",
       "</div>\n",
       "`);\n",
       "\n",
       "    // Assign keyboard shortcut to jump to the sections, Alt-1, 2, etc.\n",
       "    Array.from(document.querySelectorAll('#nav-side-expand li > a'), (a, i) => {\n",
       "        if (i <= 8) {\n",
       "          a.accessKey = i + 1;\n",
       "        }\n",
       "        // special cases for frequently used TPF sections (they are in the 10s)\n",
       "        if (a.getAttribute('href') == '#tpf_download') {\n",
       "            a.accessKey = \"A\";\n",
       "            a.title = \"Shortcut: Alt-A\";\n",
       "        }\n",
       "        if (a.getAttribute('href') == '#tpf_zoom_in') {\n",
       "            a.accessKey = \"B\";\n",
       "            a.title = \"Shortcut: Alt-B\";\n",
       "        }\n",
       "    });\n",
       "\n",
       "    // single-click an anchor to enter the input area.\n",
       "    // (User still need to press enter so that the cursor is in the cell)\n",
       "    document.getElementById('nav-side-expand').onclick = function(evt) {\n",
       "        if (evt.target.tagName != 'A') { return; }\n",
       "        const anchor = evt.target.getAttribute('href').replace(/^#/, '');\n",
       "        let cell = document.querySelector(`a[name=\"${anchor}\"]`).parentElement.parentElement.parentElement.nextElementSibling.querySelector('.input_area'); // for Jupyter 6\n",
       "        if (!cell) {\n",
       "            cell = document.querySelector(`a[name=\"${anchor}\"]`).parentElement.parentElement.parentElement.parentElement.nextElementSibling.querySelector('.jp-InputArea .jp-InputArea-editor .cm-editor .cm-content'); // Jupyter 7+\n",
       "        }\n",
       "        if (cell) {\n",
       "            cell.scrollIntoView();\n",
       "            cell.focus();\n",
       "            cell.click();\n",
       "        } else {\n",
       "            console.warn(`Jump to ${anchor} failed. Cannot find the expected input area.`);\n",
       "        }\n",
       "        evt.preventDefault();\n",
       "    };\n",
       "\n",
       "    // douuble-click an anchor to jump to the output\n",
       "    document.getElementById('nav-side-expand').ondblclick = function(evt) {\n",
       "        if (evt.target.tagName != 'A') { return; }\n",
       "        const anchor = evt.target.getAttribute('href').replace(/^#/, '');\n",
       "        let cell = document.querySelector(`a[name=\"${anchor}\"]`).parentElement.parentElement.parentElement.nextElementSibling.querySelector('.output');  // Jupyter 6\n",
       "        if (!cell) {\n",
       "            cell = document.querySelector(`a[name=\"${anchor}\"]`).parentElement.parentElement.parentElement.parentElement.nextElementSibling.querySelector('.jp-Cell-outputArea');  // Jupyter 7\n",
       "        }\n",
       "        if (cell) {\n",
       "            cell.scrollIntoView();\n",
       "        } else {\n",
       "            console.warn(`Jump to ${anchor} failed. Cannot find the expected output area.`);\n",
       "        }\n",
       "        evt.preventDefault();\n",
       "    };\n",
       "\n",
       "\n",
       "    // Run TIC Metadata cell\n",
       "    function runTicMetadataCell() {\n",
       "        if (isNBClassic()) {\n",
       "            const ticMetaCellCtr = document.getElementById('TIC-Metadata').parentElement.parentElement.parentElement.nextElementSibling;\n",
       "            ticMetaCellCtr.querySelector('.run_this_cell').click();\n",
       "            ticMetaCellCtr.scrollIntoView();\n",
       "        } else { // Jupyter 7\n",
       "            const ticMetaCellCtr = document.getElementById('TIC-Metadata').parentElement.parentElement.parentElement.parentElement.nextElementSibling;\n",
       "            // OPEN: In Jupyter 7, there is no equivalent of 'run_this_cell.click()\n",
       "            // so I only scroll to the container and select it for now.\n",
       "            // emulating Ctrl-Enter (to run the cell) does not work\n",
       "            ticMetaCellCtr.scrollIntoView();\n",
       "            ticMetaCellCtr.querySelector('.jp-InputArea-editor .cm-editor .cm-content').focus();\n",
       "            /// const keyEvt = new KeyboardEvent(\"keypress\", { \"code\": \"Enter\", \"ctrlKey\": true,});\n",
       "            /// ticMetaCellCtr.querySelector('.jp-InputArea-editor .cm-editor .cm-content').dispatchEvent(keyEvt);\n",
       "        }\n",
       "    }\n",
       "\n",
       "    document.getElementById('tic_metadata_run_ctl').onclick = runTicMetadataCell;\n",
       "\n",
       "    // Making TIC Metadata output as a floating box\n",
       "    // In Jupyter 7,  simply styling the div#tic_metadata_ctr as fixed is insufficient\n",
       "    // (it's fixed with respect with some ancestor,  rather than the screen)\n",
       "    // So it's reimplemented as copying the HTML to a dedicated fixed container\n",
       "    // to create the illustion of a floating box.\n",
       "    //\n",
       "    function initTicMetaDataFixedStyle() {\n",
       "      const styleCtr = document.getElementById('tic_metadata_fixed_style');\n",
       "      if (styleCtr) {\n",
       "        styleCtr.remove();\n",
       "      }\n",
       "      document.head.insertAdjacentHTML('beforeend', `<style id=\"tic_metadata_fixed_style\">\n",
       "    #tic_metadata_fixed_ctr {\n",
       "        position: fixed;\n",
       "        bottom: 12px;\n",
       "        right: 36px;\n",
       "        z-index: 990;  /* below the #nav-ctr */\n",
       "        background-color: rgba(255, 255, 0, 0.3);\n",
       "        padding: 6px;\n",
       "        max-height: 75vh;  /* ensure for TIC with large number of TCEs, the floating box won't fill up too much vetical space */\n",
       "        overflow-y: scroll;\n",
       "        max-width: 50vw;  /* ensure the floating box won't fill up too much horizontal space */\n",
       "        overflow-x: scroll;\n",
       "    }\n",
       "    #tic_metadata_fixed_ctr:hover { /* on hover, make it stand out more by decreasing transparency */\n",
       "        background-color: rgba(255, 255, 127, 0.9);\n",
       "    }\n",
       "    </style>`);\n",
       "    }\n",
       "\n",
       "    function copyTICMetaDataToFixed() {\n",
       "      const srcCtr = document.getElementById(\"tic_metadata_ctr\");\n",
       "      if (!srcCtr) {\n",
       "        console.debug('copyTICMetaDataToFixed(): no source TIC Metadata. No-Op.');\n",
       "        return false;\n",
       "      }\n",
       "\n",
       "      let destCtr = document.getElementById(\"tic_metadata_fixed_ctr\");\n",
       "      if (destCtr) {\n",
       "        destCtr.remove();\n",
       "      }\n",
       "      // the css classes are for emulating Jupyter's styling for tables\n",
       "      // Jupyter 7: jp-OutputArea-output jp-RenderedHTMLCommon jp-RenderedHTML\n",
       "      // Jupyter 6: rendered_html\n",
       "      document.body.insertAdjacentHTML('beforeend', `\n",
       "      <div id=\"tic_metadata_fixed_ctr\">\n",
       "          <div id=\"tic_metadata_fixed_out\" class=\"jp-OutputArea-output jp-RenderedHTMLCommon jp-RenderedHTML rendered_html\"></div>\n",
       "      </div>`);\n",
       "      destCtr = document.getElementById(\"tic_metadata_fixed_out\");\n",
       "\n",
       "      destCtr.innerHTML = srcCtr.innerHTML;\n",
       "      return true;\n",
       "    }\n",
       "\n",
       "    function initTicMetaDataOutputUiControls() {\n",
       "        initTicMetaDataFixedStyle();\n",
       "        // implement the hide/show button\n",
       "        document.getElementById(\"tic_metadata_float_fixed_toggle_2\").onclick = function(evt) {\n",
       "            // TODO: to see if I can avoid removing it\n",
       "            if (document.getElementById(\"tic_metadata_fixed_ctr\")) {\n",
       "                // case it's a floating box,  hide it\n",
       "                // for now, it's done by removing it.\n",
       "                document.getElementById(\"tic_metadata_fixed_ctr\").remove();\n",
       "\n",
       "                document.getElementById(\"tic_metadata_float_fixed_toggle_2\").innerHTML = \"Floa<u>T</u>\";\n",
       "            } else {\n",
       "                // case no floating box,  show it\n",
       "                const success = copyTICMetaDataToFixed()\n",
       "                if (success) {\n",
       "                    document.getElementById(\"tic_metadata_float_fixed_toggle_2\").innerHTML = \"Defaul<u>T</u>\";\n",
       "                }\n",
       "            }\n",
       "        };\n",
       "    }\n",
       "    initTicMetaDataOutputUiControls(); // init the button\n",
       "} // function addSideNav()\n",
       "addSideNav();\n"
      ],
      "text/plain": [
       "<IPython.core.display.Javascript object>"
      ]
     },
     "metadata": {},
     "output_type": "display_data"
    }
   ],
   "source": [
    "%%javascript\n",
    "function isNBClassic() {\n",
    "    // In Classic Notebook (Jupyter 6 or older), class notebook_app is in <body>\n",
    "    return document.body.classList.contains('notebook_app');\n",
    "}\n",
    "\n",
    "// Add a sidebar UI\n",
    "function addSideNav() {\n",
    "    let ctr = document.getElementById('nav-ctr');\n",
    "    if (ctr) { ctr.remove(); }\n",
    "    const sections = [\n",
    "        ['#input-tic', 'Enter TIC...'],\n",
    "        ['#tic-metadata', ['TIC Metadata']],\n",
    "        ['#lc-all', 'Lightcurves - all'],\n",
    "        ['#lc-interactive', 'Interactive'],\n",
    "        ['#lc-zoomed-in', 'Zoomed-in'],\n",
    "        ['#lc-fold', 'Folded LC'],\n",
    "        ['#lc-period', \"Add. Variability\"],\n",
    "        ['#lc-background-sso', 'Background'],\n",
    "        ['#tpf_download', 'TPF Download'],\n",
    "        ['#tpf_zoom_in', 'TPF Zoom in'],\n",
    "        ['#reports', 'Reports'],\n",
    "        ['#external_docs', \"External Info\"]\n",
    "    ];\n",
    "    // avoid and arrow functions and string with backslash n\n",
    "    // they cause parsing failure with jupyter's display(HTML())\n",
    "    function toASection(sec) {\n",
    "      return `              <li><a href=\"${sec[0]}\">${sec[1]}</a></li>`;\n",
    "    }\n",
    "    const sectionsHTML =\n",
    "        sections.map(toASection).join(`\n",
    "`);\n",
    "    document.body.insertAdjacentHTML('beforeend', `\n",
    "<div id=\"nav-ctr\">\n",
    "    <style>\n",
    "        #nav-side {\n",
    "            position: fixed; right: 2.5vh; top: 2.5em; z-index: 999;\n",
    "            background-color: #feefc3; border: 1px solid lightgray; border-radius: 10%;\n",
    "            padding: 0.25em 2ch 0.25em 0.5ch;\n",
    "        }\n",
    "        #nav-side.expand {\n",
    "            padding: 0.25em 2ch;\n",
    "        }\n",
    "        #nav-side-expand {\n",
    "            display: none;\n",
    "        }\n",
    "        .expand #nav-side-expand {\n",
    "            display: block;\n",
    "        }\n",
    "        #nav-side-ctl-hideshow:before {\n",
    "            content: \"<<\";\n",
    "        }\n",
    "        .expand #nav-side-ctl-hideshow:before {\n",
    "            content: \">>\";\n",
    "        }\n",
    "\n",
    "        #nav-side-expand ol {\n",
    "            margin-left: 4ch;\n",
    "            padding-left: 0;\n",
    "        }\n",
    "    </style>\n",
    "    <div id=\"nav-side\" class=\"expand\"\n",
    "         style=\"\">\n",
    "        <div id=\"nav-side-ctl-hideshow\" style=\"float: right; cursor: pointer;\" onclick=\"this.parentElement.classList.toggle('expand');\"></div>\n",
    "        <div id=\"nav-side-expand\">\n",
    "            <div>\n",
    "                Jump to:\n",
    "                <ol>\n",
    "    ${sectionsHTML}\n",
    "                </ol>\n",
    "            </div>\n",
    "            <div title=\"Control where the TIC Metadata is displayed, if available\">\n",
    "                TIC Metadata Output:<br>\n",
    "                <button id=\"tic_metadata_run_ctl\" accesskey=\"R\" style=\"font-size: 80%\">&nbsp;<u>R</u>un&nbsp;</button>&emsp;\n",
    "                <button id=\"tic_metadata_float_fixed_toggle_2\" accesskey=\"T\" style=\"font-size: 80%;\"\n",
    "                        title=\"Toggle TIC Metadata as a floating table. Shortcut: Alt-T\"\n",
    "                        >Floa<u>T</u></button>\n",
    "            </div>\n",
    "        </div>\n",
    "    </div>\n",
    "</div>\n",
    "`);\n",
    "\n",
    "    // Assign keyboard shortcut to jump to the sections, Alt-1, 2, etc.\n",
    "    Array.from(document.querySelectorAll('#nav-side-expand li > a'), (a, i) => {\n",
    "        if (i <= 8) {\n",
    "          a.accessKey = i + 1;\n",
    "        }\n",
    "        // special cases for frequently used TPF sections (they are in the 10s)\n",
    "        if (a.getAttribute('href') == '#tpf_download') {\n",
    "            a.accessKey = \"A\";\n",
    "            a.title = \"Shortcut: Alt-A\";\n",
    "        }\n",
    "        if (a.getAttribute('href') == '#tpf_zoom_in') {\n",
    "            a.accessKey = \"B\";\n",
    "            a.title = \"Shortcut: Alt-B\";\n",
    "        }\n",
    "    });\n",
    "\n",
    "    // single-click an anchor to enter the input area.\n",
    "    // (User still need to press enter so that the cursor is in the cell)\n",
    "    document.getElementById('nav-side-expand').onclick = function(evt) {\n",
    "        if (evt.target.tagName != 'A') { return; }\n",
    "        const anchor = evt.target.getAttribute('href').replace(/^#/, '');\n",
    "        let cell = document.querySelector(`a[name=\"${anchor}\"]`).parentElement.parentElement.parentElement.nextElementSibling.querySelector('.input_area'); // for Jupyter 6\n",
    "        if (!cell) {\n",
    "            cell = document.querySelector(`a[name=\"${anchor}\"]`).parentElement.parentElement.parentElement.parentElement.nextElementSibling.querySelector('.jp-InputArea .jp-InputArea-editor .cm-editor .cm-content'); // Jupyter 7+\n",
    "        }\n",
    "        if (cell) {\n",
    "            cell.scrollIntoView();\n",
    "            cell.focus();\n",
    "            cell.click();\n",
    "        } else {\n",
    "            console.warn(`Jump to ${anchor} failed. Cannot find the expected input area.`);\n",
    "        }\n",
    "        evt.preventDefault();\n",
    "    };\n",
    "\n",
    "    // douuble-click an anchor to jump to the output\n",
    "    document.getElementById('nav-side-expand').ondblclick = function(evt) {\n",
    "        if (evt.target.tagName != 'A') { return; }\n",
    "        const anchor = evt.target.getAttribute('href').replace(/^#/, '');\n",
    "        let cell = document.querySelector(`a[name=\"${anchor}\"]`).parentElement.parentElement.parentElement.nextElementSibling.querySelector('.output');  // Jupyter 6\n",
    "        if (!cell) {\n",
    "            cell = document.querySelector(`a[name=\"${anchor}\"]`).parentElement.parentElement.parentElement.parentElement.nextElementSibling.querySelector('.jp-Cell-outputArea');  // Jupyter 7\n",
    "        }\n",
    "        if (cell) {\n",
    "            cell.scrollIntoView();\n",
    "        } else {\n",
    "            console.warn(`Jump to ${anchor} failed. Cannot find the expected output area.`);\n",
    "        }\n",
    "        evt.preventDefault();\n",
    "    };\n",
    "\n",
    "\n",
    "    // Run TIC Metadata cell\n",
    "    function runTicMetadataCell() {\n",
    "        if (isNBClassic()) {\n",
    "            const ticMetaCellCtr = document.getElementById('TIC-Metadata').parentElement.parentElement.parentElement.nextElementSibling;\n",
    "            ticMetaCellCtr.querySelector('.run_this_cell').click();\n",
    "            ticMetaCellCtr.scrollIntoView();\n",
    "        } else { // Jupyter 7\n",
    "            const ticMetaCellCtr = document.getElementById('TIC-Metadata').parentElement.parentElement.parentElement.parentElement.nextElementSibling;\n",
    "            // OPEN: In Jupyter 7, there is no equivalent of 'run_this_cell.click()\n",
    "            // so I only scroll to the container and select it for now.\n",
    "            // emulating Ctrl-Enter (to run the cell) does not work\n",
    "            ticMetaCellCtr.scrollIntoView();\n",
    "            ticMetaCellCtr.querySelector('.jp-InputArea-editor .cm-editor .cm-content').focus();\n",
    "            /// const keyEvt = new KeyboardEvent(\"keypress\", { \"code\": \"Enter\", \"ctrlKey\": true,});\n",
    "            /// ticMetaCellCtr.querySelector('.jp-InputArea-editor .cm-editor .cm-content').dispatchEvent(keyEvt);\n",
    "        }\n",
    "    }\n",
    "\n",
    "    document.getElementById('tic_metadata_run_ctl').onclick = runTicMetadataCell;\n",
    "\n",
    "    // Making TIC Metadata output as a floating box\n",
    "    // In Jupyter 7,  simply styling the div#tic_metadata_ctr as fixed is insufficient\n",
    "    // (it's fixed with respect with some ancestor,  rather than the screen)\n",
    "    // So it's reimplemented as copying the HTML to a dedicated fixed container\n",
    "    // to create the illustion of a floating box.\n",
    "    //\n",
    "    function initTicMetaDataFixedStyle() {\n",
    "      const styleCtr = document.getElementById('tic_metadata_fixed_style');\n",
    "      if (styleCtr) {\n",
    "        styleCtr.remove();\n",
    "      }\n",
    "      document.head.insertAdjacentHTML('beforeend', `<style id=\"tic_metadata_fixed_style\">\n",
    "    #tic_metadata_fixed_ctr {\n",
    "        position: fixed;\n",
    "        bottom: 12px;\n",
    "        right: 36px;\n",
    "        z-index: 990;  /* below the #nav-ctr */\n",
    "        background-color: rgba(255, 255, 0, 0.3);\n",
    "        padding: 6px;\n",
    "        max-height: 75vh;  /* ensure for TIC with large number of TCEs, the floating box won't fill up too much vetical space */\n",
    "        overflow-y: scroll;\n",
    "        max-width: 50vw;  /* ensure the floating box won't fill up too much horizontal space */\n",
    "        overflow-x: scroll;\n",
    "    }\n",
    "    #tic_metadata_fixed_ctr:hover { /* on hover, make it stand out more by decreasing transparency */\n",
    "        background-color: rgba(255, 255, 127, 0.9);\n",
    "    }\n",
    "    </style>`);\n",
    "    }\n",
    "\n",
    "    function copyTICMetaDataToFixed() {\n",
    "      const srcCtr = document.getElementById(\"tic_metadata_ctr\");\n",
    "      if (!srcCtr) {\n",
    "        console.debug('copyTICMetaDataToFixed(): no source TIC Metadata. No-Op.');\n",
    "        return false;\n",
    "      }\n",
    "\n",
    "      let destCtr = document.getElementById(\"tic_metadata_fixed_ctr\");\n",
    "      if (destCtr) {\n",
    "        destCtr.remove();\n",
    "      }\n",
    "      // the css classes are for emulating Jupyter's styling for tables\n",
    "      // Jupyter 7: jp-OutputArea-output jp-RenderedHTMLCommon jp-RenderedHTML\n",
    "      // Jupyter 6: rendered_html\n",
    "      document.body.insertAdjacentHTML('beforeend', `\n",
    "      <div id=\"tic_metadata_fixed_ctr\">\n",
    "          <div id=\"tic_metadata_fixed_out\" class=\"jp-OutputArea-output jp-RenderedHTMLCommon jp-RenderedHTML rendered_html\"></div>\n",
    "      </div>`);\n",
    "      destCtr = document.getElementById(\"tic_metadata_fixed_out\");\n",
    "\n",
    "      destCtr.innerHTML = srcCtr.innerHTML;\n",
    "      return true;\n",
    "    }\n",
    "\n",
    "    function initTicMetaDataOutputUiControls() {\n",
    "        initTicMetaDataFixedStyle();\n",
    "        // implement the hide/show button\n",
    "        document.getElementById(\"tic_metadata_float_fixed_toggle_2\").onclick = function(evt) {\n",
    "            // TODO: to see if I can avoid removing it\n",
    "            if (document.getElementById(\"tic_metadata_fixed_ctr\")) {\n",
    "                // case it's a floating box,  hide it\n",
    "                // for now, it's done by removing it.\n",
    "                document.getElementById(\"tic_metadata_fixed_ctr\").remove();\n",
    "\n",
    "                document.getElementById(\"tic_metadata_float_fixed_toggle_2\").innerHTML = \"Floa<u>T</u>\";\n",
    "            } else {\n",
    "                // case no floating box,  show it\n",
    "                const success = copyTICMetaDataToFixed()\n",
    "                if (success) {\n",
    "                    document.getElementById(\"tic_metadata_float_fixed_toggle_2\").innerHTML = \"Defaul<u>T</u>\";\n",
    "                }\n",
    "            }\n",
    "        };\n",
    "    }\n",
    "    initTicMetaDataOutputUiControls(); // init the button\n",
    "} // function addSideNav()\n",
    "addSideNav();\n"
   ]
  },
  {
   "cell_type": "markdown",
   "metadata": {},
   "source": [
    "## Enter TIC, sector, subject\n",
    "<a name=\"input-tic\">"
   ]
  },
  {
   "cell_type": "code",
   "execution_count": 3,
   "metadata": {
    "scrolled": false,
    "tags": []
   },
   "outputs": [
    {
     "name": "stdout",
     "output_type": "stream",
     "text": [
      "8 rows filtered\n"
     ]
    },
    {
     "data": {
      "text/html": [
       "SearchResult containing 5 data products.\n",
       "\n",
       "<table id=\"table2076711237952\">\n",
       "<thead><tr><th>#</th><th>mission</th><th>year</th><th>author</th><th>exptime</th><th>target_name</th><th>distance</th><th>proposal_id</th></tr></thead>\n",
       "<thead><tr><th></th><th></th><th></th><th></th><th>s</th><th></th><th>arcsec</th><th></th></tr></thead>\n",
       "<tr><td>0</td><td>TESS Sector 19</td><td>2019</td><td><a href='https://heasarc.gsfc.nasa.gov/docs/tess/pipeline.html'>SPOC</a></td><td>120</td><td>2013258</td><td>0.0</td><td>N/A</td></tr>\n",
       "<tr><td>1</td><td>TESS Sector 43</td><td>2021</td><td><a href='https://heasarc.gsfc.nasa.gov/docs/tess/pipeline.html'>SPOC</a></td><td>120</td><td>2013258</td><td>0.0</td><td><a href='https://heasarc.gsfc.nasa.gov/docs/tess/approved-programs-em1.html#:~:text=G04171'>G04171</a></td></tr>\n",
       "<tr><td>2</td><td>TESS Sector 44</td><td>2021</td><td><a href='https://heasarc.gsfc.nasa.gov/docs/tess/pipeline.html'>SPOC</a></td><td>120</td><td>2013258</td><td>0.0</td><td><a href='https://heasarc.gsfc.nasa.gov/docs/tess/approved-programs-em1.html#:~:text=G04171'>G04171</a></td></tr>\n",
       "<tr><td>3</td><td>TESS Sector 45</td><td>2021</td><td><a href='https://heasarc.gsfc.nasa.gov/docs/tess/pipeline.html'>SPOC</a></td><td>120</td><td>2013258</td><td>0.0</td><td><a href='https://heasarc.gsfc.nasa.gov/docs/tess/approved-programs-em1.html#:~:text=G04171'>G04171</a></td></tr>\n",
       "<tr><td>4</td><td>TESS Sector 59</td><td>2022</td><td><a href='https://archive.stsci.edu/hlsp/qlp'>QLP</a></td><td>200</td><td>2013258</td><td>0.0</td><td>N/A</td></tr>\n",
       "</table>"
      ],
      "text/plain": [
       "SearchResult containing 5 data products.\n",
       "\n",
       " #     mission     year author exptime target_name distance proposal_id\n",
       "                                  s                 arcsec             \n",
       "--- -------------- ---- ------ ------- ----------- -------- -----------\n",
       "  0 TESS Sector 19 2019   SPOC     120     2013258      0.0         N/A\n",
       "  1 TESS Sector 43 2021   SPOC     120     2013258      0.0      G04171\n",
       "  2 TESS Sector 44 2021   SPOC     120     2013258      0.0      G04171\n",
       "  3 TESS Sector 45 2021   SPOC     120     2013258      0.0      G04171\n",
       "  4 TESS Sector 59 2022    QLP     200     2013258      0.0         N/A"
      ]
     },
     "metadata": {},
     "output_type": "display_data"
    },
    {
     "data": {
      "text/html": [
       "<font style=\"background-color: yellow;\">Note</font>:\n",
       "SearchResult is further filtered - only a subset will be downloaded."
      ],
      "text/plain": [
       "<IPython.core.display.HTML object>"
      ]
     },
     "metadata": {},
     "output_type": "display_data"
    },
    {
     "name": "stdout",
     "output_type": "stream",
     "text": [
      "TIC 2013258 \t, all available sectors: 19, 43-45, 59\n",
      "downloaded #sectors: 1 ; 19\n",
      "   sector 19: \tcamera = 1 ; ccd = 4\n"
     ]
    },
    {
     "data": {
      "text/html": [
       "<script>\n",
       "function tweakCSS() {\n",
       "  if (document.getElementById(\"hide-beep-css\")) {\n",
       "      return;\n",
       "  }\n",
       "  document.head.insertAdjacentHTML('beforeend', `<style id=\"hide-beep-css\" type=\"text/css\">\n",
       "  #beep { /* hide the audio control for the beep, generated from tplt.beep() */\n",
       "    width: 1px;\n",
       "    height: 1px;\n",
       "  }\n",
       "</style>`);\n",
       "}\n",
       "tweakCSS();\n",
       "</script>\n"
      ],
      "text/plain": [
       "<IPython.core.display.HTML object>"
      ]
     },
     "metadata": {},
     "output_type": "display_data"
    },
    {
     "data": {
      "text/html": [
       "\n",
       "                <audio id=\"beep\" controls=\"controls\" autoplay=\"autoplay\">\n",
       "                    <source src=\"data:audio/ogg;base64,T2dnUwACAAAAAAAAAACTTwAAAAAAAHLhZ3ABHgF2b3JiaXMAAAAAAUSsAAAAAAAAsK0BAAAAAAC4AU9nZ1MAAAAAAAAAAAAAk08AAAEAAACiEj6hEC3//////////////////+UDdm9yYmlzHQAAAFhpcGguT3JnIGxpYlZvcmJpcyBJIDIwMDcwNjIyAAAAAAEFdm9yYmlzKUJDVgEACAAAADFMIMWA0JBVAAAQAABgJCkOk2ZJKaWUoSh5mJRISSmllMUwiZiUicUYY4wxxhhjjDHGGGOMIDRkFQAABACAKAmOo+ZJas45ZxgnjnKgOWlOOKcgB4pR4DkJwvUmY26mtKZrbs4pJQgNWQUAAAIAQEghhRRSSCGFFGKIIYYYYoghhxxyyCGnnHIKKqigggoyyCCDTDLppJNOOumoo4466ii00EILLbTSSkwx1VZjrr0GXXxzzjnnnHPOOeecc84JQkNWAQAgAAAEQgYZZBBCCCGFFFKIKaaYcgoyyIDQkFUAACAAgAAAAABHkRRJsRTLsRzN0SRP8ixREzXRM0VTVE1VVVVVdV1XdmXXdnXXdn1ZmIVbuH1ZuIVb2IVd94VhGIZhGIZhGIZh+H3f933f930gNGQVACABAKAjOZbjKaIiGqLiOaIDhIasAgBkAAAEACAJkiIpkqNJpmZqrmmbtmirtm3LsizLsgyEhqwCAAABAAQAAAAAAKBpmqZpmqZpmqZpmqZpmqZpmqZpmmZZlmVZlmVZlmVZlmVZlmVZlmVZlmVZlmVZlmVZlmVZlmVZlmVZQGjIKgBAAgBAx3Ecx3EkRVIkx3IsBwgNWQUAyAAACABAUizFcjRHczTHczzHczxHdETJlEzN9EwPCA1ZBQAAAgAIAAAAAABAMRzFcRzJ0SRPUi3TcjVXcz3Xc03XdV1XVVVVVVVVVVVVVVVVVVVVVVVVVVVVVVVVVVVVVVVVVVVVVYHQkFUAAAQAACGdZpZqgAgzkGEgNGQVAIAAAAAYoQhDDAgNWQUAAAQAAIih5CCa0JrzzTkOmuWgqRSb08GJVJsnuamYm3POOeecbM4Z45xzzinKmcWgmdCac85JDJqloJnQmnPOeRKbB62p0ppzzhnnnA7GGWGcc85p0poHqdlYm3POWdCa5qi5FJtzzomUmye1uVSbc84555xzzjnnnHPOqV6czsE54Zxzzonam2u5CV2cc875ZJzuzQnhnHPOOeecc84555xzzglCQ1YBAEAAAARh2BjGnYIgfY4GYhQhpiGTHnSPDpOgMcgppB6NjkZKqYNQUhknpXSC0JBVAAAgAACEEFJIIYUUUkghhRRSSCGGGGKIIaeccgoqqKSSiirKKLPMMssss8wyy6zDzjrrsMMQQwwxtNJKLDXVVmONteaec645SGultdZaK6WUUkoppSA0ZBUAAAIAQCBkkEEGGYUUUkghhphyyimnoIIKCA1ZBQAAAgAIAAAA8CTPER3RER3RER3RER3RER3P8RxREiVREiXRMi1TMz1VVFVXdm1Zl3Xbt4Vd2HXf133f141fF4ZlWZZlWZZlWZZlWZZlWZZlCUJDVgEAIAAAAEIIIYQUUkghhZRijDHHnINOQgmB0JBVAAAgAIAAAAAAR3EUx5EcyZEkS7IkTdIszfI0T/M00RNFUTRNUxVd0RV10xZlUzZd0zVl01Vl1XZl2bZlW7d9WbZ93/d93/d93/d93/d939d1IDRkFQAgAQCgIzmSIimSIjmO40iSBISGrAIAZAAABACgKI7iOI4jSZIkWZImeZZniZqpmZ7pqaIKhIasAgAAAQAEAAAAAACgaIqnmIqniIrniI4oiZZpiZqquaJsyq7ruq7ruq7ruq7ruq7ruq7ruq7ruq7ruq7ruq7ruq7ruq7rukBoyCoAQAIAQEdyJEdyJEVSJEVyJAcIDVkFAMgAAAgAwDEcQ1Ikx7IsTfM0T/M00RM90TM9VXRFFwgNWQUAAAIACAAAAAAAwJAMS7EczdEkUVIt1VI11VItVVQ9VVVVVVVVVVVVVVVVVVVVVVVVVVVVVVVVVVVVVVVVVVVV1TRN0zSB0JCVAAAZAABDPQYZfBAOgxBLbz1oCjEHrfVgQQal5ByExRBDjEkPGnTQSUo5aIw55Bzk4DEImWOCcY0xR9IQBULHoFGmoAdCQ1YEAFEAAIAxxjHEGHLOScmgRM4xCZ2UyDknpZPSSSktlhgzKSWmEmPknKPSScmklBhLip2kEmOJrQAAgAAHAIAAC6HQkBUBQBQAAGIMUgophZRSzinmkFLKMeUcUko5p5xTzjkIHYSKMQadgxAppRxTzinnHITMQeWcg9BBKAAAIMABACDAQig0ZEUAECcA4JAcz5M0SxQlSxNFTxRl1xNNV5Y0zRQ1UVRVzRNV1VRV2xZNVbYlTRNNS/RUVRNFVRVV05ZNVbVlzzRl2VRVXRdV1bZl2xZ+V7Z93zNN2RZV1dZN1bV115Z9XbZtXZg0zTQ1UVRVTRRV1XRV2zZV1bY1UXRVUVVlWVRVWVZl2dZVV9Z9SxRV11NN2RVVVbZV2fVtVZZ133RVW1dlWRdWWRZ+XfeF39Z9o6iqtm66rq+rsuz7sm4bu+37SJpmmpooqqomiqpqqqptm6pr25YoqqqoqrLsmaorq7Ls66or274miqorqqosi6oqy6os+7oqu7ouqqpuq7Is/KYr677t+4zb1nXhVF1dV2XZ91VZ9n3b95Xh1nVh+EzTtk1X1XVTdX3d1nXjmW1fOEZV1X1VloVhlWXh130f3fcRVVXXTdkVdlWWhV8XdmfZfV8p6zbh1n3O7vuU4YgvHLm2rRyzbhNu3VeW3/gpyzM8PdOUbVNVdd10Xd23dVv5bV1njKrq66os81VX9oXbFyq77xtFVdV9VZZ9X7VlY9h933h2Ycm1bWG4fR3Z1pW+8eT7xtG1beG5fV9p+zbnd4aEOmUAAMCAAwBAgAlloNCQFQFAnAAAg5BziikIlWIQOggpdRBSqhiDkDknJWMOSiglpRBKahVjEDLHJGTOSQkltBRKaamDkFIopbVQSmuptRpTajF2EFIKpbQWSmkttRRbai3GiDEImWNSMuakhFJaCqWkljknpXOQUgchpVJSi6Wk1irGpGTQUekclFRSiamk1FoopbVSUowlpRZba7G2FmsNpbQWSomtpBRjaqm2FmOtFWMQMsekZM5JCaW0FEpJrWJMSgcdlcxBSSWl1kpJKWbOSekgpNRBR6mkEltJKbZQSmslpdhCKS222GpNqbUaSmmtpBRjSSW21lqtLbYaOwgphVJaC6W0llqrMbUWayiltZJSjCWlGFuLNbcWaw2ltBZSia2U1GKLrcbWYs2ptRpTa7W2GGuNsdYea805tRRjaqnG1mLNrbbcYs25dxBSCqW0FkppLbVWY2otxlBKayWV2EJJLbbYam0txhpKaa2kFGNJKcYWW60txlpTSjG22GpNqcVaa+25tdpyai3WFmPNqbVaY629xxp7LAAAYMABACDAhDJQaMhKACAKAIAgRCnnpDQIOeYcpQQh5pyjVDkGoYSWKuYghJJa55yElmLsHISSWowlpdZirLWUlFqMtRYAAFDgAAAQYIOmxOIAhYasBACiAAAQYxBiDEKDjFKMQWgMUoo5CJFSjDknJVKKMeekZI45JyGljDnnoJQUQiglpZZCCKWklFoBAAAFDgAAATZoSiwOUGjIigAgCgAAMAYxhhhD0DEpnZTIQSYlk9A4Byl1lDJKpcQSY0apxFZijKBzlEJKGaUSY2kxo1RiDLEUAAB24AAAdmAhFBqyEgDIAwBAjFGKMeecMwgx5ZxzzhmEFHPOOecUY4w555xzijHGnHPOOeacc85BCCFzzjnnIITQOecchBBC6JxzDkIIIXTOOQchhBA655yDEEIIBQAAFTgAAATYKLI5wUhQoSErAYA8AADAGKWcg1BKoxRjEEpJqVGKMQilpFQ5B6GUlFqrnINQSkqtdRBKSam1GDsIpaTUWoyllJRijDHXUEpLLcZYc2otxhhzzTmlFmOtNedcAADuggMA2IGNIpsTjAQVGrISAMgDAEAQUooxxhhDCjHGmGPOIaQUY4wx5xRjjDnmnHNKMcaYc845xphzzjnnHGOMOeecc44x5pxzzjnHnHPOOeecY84555xzzjHnnHPOOecEAAAVOAAABNgosjnBSFChISsBgHAAAIAI6DjnnHPOOTcOYq211lprrTVyUGuttdZaa62p1lprrbXWWmtNtdZaa6211lprrbXWWmuttdZaa6211lprrbXWWmuttdZaa6211lprrbXWWmuttdZaa6211lprrbXWWmuttdZaa6211lprrbXWWmuttdZaa6211lprrbXWWmuttdZaa6211lprrbXWWgCQb4UDgP+DjTOsJJ0VjgYXGrISAAgHAACMYcxB56CDDkLDlHMQQgghhBAapiCUEkIppaSUQSclpVJSSimlzEEpKZWSUkqpdVJSai2l1lqLrZOSUksppdZaix2EVFJqrbXYYusgpJRSa621GGMoJbXWWosxxhhDKSm11lqMMdZYSmmptRhjjDHGUlJKrcUYY4wxlpRai63FGGOMtaTUWmwxxhpjjQUAcDc4AEAk2DjDStJZ4WhwoSErAYCQAAAEIcacc8456ByEECnFmHPOOQchhBAipRhzzjnnIIQQQsaYc85BCCGEEELIGHPOOQghhBBCCJ1zzkEIIYQQQgihc845CCGEEEIIIXTOQQghhBBCCCGEzjkIIYQQQgghhNBBCCGEEEIIIYQSOgghhBBCCCGEEEIIIYQQQgghhFBKCCGEEEIIIYQQQighhBBCCCGEEkIoIYQQQgghlBBCCaGEEEIIIYRSSiihlBBCCCGEUEooJYRSAADAgQMAQIARdJJRZRE2mnDhASg0ZCUAQAYAgECNNfYWa2SUcpBKyyVCSjkpsZdKKeUgtBozpYxSjGrJGFNKMYm5hA4ppKSW0DmlkFGUUkslhAhBaTnGGDvGAAAAEAQAGIiQmUCgAAoMZADAAUKCFABQWGDoGC4CAnIJGQUGhWPCOem0AQAIQmSGSEQsBokJ1UBRMR0ALC4w5ANAhsZG2sUFdBnggi7uOhBCEIIQxOIACkjAwQk3PPGGJ9zgBJ2iUgcBAAAAAIAAAA8AAMkGEBERzRxHh8cHSIjICEmJyQlKAAAAAAAAAcAHAECSAkRERDPH0eHxARIiMkJSYnKCEgAAAAAAAAAAAAQEBAAAAAAAAgAAAAQET2dnUwAAADsAAAAAAACTTwAAAgAAADW/72U/AQEBAQEBAQEBAQEBSVpKS1hTQFtZS11bTE9bSUhZSkBXWUtXWUpWVUpLW0tLV1pAW1dJVlhKTFpIS1lUQVhaAAoODg4ODg4GAAAA5AS1KgG4YflpGUcvg0doEEo/hBBz01jbvJ8pW/3387rd6+7z57Lc/jdPp8umz/wcTZSv+v2wI9/x9/O6s/P/9+dKucn3RjIRAMxBy23k9qseuXwpwA3559cR6u126+48Gs2GefH5NwGOqOus6Tbp4rRfr89c721c75frEhy+hl1f719LpVP+Xt+m+uXhrpdHafV5omPcHiWLJc63ap5JG2P3BkRdX//Rv7vfRSwnyKs7tGa4YVv/2hDb+78LABB7eABOr4hpqCZmzrYeuQsFALBlAACA428qBQA4WFQgZmi+AYBem50H2n8oAAAHRF1f895v+1MiygmwUtGK6dyVkSZZhHsAuKoJiD0cgDuEKZzICBJflPW0AYDocCcEAACgv6oHAKykCBAps3yu6ye+GAHgxUEAAHAAXE1ffznslIeZT1uTvHK0fGdv32D0Q8DAvBiedQCOXdGYyE5/dP7Q069PvN9dTE/e+pm8+zg2/WZDunS1Z7SqF1uuFr3+XpQ3vzYNJmPfXOuKMn/9gsnwJURZf+S7u/ytNFYTpP9KRWvG+9YZe5+QiO3zbgEAxLYAiH04gXn+MV7WahucxFQNnOSEqraTJcoSUMZZ5QCA9S4KUJ2SWjsvCm45vuBpYoECAL4BRFH/97t/tn+u+ldNkHYbEiFLw3HP7gqAIS/8WwCOKepfK2Sq9y5zSpRQAAC07woAAAAP4iYAAADW3wCSJBMD32xJr91+28fwLCwKoMFmgBtoY36eFTgSrhkv/j8uADdXM8+pn/G8d/f9/7+SG47c7s5/n/6mzfKmc7VEzcKpMy2OzTaxt9eVKpVKRu0PDRgPe4d7wzsGlaUA7Bc0UV93P4rqikel0ZIpn+c5lIWvzdPfXwDoChB7AOCY0PDDm5SP2to/7/85/u551371uunY3EznRycnulVuYDw2pPrpt+/nn5RAd+g//kJKuVvVbxyogA68AURZf+i7f7c/S3FOkK+26Ga7htl+xz0A/DwZxLYAiH0oMeRxs2H/ZvrLAgALp+HhXiUAgPQkBbwA27fX1vtHhAEAAPx9ehMCAADeADxNf/j5u32qx2s5vrRmZr9jtLn36b/iwvexAfp9QezhN4Bjr2I1fDlbfZ8x36xYujO797bts+d9bUOX/57W0I+JxopZG0sraPN8yZcAag2aFVeG+hpb2QQ7lYCPATxNX79fm/nzXPoi7Znn86s5nKfYbZZHFcwzN+Tl+dfkGTjyKn7vI6ejZ+zef8nrf3u2vDdqDjLt1/bjDNWX/76v5putblz/eXdPksi+DshUV8rGVkcpRXKj/AZEXV/z3j/7b2mUE+TVLVoxnTsB3APAv6Yg9vAAnNTY1s8tDwIALi+qAQAAeHlfCQDgWSYBaUMmI6bz1UFPAooMtEjxTALA/Q4CAMADRFl/6Ku3/KVEPCdIvwpFa6ZblZHGwY/PAOBfB4g9vApA7EMlJoZL03ksDacnVhkqWukoLgNPAYACSH94EgAgaECB3kGzClWEo0dSAADwDVxJX38526mIMo82BvjnneGFj7H19P6SJrw3XnxvdwLHXt3yodJQ2c1M3X/yPrPis2Ti5t++iZMrj1Vfi2Do94hfXdx0Wv3rsFzsfDKt7cgZbbcqrHhXMRkGzwIcXf989+/uL6Wx3Oo2rRhv6CP2W6Z7APS/FsQeXgU4vQp7gGy5cjbjRQPAvi4zEgAAIP4yBQA81hTYDvhbv2v2ZwsAZjQFAAAHRF1f99Hf+KvERU2QrMLQmulXZKie6fuHBfDzGRDbAjhdTWIXc+daE4ONyaUIAAAubYEeB8oBAJfbASiYgNZvAMDxJs4UAIADZElf2Q5J+XmwtGSUj4uM/lczuN58EyeAq/Hi484ygMtV6Ss1fd/Vw6JTbur8+a2Dk92Z13189bZeyzcIG54PEr7Uae+prwv/dMVY1ziKC1convg3rkmE/f1EXX/oq3/Gv5SI5wTJKjWtGc9dGWkc4cdnAPCvA8QeHoA7hBLORQOXdmwyPbHKUAAALvMaLQAAgPnHSQAArp4CJwLyUJsdoQAAPERN//fD/bP9q+r/7gkCsnskQg6zo108/cECYuftBBwTNq7/e65X+8kWdRkAACi6jM0EAAAAuucByLhlAOAD+AZMTV+37cWVgy7uaGsmf0vWsd+YV3HnCVjw4n/XPYBjV1NsjPqufs/zv//cO78lf/e+T9ayKxvM4V6x9mrqYEEY7BbPvWv7uvrGTV2c1NhRQcfOOxy04RtMUV/38p0+FZe1mmhjbt9XwShlbZe+z0HC+wFiDw/AsaupXbfr7UK/fW7z/b6nPR0bGanj8VT0sTefCFwfZyPR5K095nXnuQOlAE7porxL2DAqZDSeyDLwBkRZX/fR7/1P6UVOkPx6Q2umHbb1z83PzwTgOntC7OEagNiHEm0Bvyy3atZnum88AgBAon0nAAAAqH5pAMDkLQViQGpaOLsBAAC8AVRNX3c5l0/NK6tyaQvB7xjV4SakCz8mA2BivPj1LRUBHBOEfUXfgisHv8bFw3f/3i71CQ+/z0///08nJ4PJk6YGMdi9+79jW3j12B2ZFEVj8FHLAPD+ADxJf/D2O7g0bhPo077Ffl/N9nuo3mblvQb4hRffTyXg9CqSV53VxaO5/e/9+////r1Z3p48tER1bK5cXj47/7IxHA63dnZ2fp3urfrOOVcMhzvvPBZd2+QPRF1f/9G/u99FLCfIqzu0Zrih1/61ENv7pw0AEHs4AKdrcmKMzNnt8x/OvgMA6HIAAMDNZ5QAAC62AhgK/MMAkDvKcIXyOwIAwANEVV99+7Z3eTwnSLagFbN9vO5QUSaK7z8XwFZNiD28CkDswxiZ179s/mcOnemLD4v+f3dv86jS5GxnwYqlz01TmLCO3jq2/3oiYEG+LQDfqpggliDAN3RNX9lfrSoC59LGIL+PgXeUlu0o3s948X27ABx7SE1ldLe1vr6978v73NKZje/Vz+cvyn5P3pu1P7unF503hOXNiRf5m/Homj8WtblQH3j8L7FsQ1VEXX/ku/+M/ygRywlyVZrWDDccdfZNQGwfbwUAILYEcIcwgnx4me5mM7PSfj9DAYBybiwBAEzsCCAfqEcdAO2QeAP4v8xyBACAA0Rdf/hn/wx/K1BOkKxS0s3OXUPkvo5wDwBfE4PYw6sAp2uKt3eDy00lIisAACN1LAQAAEh/nAEAV/sDiJdBkYHjKiUmAfB/JAAAOFxNX7u/GlcEIfq0Ym6/fT/w11pfX283CkjG44Pt5/1a4GI0/Yb72t/WXz98Pl2fvvN+6WXerDEIG/LkPIs8W3fah6lxx8ftVanlV29XRtFStOAovGmREViDoA5EXV/z3m/7UyLKCbBS0Yrp3BUZzlamewB4qk2IPTwAdwhjKI8VFveE8W4BgFJ7LgAAAOD/mggAOCxTIMIidz0nrj8VBsDXCQEAwANEWX/ou3+3P0txTpCvtuhmu+ZBf8A9APyZAGJbAMQ+FGjzOfWQz337sQGAfWXm47GlAADVTgKUAzlet2UXrhgBAAD4X3FPCgAAvgFkTV93O5ssD4NPG4P9TB3chBDp/YYCX/Di968l4Nh1Btt3o67YpHV2fX/+/dYf++ZyZdFf5z9yv/w73nX2b3Cu5Wr/4aqHwf/h6lZRo5JpZD3Saspd2tdMUX/o6yv9rojlBPlGWrPon4pOR2ByDwBPJYg9vApw7OqyPic5u1PzVO3s5r/Dd1cyygF2LJrzKxObKrdbNC/988cZsJE27wXAu4VjlqITS+MW54oY/kYH8AZEUX/8h/vn8beKv3uC5O9o1/qB2NdrH+pgCbHF2yXgmJRX5vKyyK3wzhIDANB/nGN8ZQEAAGDwDsCBnBj4ALwBXElfeajtXzVGtaYFc/sdozpMS+PbGD/PADi+w4vfv1UCN0Lm7TDbvQya///9//9Ocveu4VnvQ3cn03/6/5+VdSciBtt3//9/Xzv9OJucrKlUckb3z24hG4D8ACxJf/h2bd8CKo02JnoPg/6Q4jYr/f1XAHgSL3767MoEiH0oIOyo6+vnZg3v6un7d+6cW9mMt+X65vNzj5a+VdfTqeZy043um+i4ekgrWOfK5cBzigL4Cxxd/3z37+4vpbHc6jatGG/YOvtjhHsA7H8bxB6uAU5XJ1dRbw+3+7xeAMjLq88CAADoPwcAwNcggLRA85tWjngmAcDwHgAA4AE0UX/o/avcla/kaqI1y360B6dg++f7pAF81SC2A3DsVU3ObraLRCBr8+78/+E5+ZbJjgPSz70z7K9plRNnOlteArDS4qEBOuvXV/5rz2eGsZVSL7GAb3RNrzuuVvx5sLRgzO+nnftfQq34KsDCAy/3+UlsAMde1xV8e9DevH/sPzq/+V7mr/dM49GZeG+8q29v7v+ZTwL11v6e46/X7v/uPbrJjv16a18m7iergqpEXX/oq3/Gv5SI5wTJKjWtGc9dkWGa6edPAPDfGsQeDsAdQgGkRvrXMDft7jpgCQBAvnaRPgAAQP7rOgAAJ0CAOAMt1npfIQAAHERdf/irv+FvJS5qgtQ2tGb6Nc3o8+T7LQB8TQRiDw/AHcIJq9mXiLy7Oz3zunUUIACGbxUBAACA+z+TAQBuOR6w9mIKo579AgEA4ABUTX9wOaepwJlLK0b7J0+dPjK22tLvZ9HgEbz4uEuRwDGj1UQPTVfengadbf93j8457QvGmwaZR++HBsaJDu5ZRHprtu3R+Wd7c+i2DlpmRtutBnLXHaF+WAREXV/30d/4q8RFTZCswtCa6VdGOhPh+60N4E91ENsCOL2qYp5zdr5p+LRzzwMAAK+hMIBRZQCAowUFlMSAvmgAIH5TdQIAwANEWV/30e/9T+lFTpD8ekNrph167Z/lx2cD8EwiIPbwKgCxDwWGQl7Knkce9U1/ihQAgGL4LQQAAOi/XwBA5wcBhsDWdjgaAwAAfANcSV9/O2wrkJddWjGTV97adJ+0PeVVHhD8GF4sbw0BXI7itzHAPASOW889ef8/KDpTad6lez+Nj1fSpculF3Vsui1Xzmce7gi608dKV1KNXvR47ZW1BcxnAERVf+RnZ/lb6UVOkNyaVsz3W2f0eUL4fksD+KoOYg8PALGPPiEw027Yuaz0dc3daHTerZ+9Pgupiijr5CC6HwKHctKsvzsRAPAZADD1fAbVBQXwBkRR//vD/bv/VxX/4glSNxvtWu8cvXLuBaBD7PxuCTimqOq3CgfOxqingQQAAFh7CdiYAAAAwPoKgI51AgD+A94ATE1fXc87lYe5NNLWkH9GbCoLuZG670oApnh5+cspgWNqDrv7jipy8L6n+nN31frM/k9x6pxdeep1/aeTmdv9bG1hSdh+/6+073Eq7ozU2NEo1xojGCm8AURRX3t/lakamwol2prb+3ba/65ns/jxBgA7ArGHnwAQ+1Age+rZ8zc3zNfv9s32XXtfZx9G5EdTZL1Hmx+Vf5hiSPW3K/Oq3X8ToK7cOQlHns4pLGcTPgXwDU9nZ1MABEBuAAAAAAAAk08AAAMAAABo27q3IEpaWUtVWExMVFX/W/9Y/1b/Y/9i/1L/UlpVSwEBAQEBRF1/5Lv/jP8oEcsJclWa1gw31EfsfUJsn3cLACC2BHCHcIL9vZjMe2sbqtpGlgAAZZxVCgDQNaeAciBURQCk1uIF4MuV5qQAADwsTX/07Vl+V8Rm7dGeuf2OOFKdcuN/+lEFgGsKYg/jA3DsFV4lOdVM6qb3Pe7+3Th3x83c+zcvtiLzyRq19nFDog3avDs+u1/2I0BrNN9SI2h9f1gQErNT4D9UTV97nksrx7OJNkb7/atZ/8q4bxTePx2M8LLzu5WAY69Yj58Yc3Wr+edd4czy3dny+ZvO9639n/+B9uZm9vQ62721x5z+t/ryISt4NOXLVJM3PO4UpQQsMERdX/Peb/tTIsoJsFLRiunclZEmWYR7ALiqCYg9HIA7hCmcyAgSX5T1tAGA6HAnBAAAoL+qBwCspAgQKbN8rusnvhgB4MVBAABwAERZf+irq/0uj3KC1NUmLZnd3bH2OzzuAeB9Mog9AEDsQyX4x2xmLP6dOTsNrNPrx663BWbRzq9SBmANNqFP9yoDAGTOUOBIhSeCWB7b6M06lQwI8AZsTV93v9opBxdytGZmvzmC+5RzJG/ciWUT8KJM+gRwTF168bX63vgn33x6vHv0fnWxZzwU/CxMnuY8rw8lP+HP57GT8X035eyasW/ApHKhuf5zXBdTZtcCRF1/+Gf/DH8rUE6QrFLSzc5dc0bfynQPAO+TgtjDNcDpFYnrq/DrM2kYpQEALbcmAAAAsP+pAQAOVylwbIEjQtWdDgwK4KNZAADgAURdX/PeP/tvaZQT5NUtWjGdOwHcA8C/piD28ACc1NjWzy0PAgAuL6oBAAB4eV8JAOBZJgFpQyYjpvPVQU8Cigy0SPFMAsD9DgIAwAMEUstNwly+ZxnIdT+/FWRYjQrvpgXsDemFaRzAkSuOSnf56dL48P5fZ/XX6dhfWXK5Z9HjbuFzFtud7N4X3xRv/hd/WrOMvfqCjbSV75b975kq0COUQUtjojb6kLGLGY1R90P5EjaMeln3NnX6BF3assW1RZbAGQy36lIl8ov3z7V7XJ+ROX32kReX06zBQVWmip3UHY7d3t7jYwgeDoc7X1BrYwUJVRcBuvakHgsIEIx28o5Qs+a6AiTcsbg1HCMvc+xczAsA0EeDVyUAnbN/hmwAulUzv92dAGyAjKqZAEDQAYAdVznAAwAXAEQB9WaMgMGOKBg+qD7y392+bzVkPnfZoJzezAqwowHgiryqMeRma6ESBKqcfOhc761LVVIpjzZhd88Z5xVDtVBmqcwQKcOBTCjAYVkm9t0hBhlciEalU1oCFsRRSaCI1SpfLUPN1vyuXLcVPStBEQxYSCBGSSVGsUZevtIcesUACigChAxl1Oy4eTmb35aAIIJc62QX5E1OIpTConev9tMprlLatEd7fHx4vo05JAoWPRa+PksFWEAJkqaGrFJCuCtSVjHiYs7GWYtx9/thCpkf9S2S+0+N9+HDNlZDYWTnlBV+tejRHZWGl0YVcWoKcZ8876j+juou38sWGMKaA5ExloxzlxTRvFXYciK3ftUdgGTwa48YAN4GpQ4LPqB8sZ9+Vdaevo8hFEKnw0L7558UgF71AAD0tf47sgDKqqV/rAGwAeK8Ug0ABAcAqKgWwAG7SABR8F61paoGwKMDvVAOqpPNpvsmhM8stHsu1ZmXOLuLfG8ZxxEpIjngUPARANzv5Z2MtC9qU0gwCPTszUihfLc7WIUEgQZ6hIsmqQzJ2n+h+V1esbKEAayCiiEtcuQUaSQEBlXalU1emGPN6BEAaqiAHmuOldUpj3BZKoQEBsoIBAgGFWsfj3l+m88VWwIRTRqXbNLbzZIxMoUDh7bfi15nBFPJV3gWOeE7RuGNrcQyTAUpoKV1iCDirUn+sk0ZWRAMsKCQE160aD54Hz88JkYNiKA4TyKQCelMnHKBjc0ZwgkqSBV/ryIgaY2N3k7EWi8aZMeAWffOEbHWW5QORUAhzRg1hsyVpGQIrWt1rjVh55rW1iJQwpf7FgZeB5WeCr6gtLOffss51MUOhFcxg7Fe5j0AgD4K+J0BQOf4moQG4I+SPqUBsAHyvdICAEEHAOFU/QAz8A+CA4BCS42AcQqiYD500iltTN0+uV3/WE/Iw+nObg043QiQU/BKr78dZBmUSBaBSuHX53KPpTxSsjEvMO5zyqYpQy0jrc1aASI5Yq3VGHvNnXirHfZWBJ9qZG4lkYRSSGpFO6RSuN4QnKoiEqEcigAAYhEVektlMSV8EFgiPSTguAePxFcg9FoRe+per4txLCIICVaYT3wSFSGd9KBMv81PuBYaDwOs9No3fF0c69bGKKkUwfkyWjuTSwxc7mh5vj9HHSRPeu1bkdIojtqbjDVyXWH+Rl6jSl7Ak5/qYtuJHYbf1ovKXit7a6yzOjCw/o7fI1Dnytmi2zd/vnyHBHQlJNh6feRR61KJYzQ3EPu1hqTUAYALL30tAF4HFQ0LfqB1yfvPRxR2HSh9Y6XHpsOmtAAAc+nAaHD3EoDOAgDIAl5VpZ8cTQBsgHgvDQBAcAAg9nzkJfAAkL4IAFHgapmeQXXSC/PQSR/ozD3lS4rVFLlOe5q/SFwbk4ALUDkOWItQY/XhEGmc+4aVnQ4pWAYJKG0BoIA1IMUFQhY/6cEgO9iQ4BA+5kAAUcqaYFgTBJ5l3J3vDtccocSxCVBiRShFLEECloMmlLAV1VNydhIbDBE9IAI5LAszBpSaDpq56NMjqwQGSiAoAAEVaxHmxG4TUzKgUFihb9EzXgc9X6IHpLiIC8v3bCWA2jVY1yKVXmnKpB4bVGRf45h384ZTZwMHS6pWOGsRfELARQ1WOGtxOEE++/NaZiLscimiTJzwDZF8s5AX5seugIQpL5rjuCtXum/U1YwjanKc7yTGRGUigQR7wyIBkTzMdAbG5Y1aSy9ZMKEhACAhgkcYAF4HFYUKPqBEZ/54EepURJZfxa7vi7Z9AACrAKoeAIDODgDgBKgad9EA2AD5cyksAAQdAETfV18CB3wTgKADQGmlRkCbiII2oTr16xZ3YvaSTksb3ps/ugS8HQnwESxvDqBSzFNV4Cb4JACgyzSAMEgcBol7hcAf2sCwLw+hDgkizVAEKqJutMCLZlbM5w6TITm2F0J4GAAMihxgkAMcsrOecHwQd2QGrVrjcGEABgyCUUNXjDNRXPr0G85CFRBJAYaCgiIGuLgW20OzzgtCQk9aEn+HA8OHIA6Fg2cr+R5VBNeFzUiZ0rPvqSlImgG7pEfHCz0aIrgBSqRBcNYv+1GEg4QjQmDjEQceceBhEeXIJvSBJBROsih2SAOzeL7Kht2kQWJGonOYisTbFNHk8dRxavLbIs27F2kiNGYXURNKYTkZyhPBnYnGQEz08URH0uS5o5W8WUfW2m8XAMXCbyEAfgZFAgouED7ZT78ys+evYvparfT5AABa1QcA0Bc/T2oBOAGqirNHBwAboP2cEgAIDgAwrj7AAdtMAFHglZIaAWNLOsJIh+qE+2n3VOH1Hq/F2+KGgQK1IwQAvAsACHW4oEEKTS54MkFcWPRAhnG1iB7wZcg38w9Z28aA0CAcZSUohWJAIauvZsNQag8+V/qIYUVQD2DhEDs0whMcZteZui0QKUQEFIACBBG9qFd61i1oXHKVYQCCRYARUIYE88JsUsdEUFisoaXYLnvowBWI1ccBDtrJkysB3Gk70ECR8IS9naZZCICryEW9zC8lwjnG1BBHXjdvXMcEMonIxZf3GS7wJxEIC8QmMKi0d3Uo/eEUonGwyi/yhEi3m85Lg6wcHYjTZe6yG+euyGkW9PD4N3ajrLcoiOmBDkakyvWOhiYpER3c0fToQLL6qi8A+fc3CvYWpQkLCDg8XfgJy6wtgvvwc1+HFzuq6zrwAfVoUJEAdK775wVAUrWIalIAsAFW/kwDAMEBACqqCOABgIsCIDgAKJAaAaUhCjqoTvl9/PvhxIb14fLw8+x/8/nM85lXb15htzAqjI/GM0Sxu1t4Xld4A69ErYwOTgKv82s2DtIgKEOuteZ9k6A4ZQfUxogCmpEJEhIQLra/X6/DA7nCyiAokQyco1YhljFQQsmwlltY6V0rQRehqEEZ8ACGMChYbz1O4f2XObYqggmEhACFRAxZsf3MkIs+AxAEdPPAmU/j4ZRjAQrNeZR6EZ2OSkBXiLE5Z9xgHV9EhA5eyDkvEricR3QRwaE/IdFxrBs+T3SHlrmlZx7TLSGQnG43fZ14DqrICLvU3p7a/InIMd6r2pwjc/zeaRS6M0jSGCJ6P0d7jKSGa29qLRH9tDoApc/fQgpkSTnu18s/5IMmqHFBChpzfn++fs4B7zVyHIjt0W8BgF8BWcAPAXc9IB6DWcmvvcR1wz4BwzO3ggT/oRoKzxc4TXEATPMIUDqZBtDcsgCiNWmx1BRIGy5gEQDsMQ3aYynwF4RmHn79CcVNWr3TDOb2Ngt6DGpegGuHDP3u4+F+751qe+v0L/NRdRB/LDyKGaNgmCoSm48tI5NXbDv77vW+l6tZP7snL4jColsW/gsC5BBNs5IYZQLCqb+3t7cZHBz86KPAugBIZxoaXX/8bu3xlJlc9f//qZuD799npr28p1b/eXn8/Fkx7eU9tfLWy8fjzdKkjHeRe0EHCg4ODg4=\" type=\"audio/ogg\" />\n",
       "                    Your browser does not support the audio element.\n",
       "                </audio>\n",
       "              "
      ],
      "text/plain": [
       "<IPython.lib.display.Audio object>"
      ]
     },
     "metadata": {},
     "output_type": "display_data"
    },
    {
     "data": {
      "text/html": [
       "Fraction of flux in aperture attributed to the target, <span style=\"font-family: monospace;\">CROWDSAP</span>:\n",
       "        <span style=\"background-color: red; padding: 2px;\">0.30493852</span>\n",
       "        &emsp;<span style=\"font-family: monospace;\">FLFRCSAP</span>: 0.70478094\n",
       "        &emsp;<a href=\"https://heasarc.gsfc.nasa.gov/docs/tess/UnderstandingCrowding.html\" target=\"_crowdsap_tutorial\">(Help)</a>\n",
       "        "
      ],
      "text/plain": [
       "<IPython.core.display.HTML object>"
      ]
     },
     "metadata": {},
     "output_type": "display_data"
    },
    {
     "name": "stderr",
     "output_type": "stream",
     "text": [
      "C:\\dev\\_juypter\\pht_eb_stats2\\vetting\\tess_dv.py:266: UserWarning: get_tce_minimal_infos_of_tic(): Multiple DVS for s0019-s0019:TCE1. Discard pipeline_run 278.\n",
      "  warnings.warn(\n"
     ]
    }
   ],
   "source": [
    "# lightkurve config\n",
    "lk_download_dir = \"data\"\n",
    "if hasattr(lk, \"conf\"):  # default download dir\n",
    "    lk.conf.cache_dir = lk_download_dir\n",
    "if hasattr(lk.search, \"sr_cache\"):   # PR for persistent query result cache\n",
    "    lk.search.sr_cache.cache_dir = lk_download_dir  # None\n",
    "    lk.search.sr_cache.expire_second = 7 * 86400  # 0\n",
    "\n",
    "\n",
    "# Run All Above and this cell to start\n",
    "#\n",
    "# TIC   : the TIC to be vetted\n",
    "# sector: the sector that the notebook would use by default as the focus,\n",
    "#         the lightcurves from all other sectors would be downloaded as well.\n",
    "#         TPF of the given sector will be downloaded\n",
    "# subject: an example subject on Planet Hunters TESS for the TIC, usually from the sector above.\n",
    "\n",
    "# FILL-IN:\n",
    "tic_sec_subj_str = \"2013258\t19\t40154642\"  # tab-separated input  from spreadsheet / dataframes output, e.g.,  288100746, 37, 62817178\n",
    "tic, sector, subject =  [int(s) for s in tic_sec_subj_str.split(\"\\t\")[:3]]\n",
    "\n",
    "max_num_sectors_to_download = None  #  None to download all sectors. Otherwise set it to a number to cap it, with the supplied sector as the centor of the slice to donwload\n",
    "to_download_tpf_async = True\n",
    "override_sector_with_first_sector = True\n",
    "to_show_tic_meta = True\n",
    "\n",
    "\n",
    "# def limit_sr_to_download(sr):\n",
    "#     # used to limit data from cycle 1 - 3, but for vetting purpose, we use full data set\n",
    "#     # sr = lk.SearchResult(sr.table[sr.table[\"sequence_number\"] <= 39])\n",
    "#     if max_num_sectors_to_download is None:\n",
    "#             return sr\n",
    "#     return lke.of_sector_n_around(sr, sector, num_additions=max_num_sectors_to_download-1)\n",
    "\n",
    "\n",
    "# customized sector limiting\n",
    "def limit_sr_to_download(sr):\n",
    "    tab = sr.table\n",
    "#     # for now we skip the few long-cadence sectors in 60 range so that I operate on the same dataset\n",
    "#     tab = tab[tab[\"sequence_number\"] <= 39]\n",
    "    return lk.SearchResult(tab)\n",
    "\n",
    "\n",
    "try:\n",
    "    lcf_coll, sr, sr_unfiltered = lke.download_lightcurves_of_tic_with_priority(tic,\n",
    "                                                                                download_filter_func=limit_sr_to_download, download_dir=lk_download_dir,\n",
    "                                                                                author_priority=[\"SPOC\", \"TESS-SPOC\", \"QLP\"],\n",
    "                                                                               )\n",
    "    lcf_coll_original = lcf_coll  # retain a reference to the downloaded collection in case I modify it later\n",
    "finally:\n",
    "    tplt.beep()  # a beep to remind the users that the data has been downloaded\n",
    "\n",
    "if override_sector_with_first_sector:\n",
    "    # overide and use the first sector with 2 minute cadence data\n",
    "    # Reason: if the TIC has TCEs, the epoch is generally from the first 2 minute cadence sector.\n",
    "    sector_original = sector\n",
    "    sector_first_short_cadence = sr[sr.exptime == 120 * u.s].table[0][\"sequence_number\"]\n",
    "    if sector_first_short_cadence != sector_original:\n",
    "        sector = sector_first_short_cadence\n",
    "        print(f\"INFO sector is overridden to be {sector} , the first short cadence sector.\")\n",
    "\n",
    "# Start downloading TPF asycnhronously while the user inspects the lightcurve\n",
    "# Users can jump to \"TPF Download\" section to access the result\n",
    "tpf_task = None\n",
    "if to_download_tpf_async:\n",
    "    tpf_task = lke.create_download_tpf_task(f\"TIC{tic}\", sector=sector, exptime=\"short\", author='SPOC', mission=\"TESS\", download_dir=lk_download_dir)\n",
    "\n",
    "\n",
    "metadata_html_task = None  # load TCEs asycnhronously  while the user inspects the lightcurve\n",
    "if to_show_tic_meta:\n",
    "    metadata_html_task = asyncio_compat.create_background_task(tplt.get_tic_meta_in_html, of_sector(lcf_coll, sector), a_subject_id=subject, download_dir=lk_download_dir)\n",
    "\n",
    "\n",
    "lc = of_sector(lcf_coll, sector)\n",
    "lket.display_crowdsap(lc)"
   ]
  },
  {
   "cell_type": "code",
   "execution_count": null,
   "metadata": {},
   "outputs": [],
   "source": [
    "# for triage MAST query issues\n",
    "# _sr  = lk.search_lightcurve(f\"TIC{tic}\", mission=\"TESS\")\n",
    "#\n",
    "# when needed, run this cell to download all sectors from primary mission or specific sectors\n",
    "# lcf_coll = lk.SearchResult(sr.table[np.in1d(sr.table[\"sequence_number\"], [1, 11, 12, 13])]).download_all(download_dir=lk_download_dir)\n",
    "# tplt.beep()\n",
    "# lcf_coll"
   ]
  },
  {
   "cell_type": "markdown",
   "metadata": {},
   "source": [
    "## TIC Metadata\n",
    "<a name=\"tic-metadata\">"
   ]
  },
  {
   "cell_type": "code",
   "execution_count": null,
   "metadata": {},
   "outputs": [],
   "source": [
    "# reload(tplt)\n",
    "# metadata_html_task = asyncio_compat.create_background_task(tplt.get_tic_meta_in_html, of_sector(lcf_coll, sector), a_subject_id=subject, download_dir=\"data\")\n",
    "display(HTML(await metadata_html_task))\n",
    "ax = dashboard_utils.plot_tic_on_hr(tic,\n",
    "                                    teff=None, lum=None,  # optionally specify them to override data from TIC\n",
    "                                   );\n",
    "\n",
    "# show info from TIC directly, could optionally be used to show multiple ones, e.g., to triage duplicates, splits, etc.\n",
    "tics = [tic]\n",
    "tic_rs = lket.catalog_info_of_tics(tics)\n",
    "display(HTML(\"\"\"<br>TIC Catalog parameters. Column Descriptions in:\n",
    "<a href=\"https://outerspace.stsci.edu/display/TESS/TIC+v8.2+and+CTL+v8.xx+Data+Release+Notes\" target=\"_tic_columns_doc\">Data Release Notes</a> | \n",
    "<a href=\"https://vizier.cds.unistra.fr/viz-bin/VizieR?-source=IV/39\" target=\"_tic_vizier\" title=\"Vizier seems to have more complete information about various flag values.\">Vizier table</a>\n",
    "\"\"\"))\n",
    "display(\n",
    "    tic_rs['ID', \n",
    "           'objType', 'typeSrc',\n",
    "           'Tmag',\n",
    "           'Vmag',\n",
    "           'VmagFlag',  # source of Vmag\n",
    "           'rad', 'mass', 'lum',\n",
    "           'Teff', 'TeffFlag',\n",
    "           'GAIA', 'TWOMASS', 'disposition', 'duplicate_id', \n",
    "           'plx', 'PARflag',\n",
    "           'pmRA', 'pmDEC', 'PMflag',\n",
    "           'RA_orig', 'Dec_orig',\n",
    "          ]\n",
    ")"
   ]
  },
  {
   "cell_type": "markdown",
   "metadata": {},
   "source": [
    "## Variability from other catalogs\n",
    "<a name=\"meta_other_catalogs\"></a>"
   ]
  },
  {
   "cell_type": "code",
   "execution_count": null,
   "metadata": {},
   "outputs": [],
   "source": [
    "# Used for display here, but also for later, e.g., in reports\n",
    "# reload(vetting_utils)\n",
    "all_meta = catalog_utils.get_all_meta_of_tic(tic)\n",
    "\n",
    "vetting_utils.display_all_meta_highlights(all_meta)"
   ]
  },
  {
   "cell_type": "markdown",
   "metadata": {},
   "source": [
    "## Lightcurves - all sectors\n",
    "<a name=\"lc-all\">"
   ]
  },
  {
   "cell_type": "code",
   "execution_count": null,
   "metadata": {
    "scrolled": false
   },
   "outputs": [],
   "source": [
    "# Use lcf_coll_original rather than lcf_coll,\n",
    "# in case lcf_coll is modified by the manual exclude section\n",
    "# (here we want to plot the downloaded data as-is)\n",
    "\n",
    "obs_span, num_days = lke.get_obs_date_range(lcf_coll_original)\n",
    "print(f\"Obs span: {obs_span}  ; num. of days: {num_days}\")\n",
    "\n",
    "\n",
    "# ---\n",
    "\n",
    "lc = lke.stitch(\n",
    "    lcf_coll_original,\n",
    "    corrector_func=lambda lc: (\n",
    "        lc\n",
    "#         .select_flux(\"sap_flux\")\n",
    "#         .remove_outliers(sigma=7)\n",
    "        .normalize(unit=\"percent\")\n",
    "    ),\n",
    "    ignore_incompatible_column_warning=True,\n",
    ").normalize(unit=\"percent\")\n",
    "\n",
    "print(f\"Sectors {lke.abbrev_sector_list(lc.meta['SECTORS'])}:\")\n",
    "axs = tplt.plot_skip_data_gap(lc, figsize=(30,6), s=2, alpha=0.5);\n",
    "axs[0].get_figure().suptitle(f\"{lc.label}, sectors {lke.abbrev_sector_list(lc.meta['SECTORS'])}\", fontsize=20);\n",
    "# [ax.set_ylim(99.8, None) for ax in axs];\n",
    "\n",
    "\n",
    "# Zoom in to the first and the last known sectors\n",
    "\n",
    "figsize=(12, 6)\n",
    "if len(lcf_coll_original) >= 2:\n",
    "    lcf_coll_first_last = lk.LightCurveCollection([lcf_coll_original[0], lcf_coll_original[-1], ])\n",
    "else:\n",
    "    lcf_coll_first_last = lk.LightCurveCollection([lcf_coll_original[0]])\n",
    "\n",
    "axs = tplt.plot_all(\n",
    "    lcf_coll_first_last,\n",
    "    moving_avg_window='20min',\n",
    "    ax_fn=lambda: tplt.lk_ax(figsize=figsize),\n",
    "    use_relative_time=False,\n",
    "    mark_quality_issues=False,\n",
    "    mark_momentum_dumps=True,\n",
    "    set_title=False,\n",
    ")\n",
    "\n",
    "# as a sanity check, in case PDCSAP_FLUX has some anomaly (e.g., remvoing a good dip)\n",
    "ax_flux_cmp = tplt.plot_flux_sap_flux_comparison(of_sector(lcf_coll_original, sector), ax=plt.figure(figsize=figsize).gca(),\n",
    "                                                 offset=None)"
   ]
  },
  {
   "cell_type": "markdown",
   "metadata": {},
   "source": [
    "### Manual exclude problematic cadences, if any"
   ]
  },
  {
   "cell_type": "code",
   "execution_count": null,
   "metadata": {},
   "outputs": [],
   "source": [
    "# display(HTML(\"The 2 small spikes are probably flares. So no exclusion is needed.\"))\n",
    "# axs = tplt.plot_all(of_sectors(lcf_coll, 9, 13))\n",
    "# axs[0].set_xlim(1546, 1550);\n",
    "# axs[1].set_xlim(1659, 1663);"
   ]
  },
  {
   "cell_type": "code",
   "execution_count": null,
   "metadata": {},
   "outputs": [],
   "source": [
    "to_mask_out_cadences = False\n",
    "\n",
    "if to_mask_out_cadences:\n",
    "    # a new collection that I'd modify\n",
    "    lcf_coll = lk.LightCurveCollection(lcf_coll_original.data)\n",
    "    # custom codes to mask out problematic cadences\n",
    "    #\n",
    "    # the flux in sector 9 QLP lc at the beginning of an orbit does not appear to be reliable\n",
    "    # it seems background is not subtracted sufficiently\n",
    "    idx = -1 # FILL IN\n",
    "    lc = lcf_coll[idx]\n",
    "    lc = lke.exclude_range(lc, )   # FILL IN\n",
    "    lcf_coll[idx] = lc\n",
    "\n",
    "    # plot all lightcurves again for visual validation\n",
    "    axs = tplt.plot_skip_data_gap(\n",
    "        lke.stitch(lcf_coll, corrector_func=tplt.normalize_percent, ignore_incompatible_column_warning=True),\n",
    "        figsize=(30,6), s=2, alpha=0.5\n",
    "        );\n"
   ]
  },
  {
   "cell_type": "markdown",
   "metadata": {},
   "source": [
    "## Identify initial period with BLS"
   ]
  },
  {
   "cell_type": "code",
   "execution_count": null,
   "metadata": {
    "scrolled": false
   },
   "outputs": [],
   "source": [
    "run_bls = False\n",
    "\n",
    "lc = lke.stitch(\n",
    "    lcf_coll,\n",
    "    corrector_func=lambda lc: lc.normalize(unit=\"percent\"),\n",
    "    ignore_incompatible_column_warning=True,\n",
    ")\n",
    "print(\"Total num. data points:\", len(lc))\n",
    "\n",
    "if run_bls:\n",
    "    # data points for BLS run time\n",
    "    # for a 18-sector LC (~half 30-min, ~half 2-min), with 163328 data points\n",
    "    # - minimum_period=1, maximum_period=20, frequency_factor=1000:\n",
    "    #   - run_time: 18.6s, period grid size: 19277\n",
    "    # - minimum_period=1, maximum_period=20, frequency_factor=100:\n",
    "    #   - run_time: 174s, period grid size: 192761\n",
    "    #   - period: 1.995467302777175 , epoch=1326.8983504171797, duration=0.15\n",
    "    t_bls_start = time.time()\n",
    "    result = lke_pg_runner.run_bls(lc, pg_kwargs=dict(\n",
    "        minimum_period=1, maximum_period=20,\n",
    "        frequency_factor=100,\n",
    "    ))\n",
    "    t_bls_end = time.time()\n",
    "    # TODO: BLS run time is available at  result.pg.elapsed_time\n",
    "    print(f\"BLS run time: {round(t_bls_end - t_bls_start, 1)}s\")\n",
    "#     lc.normalize().interact_bls(notebook_url=notebook_url)"
   ]
  },
  {
   "cell_type": "markdown",
   "metadata": {},
   "source": [
    "## Magnitude Range / Amplitude"
   ]
  },
  {
   "cell_type": "code",
   "execution_count": null,
   "metadata": {},
   "outputs": [],
   "source": [
    "res = lket.calc_flux_range(lcf_coll)\n",
    "\n",
    "# they'll be used in reports at the end\n",
    "flux_range_pct = res.flux_range_pct\n",
    "flux_range_mag = res.flux_range_mag\n",
    "\n",
    "# report and visualzie the results\n",
    "lc = res.lc_stitched\n",
    "print(f\"Sectors {lke.abbrev_sector_list(lc.meta['SECTORS'])}:\")\n",
    "print(\"Max/Min (normalized):\", flux_range_pct[0], flux_range_pct[1])\n",
    "print(\"Max/Min (magnitude) :\", flux_range_mag[0], flux_range_mag[1])\n",
    "\n",
    "axs = tplt.plot_skip_data_gap(lc, figsize=(30,6), s=2, alpha=0.5);\n",
    "axs[0].get_figure().suptitle(f\"{lc.label}, sectors {lke.abbrev_sector_list(lc.meta['SECTORS'])}\", fontsize=20);"
   ]
  },
  {
   "cell_type": "markdown",
   "metadata": {},
   "source": [
    "## Lightcurve - interactive\n",
    "<a name=\"lc-interactive\">"
   ]
  },
  {
   "cell_type": "code",
   "execution_count": null,
   "metadata": {},
   "outputs": [],
   "source": [
    "# interactively view a lightcurve\n",
    "lcf = of_sector(lcf_coll, sector)\n",
    "# lcf = lke.stitch(lcf_coll, corrector_func=lambda lc: lc.normalize(unit=\"percent\"))\n",
    "\n",
    "lket.display_crowdsap(lcf)\n",
    "display(HTML(f\"TSTART: {lcf.meta.get('TSTART')}\"))  # To aid relative time conversion\n",
    "\n",
    "\n",
    "# make zoom in to a specific dip eaiser\n",
    "tplt.plot_skip_data_gap(lcf, figsize=(30, 1.5)); # a small overall view\n",
    "tplt.plot_transit_interactive(lcf, figsize=(30, 10)\n",
    "#                               ,flux_col='sap_flux'\n",
    "                             );"
   ]
  },
  {
   "cell_type": "markdown",
   "metadata": {},
   "source": [
    "### More Interactive plot\n",
    "- this version is better for free-form exploration, and marking arbitrary times."
   ]
  },
  {
   "cell_type": "code",
   "execution_count": null,
   "metadata": {},
   "outputs": [],
   "source": [
    "lcf = lke.stitch(lcf_coll, corrector_func=lambda lc: lc.normalize(unit=\"percent\"))\n",
    "\n",
    "tplt.plot_skip_data_gap(lcf, figsize=(30, 1.5)); # a small overall view\n",
    "result = tplt.interact(lcf, plot_width=1200, plot_height=640, show_line=False, notebook_url=notebook_url, ylim_func=lambda lc: (np.nanmin(lc.flux).value.item(), np.nanmax(lc.flux).value.item()))"
   ]
  },
  {
   "cell_type": "code",
   "execution_count": null,
   "metadata": {},
   "outputs": [],
   "source": [
    "# print the times marked for later usage\n",
    "[round(i['time'], 2) for i in result.mark_list]"
   ]
  },
  {
   "cell_type": "markdown",
   "metadata": {},
   "source": [
    "## Lightcurve - zoomed in\n",
    "<a name=\"lc-zoomed-in\"></a>\n",
    "\n",
    "- Eclipse specification is defined here in `transit_specs`"
   ]
  },
  {
   "cell_type": "code",
   "execution_count": null,
   "metadata": {
    "scrolled": false
   },
   "outputs": [],
   "source": [
    "# Plots, zoomed-in around selected dips / transits\n",
    "\n",
    "transit_specs = TransitTimeSpecList(\n",
    "    dict(epoch=1440.6342, duration_hr=3.2435, period=7.16195, label=\"deep, s0005-s0005:TCE1, P tweadked manually\",\n",
    "         sector=5, steps_to_show=[0, 1],\n",
    "        ),\n",
    "    dict(epoch=1442.5889, duration_hr=3.9, period=7.16195, label=\"shallow, s0005-s0005:TCE2, dur tweaked manually\",\n",
    "         sector=5, steps_to_show=[0, 1],\n",
    "        ),\n",
    "    defaults=dict(surround_time=1.0)\n",
    ")\n",
    "\n",
    "\n",
    "\n",
    "\n",
    "def custom_lc_tweak(lc):\n",
    "    res = lc\n",
    "    # res = res.remove_outliers(sigma=7)\n",
    "    # res = res.bin(time_bin_size=20 * u.min)\n",
    "    return res\n",
    "\n",
    "figsize = (8, 4) # (16, 4)\n",
    "axs = tplt.plot_transits(\n",
    "                         lcf_coll # [of_sectors(lcf_coll, 27)[1], of_sectors(lcf_coll, 28)[1]]\n",
    "                         , transit_specs\n",
    "#                          , flux_col = \"sap_flux\"\n",
    "                         , ax_fn=lambda: plt.figure(figsize=figsize).gca()\n",
    "                         , t0mark_ymax=0.05\n",
    "#                          , lc_tweak_fn=lambda lc: lc.remove_outliers(sigma=7)\n",
    "                         , lc_tweak_fn=custom_lc_tweak\n",
    "                         , moving_avg_window='20min' # None # '30min' # '10min' # None, '20min' #  '30min'\n",
    "#                          , set_title=False\n",
    "                         , show_r_obj_estimate=False\n",
    "                         , title_fontsize=12\n",
    "                        )\n",
    "# axs[0].set_ylim(None, 100.15)\n",
    "print('Transits, zoomed-in');\n",
    "display(transit_specs.to_table());\n",
    "\n",
    "# The phase of Min II (the shallow dips)\n",
    "if len(transit_specs) > 1 and transit_specs[0]['epoch'] < 999:  # 999 indicates no known period by convention\n",
    "    min2_phase = ((transit_specs[1]['epoch'] - transit_specs[0]['epoch']) / transit_specs[0]['period']) % 1\n",
    "    print(\"Min II phase in [-1.0, 1.0]:\", min2_phase, \"in days:\", transit_specs[0]['period'] * min2_phase)\n",
    "    if (min2_phase > 0.5):\n",
    "        print(\"Min II phase in [-0.5, 0.5]:\", min2_phase - 1, \"in days:\", transit_specs[0]['period'] * (min2_phase - 1))"
   ]
  },
  {
   "cell_type": "markdown",
   "metadata": {},
   "source": [
    "#### Compare with identified eclipses with TESS EB results, if any"
   ]
  },
  {
   "cell_type": "code",
   "execution_count": null,
   "metadata": {},
   "outputs": [],
   "source": [
    "if len(all_meta.tesseb) > 0:\n",
    "    vetting_utils.display_no_index(all_meta.tesseb[[\"TIC\", \"Per\", \"Epochp\", \"Durationp-pf\", \"Dp-pf\", \"Epochs-pf\", \"Durations-pf\", \"Ds-pf\"]])\n",
    "    vetting_utils.display_no_index(all_meta.tesseb[[\"TIC\", \"Per\", \"Epochp\", \"Durationp-2g\", \"Dp-2g\", \"Epochs-2g\", \"Durations-2g\", \"Ds-2g\"]])\n",
    "else:\n",
    "    print(\"No TESS EB entry.\")"
   ]
  },
  {
   "cell_type": "markdown",
   "metadata": {},
   "source": [
    "### Custom Crowding Correction"
   ]
  },
  {
   "cell_type": "code",
   "execution_count": 1,
   "metadata": {},
   "outputs": [
    {
     "ename": "NameError",
     "evalue": "name 'of_sector' is not defined",
     "output_type": "error",
     "traceback": [
      "\u001b[1;31m---------------------------------------------------------------------------\u001b[0m",
      "\u001b[1;31mNameError\u001b[0m                                 Traceback (most recent call last)",
      "Cell \u001b[1;32mIn[1], line 5\u001b[0m\n\u001b[0;32m      1\u001b[0m \u001b[38;5;66;03m# Crowding correction \u001b[39;00m\n\u001b[0;32m      2\u001b[0m \u001b[38;5;66;03m# see https://heasarc.gsfc.nasa.gov/docs/tess/UnderstandingCrowding.html\u001b[39;00m\n\u001b[0;32m      4\u001b[0m do_custom_crowding \u001b[38;5;241m=\u001b[39m \u001b[38;5;28;01mFalse\u001b[39;00m\n\u001b[1;32m----> 5\u001b[0m lc \u001b[38;5;241m=\u001b[39m \u001b[43mof_sector\u001b[49m(lcf_coll, sector)\n\u001b[0;32m      6\u001b[0m lc \u001b[38;5;241m=\u001b[39m lc\u001b[38;5;241m.\u001b[39mtruncate(transit_specs[\u001b[38;5;241m0\u001b[39m][\u001b[38;5;124m'\u001b[39m\u001b[38;5;124mepoch\u001b[39m\u001b[38;5;124m'\u001b[39m] \u001b[38;5;241m-\u001b[39m transit_specs[\u001b[38;5;241m0\u001b[39m][\u001b[38;5;124m'\u001b[39m\u001b[38;5;124mduration_hr\u001b[39m\u001b[38;5;124m'\u001b[39m] \u001b[38;5;241m/\u001b[39m \u001b[38;5;241m24\u001b[39m, transit_specs[\u001b[38;5;241m0\u001b[39m][\u001b[38;5;124m'\u001b[39m\u001b[38;5;124mepoch\u001b[39m\u001b[38;5;124m'\u001b[39m]  \u001b[38;5;241m+\u001b[39m transit_specs[\u001b[38;5;241m0\u001b[39m][\u001b[38;5;124m'\u001b[39m\u001b[38;5;124mduration_hr\u001b[39m\u001b[38;5;124m'\u001b[39m] \u001b[38;5;241m/\u001b[39m \u001b[38;5;241m24\u001b[39m)  \u001b[38;5;66;03m# optional zoom in\u001b[39;00m\n\u001b[0;32m      8\u001b[0m crowdsap \u001b[38;5;241m=\u001b[39m lc\u001b[38;5;241m.\u001b[39mmeta[\u001b[38;5;124m\"\u001b[39m\u001b[38;5;124mCROWDSAP\u001b[39m\u001b[38;5;124m\"\u001b[39m]  \u001b[38;5;66;03m# FILL-IN: override for cases that there are nearby stars not accounted in TIC, etc.\u001b[39;00m\n",
      "\u001b[1;31mNameError\u001b[0m: name 'of_sector' is not defined"
     ]
    }
   ],
   "source": [
    "# Crowding correction \n",
    "# see https://heasarc.gsfc.nasa.gov/docs/tess/UnderstandingCrowding.html\n",
    "\n",
    "do_custom_crowding = False\n",
    "lc = of_sector(lcf_coll, sector)\n",
    "lc = lc.truncate(transit_specs[0]['epoch'] - transit_specs[0]['duration_hr'] / 24, transit_specs[0]['epoch']  + transit_specs[0]['duration_hr'] / 24)  # optional zoom in\n",
    "\n",
    "crowdsap = lc.meta[\"CROWDSAP\"]  # FILL-IN: override for cases that there are nearby stars not accounted in TIC, etc.\n",
    "flfrcsap = lc.meta[\"FLFRCSAP\"]\n",
    "\n",
    "if do_custom_crowding:\n",
    "    lc_sap = lc.select_flux(\"sap_flux\")\n",
    "\n",
    "    with plt.style.context(lk.MPLSTYLE):\n",
    "        fig, axs = plt.subplots(1, 3, figsize=(20, 4), sharey=True);\n",
    "\n",
    "    ax1 = lc_sap.normalize(unit=\"percent\").scatter(ax=axs[0]);\n",
    "    ax1.set_title(f\"{lc.label} SAP_FLUX\")\n",
    "    ax2 = lc.normalize(unit=\"percent\").scatter(ax=axs[1]);\n",
    "    ax2.set_ylabel(None)\n",
    "    ax2.set_title(f\"{lc.label} PDCSAP_FLUX\\nCROWDSAP: {round(lc.meta.get('CROWDSAP', -1), 2)}, FLFRCSAP: {round(lc.meta.get('FLFRCSAP', -1), 2)}\");\n",
    "\n",
    "    # create a crowding corrected LC based on SAP_FLUX, based on custom crowdsap, flfrcsap\n",
    "    def correct_crowding(lc_sap, crowdsap, flfrcsap):\n",
    "        median_flux = np.median(lc_sap.flux)\n",
    "        excess_flux = (1 - crowdsap) * median_flux  \n",
    "        flux_removed = lc_sap.flux  - excess_flux  # note: a **constant** amount of flux is removed, so a dip would be proportionally deeper\n",
    "        flux_corr = flux_removed / flfrcsap\n",
    "        lc_corr = lk.LightCurve(time=lc_sap.time, flux=flux_corr)\n",
    "        lc_corr.meta.update(lc_sap.meta)\n",
    "        lc_corr.meta[\"CROWDSAP\"] = crowdsap\n",
    "        lc_corr.meta[\"FLFRCSAP\"] = flfrcsap\n",
    "        return lc_corr\n",
    "\n",
    "\n",
    "    lc_corr = correct_crowding(lc_sap, crowdsap, flfrcsap)\n",
    "\n",
    "    ax3 = lc_corr.normalize(unit=\"percent\").scatter(ax=axs[2]);\n",
    "    ax3.set_ylabel(None)\n",
    "    ax3.set_title(f\"{lc_corr.label}, custom crowding correction\\nCROWDSAP: {round(lc_corr.meta.get('CROWDSAP', -1), 2)}, FLFRCSAP: {round(lc_corr.meta.get('FLFRCSAP', -1), 2)}\");\n",
    "\n",
    "    plt.tight_layout();\n",
    "    plt.subplots_adjust(wspace=0.02);"
   ]
  },
  {
   "cell_type": "markdown",
   "metadata": {},
   "source": [
    "## Lightcurves - eclipses marked\n",
    "<a name=\"lc-transits\">"
   ]
  },
  {
   "cell_type": "code",
   "execution_count": null,
   "metadata": {
    "scrolled": false
   },
   "outputs": [],
   "source": [
    "red_marks = dict(linestyle='--', color=\"red\")\n",
    "blue_marks = dict(linestyle='--', color=\"blue\")\n",
    "yellow_marks = dict(linestyle='--', color=\"yellow\", ymin=0.1, ymax=0.3, linewidth=2)  # , ymax=0.5\n",
    "orange_marks = dict(linestyle=':', color=\"orange\", ymin=0.1, ymax=0.3)  # , ymax=0.8\n",
    "green_marks = dict(linestyle='--', color=\"green\", ymax=0.4)  # , ymax=0.8\n",
    "purple_marks = dict(linestyle=':', color=\"purple\", ymax=0.4)  # , ymax=0.5\n",
    "\n",
    "# customize these parameters if needed\n",
    "lcf_coll_to_use = lcf_coll\n",
    "tt_specs = transit_specs\n",
    "\n",
    "\n",
    "axvline_kwargs_specs = [\n",
    "    red_marks,\n",
    "    blue_marks\n",
    "]\n",
    "skip_no_transit_plot = True\n",
    "\n",
    "# Now do the marking\n",
    "axs, tt_lists = [], []\n",
    "for lc_to_use in lcf_coll_to_use :\n",
    "    with warnings.catch_warnings():\n",
    "        # avoid warnings about repeated normalization\n",
    "        warnings.filterwarnings(\"ignore\", category=lk.LightkurveWarning, message=\".*in relative units.*\")\n",
    "#         lc_to_use = tplt._to_lc_with_flux(lc_to_use, \"sap_flux\")\n",
    "        lc_to_use = lc_to_use.normalize(unit=\"percent\")  # .remove_outliers(sigma=7)\n",
    "    ax = plt.figure(figsize=(25, 5)).gca()\n",
    "    ax1, tt_list = tplt.mark_transit_times(lc_to_use, tt_specs,\n",
    "                                           axvline_kwargs_specs=axvline_kwargs_specs,\n",
    "                                           ax=ax,\n",
    "                                           skip_no_transit_plot=skip_no_transit_plot,\n",
    "#                                            lc_plot_func_name=\"plot\",\n",
    "                                          )\n",
    "    if ax1 is not None:\n",
    "        axs.append(ax1), tt_lists.append(tt_list)\n",
    "    else:\n",
    "        plt.close(ax.figure)\n",
    "\n",
    "print(tt_specs);\n",
    "print(tt_lists);\n",
    "# axs[-1].set_ylim(None, 100.5)"
   ]
  },
  {
   "cell_type": "markdown",
   "metadata": {},
   "source": [
    "### Plot marked dips, zoomed in"
   ]
  },
  {
   "cell_type": "code",
   "execution_count": null,
   "metadata": {},
   "outputs": [],
   "source": [
    "surround_time = 0.5\n",
    "figsize = (8, 4)"
   ]
  },
  {
   "cell_type": "markdown",
   "metadata": {},
   "source": [
    "#### Deep eclpises, zoomed in"
   ]
  },
  {
   "cell_type": "code",
   "execution_count": null,
   "metadata": {
    "scrolled": false
   },
   "outputs": [],
   "source": [
    "specs_idx = 0  # deep eclipses\n",
    "\n",
    "t0, period, duration_hr, label = tt_specs[specs_idx][\"epoch\"], tt_specs[specs_idx][\"period\"], tt_specs[specs_idx][\"duration_hr\"], tt_specs[specs_idx][\"label\"]\n",
    "\n",
    "def tweak_axs(axs):\n",
    "#     [ax.set_ylim(axs[-1].get_ylim()) for ax in axs];\n",
    "#     [ax.set_ylim(99.7, 100.2) for ax in axs];\n",
    "    return axs;\n",
    "\n",
    "print(\"period: \", period, \", t0: \", t0)\n",
    "\n",
    "axs = []\n",
    "# check how well the predicted dips fit with observation, using the first and the last sector in the collection\n",
    "for lc in of_sectors(lcf_coll_to_use[:], lcf_coll_to_use[0].sector, lcf_coll_to_use[-1].sector):\n",
    "    lc = lke.select_flux(lc, [\"flux\"])  # [\"kspsap_flux\", \"flux\"] #  \"sap_flux\"\n",
    "    lc_sap = lc.select_flux(\"sap_flux\") #  use SAP_FLUX to calc transit time to get dips only in SAP_FLUX\n",
    "    transit_times = lke.get_transit_times_in_lc(lc_sap, t0, period, return_string=False,\n",
    "#                                                 break_tolerance=1e7,  # also mark data gap, by setting large break_tolerance\n",
    "                                               )\n",
    "    for tt in transit_times[:3]:  # limit to 3 per sector for clarity\n",
    "        with plt.style.context(lk.MPLSTYLE):\n",
    "            if True:   # for FLUX\n",
    "                ax = plt.figure(figsize=figsize).gca()\n",
    "                tplt.plot_transit(lc, ax, tt, duration_hr / 24, surround_time,\n",
    "                                  moving_avg_window=\"20min\",\n",
    "                                  title_fontsize=10,\n",
    "                                  show_r_obj_estimate=True,\n",
    "                                  legend_kwargs=dict(fontsize=7, loc=\"upper right\")\n",
    "                                 )\n",
    "                axs.append(ax)\n",
    "\n",
    "tweak_axs(axs);"
   ]
  },
  {
   "cell_type": "markdown",
   "metadata": {},
   "source": [
    "#### Shallow Eclipses, zoomed-in"
   ]
  },
  {
   "cell_type": "code",
   "execution_count": null,
   "metadata": {
    "scrolled": false
   },
   "outputs": [],
   "source": [
    "specs_idx = 1  # shallow eclipses\n",
    "\n",
    "t0, period, duration_hr, label = tt_specs[specs_idx][\"epoch\"], tt_specs[specs_idx][\"period\"], tt_specs[specs_idx][\"duration_hr\"], tt_specs[specs_idx][\"label\"]\n",
    "\n",
    "def tweak_axs(axs):\n",
    "#     [ax.set_ylim(axs[-1].get_ylim()) for ax in axs];\n",
    "#     [ax.set_ylim(99.7, 100.2) for ax in axs];\n",
    "    return axs;\n",
    "\n",
    "print(\"period: \", period, \", t0: \", t0)\n",
    "\n",
    "axs = []\n",
    "# check how well the predicted dips fit with observation, using the first and the last sector in the collection\n",
    "for lc in of_sectors(lcf_coll_to_use[:], lcf_coll_to_use[0].sector, lcf_coll_to_use[-1].sector):\n",
    "    lc = lke.select_flux(lc, [\"flux\"])  # [\"kspsap_flux\", \"flux\"] #  \"sap_flux\"\n",
    "    lc_sap = lc.select_flux(\"sap_flux\") #  use SAP_FLUX to calc transit time to get dips only in SAP_FLUX\n",
    "    transit_times = lke.get_transit_times_in_lc(lc_sap, t0, period, return_string=False,\n",
    "#                                                 break_tolerance=1e7,  # also mark data gap, by setting large break_tolerance\n",
    "                                               )\n",
    "    for tt in transit_times[:3]:  # limit to 3 per sector for clarity\n",
    "        with plt.style.context(lk.MPLSTYLE):\n",
    "            if True:   # for FLUX\n",
    "                ax = plt.figure(figsize=figsize).gca()\n",
    "                tplt.plot_transit(lc, ax, tt, duration_hr / 24, surround_time,\n",
    "                                  moving_avg_window=\"20min\",\n",
    "                                  title_fontsize=10,\n",
    "                                  show_r_obj_estimate=True,\n",
    "                                  legend_kwargs=dict(fontsize=7, loc=\"upper right\")\n",
    "                                 )\n",
    "                axs.append(ax)\n",
    "\n",
    "tweak_axs(axs);"
   ]
  },
  {
   "cell_type": "markdown",
   "metadata": {},
   "source": [
    "## Lightcurves - folded\n",
    "<a name=\"lc-fold\">"
   ]
  },
  {
   "cell_type": "code",
   "execution_count": null,
   "metadata": {},
   "outputs": [],
   "source": [
    "# Fold lightcurves\n",
    "\n",
    "# use all LCs  to see better ensure the period is good\n",
    "lc = lke.stitch(lcf_coll, corrector_func=tplt.normalize_percent, ignore_incompatible_column_warning=True)\n",
    "\n",
    "t0 = transit_specs[0][\"epoch\"]\n",
    "period = transit_specs[0][\"period\"]\n",
    "\n",
    "figsize = (12, 6)\n",
    "time_bin_size = None  # 10 * u.minute\n",
    "\n",
    "if time_bin_size is not None:\n",
    "    lc_b = lke.bin_flux(time_bin_size=time_bin_size)\n",
    "else:\n",
    "    lc_b = lc\n",
    "\n",
    "\n",
    "ax1, lc_f1 = tplt.fold_and_plot(lc_b, period, t0, figsize=figsize)\n",
    "ax2, lc_f2 = tplt.fold_2x_periods_and_plot(lc_b, period, t0, figsize=figsize)\n",
    "\n",
    "# used by subsequent cells\n",
    "obs_actual_days = len(set([int(v) for v in lc_f1.time_original.value]))\n",
    "obs_actual_cycles = len(set(lc_f1.cycle))\n",
    "print(f\"# days: {obs_actual_days} ; # cycles: {obs_actual_cycles}\")"
   ]
  },
  {
   "cell_type": "code",
   "execution_count": null,
   "metadata": {},
   "outputs": [],
   "source": [
    "to_animate_folded_lc = False\n",
    "\n",
    "if to_animate_folded_lc:\n",
    "    ax = tplt.lk_ax(figsize=(10, 5))\n",
    "    with plt.style.context(lk.MPLSTYLE):  # needed to main lightkurve style in animation\n",
    "        lc_to_use = lc_f1\n",
    "        tplt.animate_folded_lightcurve(lc_to_use, ax=ax, interval=750, num_frames=240, plot_kwargs=dict(s=9));\n",
    "    lc_to_use.meta.get(\"TARGETID\"), len(np.unique(tplt.calc_cycles(lc_to_use)))"
   ]
  },
  {
   "cell_type": "markdown",
   "metadata": {},
   "source": [
    "## Eclipse Depth from observation\n",
    "- use folded, detrended, normalized lightcurve\n",
    "- calculate flux at minimum as the median flux of a 10 minute window of the minimum (possibly many data points due to folding)\n",
    "- eclipse depth is `1 - flux_at_minimum`, assuming regular (out of eclipse) flux is 100%"
   ]
  },
  {
   "cell_type": "code",
   "execution_count": null,
   "metadata": {},
   "outputs": [],
   "source": [
    "# Detrend then fold,\n",
    "# - eclipses masked out during detrend to preserve them\n",
    "\n",
    "# use 2 min cadence lightcurves only to make flattening easier (with consistent cadence)\n",
    "lc = of_lcs(lcf_coll, lambda lc: lc.author == \"SPOC\").stitch(corrector_func=tplt.normalize_percent)\n",
    "\n",
    "window_length_days = 4 / 24\n",
    "lc_flattened = lc.flatten(window_length=lke.to_window_length_for_2min_cadence(window_length_days),\n",
    "                          mask=lc.create_transit_mask(transit_time=transit_specs.epoch, period=transit_specs.period, duration=transit_specs.duration)\n",
    "                         ).normalize(unit=\"percent\")"
   ]
  },
  {
   "cell_type": "code",
   "execution_count": null,
   "metadata": {
    "scrolled": false
   },
   "outputs": [],
   "source": [
    "# visualize the detrended lightcurve\n",
    "\n",
    "figsize = (20, 4)\n",
    "figsize_z = (8, 4)\n",
    "\n",
    "axs = tplt.plot_skip_data_gap(lc, figsize=figsize, s=2, alpha=0.5);\n",
    "axs[0].get_figure().suptitle(f'{lc.label}')\n",
    "\n",
    "axs = tplt.plot_skip_data_gap(lc_flattened, figsize=figsize, s=2, alpha=0.5);\n",
    "axs[0].get_figure().suptitle(f'{lc_flattened.label}, flattened with a window {window_length_days} days')\n",
    "\n",
    "zoom_window = 5\n",
    "\n",
    "zoom_b, zoom_e = np.ceil(lc_flattened.time.min().value) + 1, np.ceil(lc_flattened.time.min().value) + 1 + zoom_window\n",
    "lc.truncate(zoom_b, zoom_e).scatter(ax=tplt.lk_ax(figsize=figsize_z));\n",
    "ax = lc_flattened.truncate(zoom_b, zoom_e).scatter(ax=tplt.lk_ax(figsize=figsize_z), label=f'{lc.label}, flattened');\n",
    "\n",
    "zoom_b, zoom_e = np.ceil(lc_flattened.time.max().value) - 1 - zoom_window, np.ceil(lc_flattened.time.max().value) - 1\n",
    "lc.truncate(zoom_b, zoom_e).scatter(ax=tplt.lk_ax(figsize=figsize_z));\n",
    "ax = lc_flattened.truncate(zoom_b, zoom_e).scatter(ax=tplt.lk_ax(figsize=figsize_z), label=f'{lc.label}, flattened');"
   ]
  },
  {
   "cell_type": "markdown",
   "metadata": {},
   "source": [
    "### Deep Eclipse depth"
   ]
  },
  {
   "cell_type": "code",
   "execution_count": null,
   "metadata": {},
   "outputs": [],
   "source": [
    "t0 = transit_specs[0][\"epoch\"]\n",
    "period = transit_specs[0][\"period\"]\n",
    "duration = transit_specs[0][\"duration_hr\"] / 24\n",
    "\n",
    "lc_ff_deep = lc_flattened.fold(epoch_time=t0, period=period)\n",
    "\n",
    "flux_min_deep, flux_min_deep_sample_size = lke.calc_flux_at_minimum(lc_ff_deep)\n",
    "depth_deep = 1 - flux_min_deep\n",
    "print(f\"Deep eclipse depth: {100*depth_deep:.3f}% ; num. data points: {flux_min_deep_sample_size}\")\n",
    "\n",
    "ax, ax_z = tplt.plot_n_annotate_folded(lc_ff_deep, annotate=False, also_plot_zoom_transit=True, duration=duration)"
   ]
  },
  {
   "cell_type": "markdown",
   "metadata": {},
   "source": [
    "### Shallow Eclipse Depth"
   ]
  },
  {
   "cell_type": "code",
   "execution_count": null,
   "metadata": {},
   "outputs": [],
   "source": [
    "t0 = transit_specs[1][\"epoch\"]\n",
    "period = transit_specs[1][\"period\"]\n",
    "duration = transit_specs[1][\"duration_hr\"] / 24\n",
    "\n",
    "lc_ff_shallow = lc_flattened.fold(epoch_time=t0, period=period)\n",
    "\n",
    "flux_min_shallow, flux_min_shallow_sample_size = lke.calc_flux_at_minimum(lc_ff_shallow)\n",
    "depth_shallow = 1 - flux_min_shallow\n",
    "print(f\"Shallow eclipse depth: {100*depth_shallow:.3f}% ; num. data points: {flux_min_shallow_sample_size}\")\n",
    "\n",
    "ax, ax_z = tplt.plot_n_annotate_folded(lc_ff_shallow, annotate=False, also_plot_zoom_transit=True, duration=duration)"
   ]
  },
  {
   "cell_type": "markdown",
   "metadata": {},
   "source": [
    "## Identify additional variability\n",
    "<a name=\"lc-period\">"
   ]
  },
  {
   "cell_type": "markdown",
   "metadata": {},
   "source": [
    "### Mask out eclipses\n",
    "to visualize the remaining fluctuations"
   ]
  },
  {
   "cell_type": "code",
   "execution_count": null,
   "metadata": {
    "scrolled": false
   },
   "outputs": [],
   "source": [
    "# use LCs with all cadences\n",
    "lc = lke.stitch(lcf_coll, corrector_func=lambda lc: lc.remove_nans().normalize(unit=\"percent\"), ignore_incompatible_column_warning=True)\n",
    "\n",
    "## use LCs with flux in electron/s only, to calculate FAP\n",
    "# lc = lke.stitch(lke.select(lcf_coll, lambda lc: lc.author in [\"SPOC\", \"TESS-SPOC\"]), corrector_func=lambda lc: lc.remove_nans(), ignore_incompatible_column_warning=True)\n",
    "\n",
    "t_mask = lc.create_transit_mask(transit_time=transit_specs.epoch, period=transit_specs.period, duration=transit_specs.duration)\n",
    "lc_masked = lc[~t_mask]\n",
    "\n",
    "with plt.style.context(lk.MPLSTYLE):\n",
    "    figsize = (20, 4)\n",
    "    axs = tplt.plot_skip_data_gap(lc_masked, figsize=figsize, s=2, alpha=0.5);\n",
    "    axs[0].get_figure().suptitle(f'{lc_masked.label}')"
   ]
  },
  {
   "cell_type": "markdown",
   "metadata": {},
   "source": [
    "### Lomb Scargle Periodogram"
   ]
  },
  {
   "cell_type": "code",
   "execution_count": null,
   "metadata": {},
   "outputs": [],
   "source": [
    "pg = (\n",
    "    lc_masked\n",
    "    .to_periodogram(method=\"lombscargle\"\n",
    "#                        , minimum_period=.01, maximum_period=25,\n",
    "#                     ls_method=\"fastchi2\", nterms=3,\n",
    "                      )\n",
    "     )\n",
    "pg.show_properties();"
   ]
  },
  {
   "cell_type": "code",
   "execution_count": null,
   "metadata": {},
   "outputs": [],
   "source": [
    "lke_pg.plot_pg_n_mark_max(pg, max_period_factor=10);\n",
    "\n",
    "ax = pg.plot(view=\"period\")  # period view, zoom in around peak\n",
    "ax.set_xlim(pg.period_at_max_power.value / 3 , pg.period_at_max_power.value * 5/3);\n",
    "\n",
    "ax = pg.plot(view=\"frequency\");  # frequency view\n",
    "ax.set_xlim(pg.frequency_at_max_power.value / 100 , pg.frequency_at_max_power.value * 5);\n",
    "\n",
    "# frequency in log scale / microhertz ; useful for, say, solar type oscillator\n",
    "ax = pg.plot(view=\"frequency\", unit=u.microhertz, scale=\"log\");\n",
    "\n",
    "if not lc.meta.get(\"NORMALIZED\") and pg.nterms == 1:\n",
    "    # calc FAP. Somehow it does not work with normalized flux (always return 1.0 for normalized flux)\n",
    "    pg_fap = pg._LS_object.false_alarm_probability(pg.max_power, method=\"baluev\")  # the FAP is often useless if the lc is normalized\n",
    "    print(\"False Alarm Probability:\", pg_fap)"
   ]
  },
  {
   "cell_type": "code",
   "execution_count": null,
   "metadata": {},
   "outputs": [],
   "source": [
    "axs = lke_pg.plot_lc_with_model(lc_masked.normalize(), pg);"
   ]
  },
  {
   "cell_type": "markdown",
   "metadata": {},
   "source": [
    "Animated folded lightcurve \n",
    "\n",
    "If the target has additional rotational variability,\n",
    "- the period holds across sectors\n",
    "- but the pattern within a period evolves over time. "
   ]
  },
  {
   "cell_type": "code",
   "execution_count": null,
   "metadata": {},
   "outputs": [],
   "source": [
    "lc_add_var_f = lc_masked.normalize(unit=\"percent\").fold(epoch_time=lc_masked.time.min(), period=pg.period_at_max_power)\n",
    "ax = lc_add_var_f.scatter(alpha=1.0, s=0.1);\n",
    "ax.set_title(\"Folded with Periodogram period, eclipses masked\");\n",
    "\n",
    "# peak to peak as a measure of the amplitude of the additional variability\n",
    "peak_to_peak_add_var_res = lke.calc_peak_to_peak(lc_add_var_f)\n",
    "print(f\"Peak to peak:\")\n",
    "display(peak_to_peak_add_var_res)"
   ]
  },
  {
   "cell_type": "code",
   "execution_count": null,
   "metadata": {},
   "outputs": [],
   "source": [
    "# animate the folded lightcurve (with periodogram period)\n",
    "to_animate_folded_lc = True\n",
    "\n",
    "if to_animate_folded_lc:\n",
    "    ax = tplt.lk_ax(figsize=(8, 4))\n",
    "    with plt.style.context(lk.MPLSTYLE):  # needed to main lightkurve style in animation\n",
    "        lc_to_use = lc_add_var_f\n",
    "        tplt.animate_folded_lightcurve(lc_to_use, ax=ax, interval=750, num_frames=240, plot_kwargs=dict(s=9));\n",
    "    lc_to_use.meta.get(\"TARGETID\"), len(np.unique(tplt.calc_cycles(lc_to_use)))"
   ]
  },
  {
   "cell_type": "code",
   "execution_count": null,
   "metadata": {},
   "outputs": [],
   "source": [
    "lc_add_var_f_e = lc_masked.normalize(unit=\"percent\").fold(epoch_time=lc_masked.time.min(), period=transit_specs[0][\"period\"])\n",
    "ax = lc_add_var_f_e.scatter(alpha=1.0, s=0.1);\n",
    "ax.set_title(\"Folded with Eclipse period, eclipses masked\");"
   ]
  },
  {
   "cell_type": "code",
   "execution_count": null,
   "metadata": {},
   "outputs": [],
   "source": [
    "# animate the folded lightcurve (with eclipse period)\n",
    "to_animate_folded_lc = False\n",
    "\n",
    "if to_animate_folded_lc:\n",
    "    ax = tplt.lk_ax(figsize=(8, 4))\n",
    "    with plt.style.context(lk.MPLSTYLE):  # needed to main lightkurve style in animation\n",
    "        lc_to_use = lc_add_var_f_e\n",
    "        tplt.animate_folded_lightcurve(lc_to_use, ax=ax, interval=750, num_frames=240, plot_kwargs=dict(s=9));"
   ]
  },
  {
   "cell_type": "markdown",
   "metadata": {},
   "source": [
    "## Contamination Check\n",
    "<a name=\"contamination\"></a>"
   ]
  },
  {
   "cell_type": "markdown",
   "metadata": {},
   "source": [
    "### Lightcurve - background\n",
    "<a name=\"lc-background-sso\">"
   ]
  },
  {
   "cell_type": "code",
   "execution_count": null,
   "metadata": {},
   "outputs": [],
   "source": [
    "specs_idx, step_idx = 0, 0\n",
    "\n",
    "lc = of_sector(lcf_coll,  transit_specs[specs_idx][\"sector\"])\n",
    "lc = lc.normalize(unit='percent')\n",
    "\n",
    "# Check the background flux for the duration in question\n",
    "t0 = transit_specs[specs_idx][\"epoch\"]\n",
    "period = transit_specs[specs_idx][\"period\"]\n",
    "search_period = transit_specs[specs_idx][\"duration_hr\"] * 1.3 / 24\n",
    "plot_period = search_period * 1.5\n",
    "\n",
    "steps_to_show = transit_specs[specs_idx][\"steps_to_show\"]\n",
    "t0 = t0 + period *  steps_to_show[step_idx]\n",
    "\n",
    "search_start, search_end = t0 - search_period /2, t0 + search_period /2\n",
    "plot_start, plot_end = t0 - plot_period /2, t0 + plot_period /2\n",
    "\n",
    "plot_binned = False\n",
    "plot_sap_flux = False\n",
    "\n",
    "fig, axs = plt.subplots(3 if plot_binned else 2, 1, sharex=True, figsize=(12, 10.5 if plot_binned else 7))\n",
    "fig.subplots_adjust(hspace=0)\n",
    "\n",
    "time_mask = (lc.time.value >= plot_start) & (lc.time.value <= plot_end)\n",
    "if plot_binned:\n",
    "    lc_b = lke.bin_flux(lc, time_bin_size = 30 * u.minute)  # bin it to speed up SSO search\n",
    "    lc_b[(lc_b.time.value >= plot_start) & (lc_b.time.value <= plot_end)].scatter(ax=axs[0], label=lc.label + ' binned')\n",
    "\n",
    "if plot_sap_flux:\n",
    "    lc_sap[time_mask].scatter(column='sap_flux', ax=axs[-2], c='orange', label=lc.label + 'SAP')\n",
    "else:\n",
    "    lc[time_mask].scatter(ax=axs[-2], label=lc.label + ' PDCSAP')\n",
    "\n",
    "lc_bkg = lke.get_bkg_lightcurve(lc)\n",
    "lc_bkg[time_mask].scatter(ax=axs[-1], color='gray')\n",
    "\n",
    "if True and search_start is not None:\n",
    "    for ax in axs:\n",
    "        ax.axvline(search_start, linestyle='--', c='r')\n",
    "        ax.axvline(search_end, linestyle='--', c='r')\n",
    "\n",
    "print('t0=', t0);"
   ]
  },
  {
   "cell_type": "markdown",
   "metadata": {},
   "source": [
    "### TPF Download\n",
    "<a name=\"tpf_download\">"
   ]
  },
  {
   "cell_type": "code",
   "execution_count": null,
   "metadata": {},
   "outputs": [],
   "source": [
    "# Google colab user: this cell will fail with SyntaxError in await\n",
    "# use the next cell instead.\n",
    "\n",
    "global tpf_task  # need to define it as global, otherwise UnboundLocalError would occur\n",
    "if tpf_task is None:\n",
    "    tpf_task = lke.create_download_tpf_task(f\"TIC{tic}\", sector=sector, exptime=\"short\", author='SPOC', mission=\"TESS\", download_dir=\"data\")\n",
    "# else the download has been previoulsy initiated (in \"Enter TIC\" section, no need to do it),\n",
    "#      no need to do it again\n",
    "\n",
    "try:\n",
    "    tpf_coll, sr_tpf = await tpf_task\n",
    "    display(sr_tpf)\n",
    "\n",
    "    if tpf_coll is not None and len(tpf_coll) > 0:\n",
    "        tpf_original =  tpf_coll[0]\n",
    "        # data around a momentum dump is often very noisy, exclude them to avoid skewing subsequent plots\n",
    "        tpf = lket.MomentumDumpsAccessor.exclude_around(tpf_original, window_before=15/60/24, window_after=15/60/24)\n",
    "\n",
    "        print(tpf, \" , sector\", tpf.sector)\n",
    "        print(\"     time:\", tpf.time.min() , \"-\", tpf.time.max())\n",
    "        print(\"cadenceno:\", tpf.cadenceno.min() , \"-\", tpf.cadenceno.max())\n",
    "\n",
    "        lc = tpf.to_lightcurve().remove_outliers(sigma=8)\n",
    "        ax = lc.scatter();\n",
    "        tplt.plot_momentum_dumps(lc, ax)\n",
    "finally:\n",
    "    tplt.beep()\n",
    "    tpf_task = None  # once task result is consumed, reset it so that one can run it again in the next run"
   ]
  },
  {
   "cell_type": "markdown",
   "metadata": {},
   "source": [
    "### TPF Zoom in, deep eclipse\n",
    "<a name=\"tpf_zoom_in\">"
   ]
  },
  {
   "cell_type": "code",
   "execution_count": null,
   "metadata": {},
   "outputs": [],
   "source": [
    "ylim_func = lambda lc: (np.nanmin(lc.flux), np.nanmax(lc.flux))\n",
    "# ylim_func = lambda lc: (np.nanpercentile(lc.flux, 0.1), np.nanpercentile(lc.flux, 99.9))\n",
    "\n",
    "specs_idx, step_idx = 0, 0\n",
    "t0 = transit_specs[specs_idx][\"epoch\"]\n",
    "duration = transit_specs[specs_idx][\"duration_hr\"] / 24\n",
    "period = transit_specs[specs_idx][\"period\"]\n",
    "steps_to_show = transit_specs[specs_idx][\"steps_to_show\"]\n",
    "t0 = t0 + period * steps_to_show[step_idx]\n",
    "surround_time = 1.0\n",
    "\n",
    "plot_start, plot_end = t0 - duration / 2 - surround_time / 2,  t0 + duration /2 + surround_time / 2\n",
    "\n",
    "\n",
    "print('t0 =', t0);\n",
    "\n",
    "# zoomed in to the time around the dip\n",
    "tpf_trunc = tpf[(tpf.time.value >= plot_start) & (tpf.time.value <= plot_end)]  # for Lightkurve 2 API\n",
    "\n",
    "# zoom to arbitrary date range\n",
    "# tpf_trunc = tpf[(tpf.time >= tpf.time.min() + 3) & (tpf.time <= tpf.time.min() + 12)]\n",
    "\n",
    "if len(tpf_trunc) < 1:\n",
    "    display(HTML(\"\"\"<font style=\"background-color: red;\">WARNGING:</font> the truncated TPF is zero length. Sunsequent operations would fail.\"\"\"))\n",
    "\n",
    "\n",
    "if (tpf_trunc.time.max() - tpf_trunc.time.min()) > 3 * u.day:\n",
    "    display(HTML(('<span style=\"background-color: yellow\">Note:</span> The TPF spans over a long time. Consider to zoom in. Duration: '\n",
    "                  f'{(tpf_trunc.time.max() -tpf_trunc.time.min()).to(u.day)}')))\n",
    "\n",
    "if 'google.colab' in str(get_ipython()):\n",
    "    tpf_trunc.to_lightcurve().scatter();\n",
    "else:\n",
    "    tpf_trunc.interact(ylim_func=ylim_func,\n",
    "#                        aperture_mask=tpf.background_mask\n",
    "                       transform_func=tplt.normalize_percent,\n",
    "                       notebook_url=notebook_url,\n",
    "                      );"
   ]
  },
  {
   "cell_type": "code",
   "execution_count": null,
   "metadata": {},
   "outputs": [],
   "source": [
    "tpf_mag = tpf_trunc.meta.get(\"TESSMAG\")\n",
    "print('Target magnitude: ', tpf_mag)\n",
    "magnitude_limit = tpf_mag + 8 if tpf_mag is not None else 18\n",
    "\n",
    "tplt.show_tpf_orientation(tpf)\n",
    "tplt.interact_sky(tpf_trunc, aperture_mask=\"pipeline\", magnitude_limit = magnitude_limit, notebook_url=notebook_url,);\n",
    "tplt.show_nearby_tic_summary_form();"
   ]
  },
  {
   "cell_type": "code",
   "execution_count": null,
   "metadata": {},
   "outputs": [],
   "source": [
    "pixel_size_inches, markersize = 1.0, 0.8\n",
    "fig = plt.figure(figsize=(tpf.flux[0].shape[1] * pixel_size_inches, tpf.flux[0].shape[0] * pixel_size_inches))\n",
    "ax = tpf_trunc.plot_pixels(ax=fig.gca(), aperture_mask=tpf_trunc.pipeline_mask, show_flux=True, markersize=markersize);\n",
    "tplt.beep();"
   ]
  },
  {
   "cell_type": "markdown",
   "metadata": {},
   "source": [
    "### TPF Zoom In, shallow eclipses"
   ]
  },
  {
   "cell_type": "code",
   "execution_count": null,
   "metadata": {},
   "outputs": [],
   "source": [
    "ylim_func = lambda lc: (np.nanmin(lc.flux), np.nanmax(lc.flux))\n",
    "# ylim_func = lambda lc: (np.nanpercentile(lc.flux, 0.1), np.nanpercentile(lc.flux, 99.9))\n",
    "\n",
    "specs_idx, step_idx = 1, 0\n",
    "t0 = transit_specs[specs_idx][\"epoch\"]\n",
    "duration = transit_specs[specs_idx][\"duration_hr\"] / 24\n",
    "period = transit_specs[specs_idx][\"period\"]\n",
    "steps_to_show = transit_specs[specs_idx][\"steps_to_show\"]\n",
    "t0 = t0 + period *  steps_to_show[step_idx]\n",
    "surround_time = 1.0\n",
    "\n",
    "plot_start, plot_end = t0 - duration / 2 - surround_time / 2,  t0 + duration /2 + surround_time / 2\n",
    "\n",
    "\n",
    "print('t0 =', t0);\n",
    "\n",
    "# zommed in to the time around the dip\n",
    "tpf_trunc = tpf[(tpf.time.value >= plot_start) & (tpf.time.value <= plot_end)]  # for Lightkurve 2 API\n",
    "\n",
    "# zoom to arbitrary date range\n",
    "# tpf_trunc = tpf[(tpf.time >= tpf.time.min() + 3) & (tpf.time <= tpf.time.min() + 12)]\n",
    "\n",
    "if len(tpf_trunc) < 1:\n",
    "    display(HTML(\"\"\"<font style=\"background-color: red;\">WARNGING:</font> the truncated TPF is zero length. Sunsequent operations would fail.\"\"\"))\n",
    "\n",
    "\n",
    "if (tpf_trunc.time.max() - tpf_trunc.time.min()) > 3 * u.day:\n",
    "    display(HTML(('<span style=\"background-color: yellow\">Note:</span> The TPF spans over a long time. Consider to zoom in. Duration: '\n",
    "                  f'{(tpf_trunc.time.max() -tpf_trunc.time.min()).to(u.day)}')))\n",
    "\n",
    "if 'google.colab' in str(get_ipython()):\n",
    "    tpf_trunc.to_lightcurve().scatter();\n",
    "else:\n",
    "    tpf_trunc.interact(ylim_func=ylim_func,\n",
    "#                        aperture_mask=tpf.background_mask\n",
    "                       transform_func=tplt.normalize_percent,\n",
    "                       notebook_url=notebook_url,\n",
    "                      );"
   ]
  },
  {
   "cell_type": "code",
   "execution_count": null,
   "metadata": {},
   "outputs": [],
   "source": [
    "fig = plt.figure(figsize=(tpf.flux[0].shape[1] * pixel_size_inches, tpf.flux[0].shape[0] * pixel_size_inches))\n",
    "ax = tpf_trunc.plot_pixels(ax=fig.gca(), aperture_mask=tpf_trunc.pipeline_mask, show_flux=True, markersize=markersize);\n",
    "tplt.beep();"
   ]
  },
  {
   "cell_type": "markdown",
   "metadata": {},
   "source": [
    "## Reports\n",
    "<a name=\"reports\"></a>"
   ]
  },
  {
   "cell_type": "code",
   "execution_count": null,
   "metadata": {},
   "outputs": [],
   "source": [
    "# Common elements for reports\n",
    "\n",
    "def get_mag_range_mag_text():\n",
    "    return f\"Mag. range: {flux_range_mag[0]:.2f} - {flux_range_mag[1]:.2f} TESS\"\n",
    "\n",
    "\n",
    "# Fill in for this target\n",
    "variable_type = \"EA+ROT\"\n",
    "remarks = f\"{get_mag_range_mag_text()} . Rough rotational period: {lc_add_var_f.meta['PERIOD']:.5f} .\"\n",
    "\n",
    "# Common helpers, no need to modify\n",
    "def report_to_df(report):\n",
    "    df = pd.DataFrame()\n",
    "    df[\"Field\"] = report.keys()\n",
    "    df[\"Value\"] = report.values()\n",
    "    return df"
   ]
  },
  {
   "cell_type": "markdown",
   "metadata": {},
   "source": [
    "### EB Report \n",
    "<a name=\"eb_report\"></a>"
   ]
  },
  {
   "cell_type": "code",
   "execution_count": null,
   "metadata": {},
   "outputs": [],
   "source": [
    "obs_span_cycles = obs_span / transit_specs[0][\"period\"]\n",
    "sectors_all = \",\".join([str(s) for s in sr.table[\"sequence_number\"]])\n",
    "sectors_short_cadence = \",\".join([str(s) for s in sr[sr.author == \"SPOC\"].table[\"sequence_number\"]])  # it could include fast cadence in theory, but not relevant for our usage here.\n",
    "\n",
    "eb_report = dict(\n",
    "    tic_id=tic,\n",
    "    variable_type=variable_type,\n",
    "    period=transit_specs[0][\"period\"],\n",
    "    epoch_deep=transit_specs[0][\"epoch\"],\n",
    "    duration_hr_deep=transit_specs[0][\"duration_hr\"],\n",
    "    depth_deep=depth_deep,\n",
    "    epoch_shallow=transit_specs[1][\"epoch\"],\n",
    "    duration_hr_shallow=transit_specs[1][\"duration_hr\"],\n",
    "    depth_shallow=depth_shallow,\n",
    "    observation_span_days=obs_span,\n",
    "    observation_span_cycles=obs_span_cycles,\n",
    "    observation_actual_days=obs_actual_days,\n",
    "    observation_actual_cycles=obs_actual_cycles,\n",
    "    sectors=sectors_all,  # used to determine period, epoch, duration\n",
    "    sectors_short_cadence=sectors_short_cadence,  # used to deteremine depth\n",
    "    remarks=remarks,\n",
    ")\n",
    "\n",
    "with pd.option_context('display.max_colwidth', None):\n",
    "    display(report_to_df(eb_report))"
   ]
  },
  {
   "cell_type": "markdown",
   "metadata": {},
   "source": [
    "## External Supporting Information\n",
    "<a name=\"external_docs\">"
   ]
  },
  {
   "cell_type": "markdown",
   "metadata": {},
   "source": [
    "### TCEs\n",
    "\n",
    "- <span style=\"background-color: red; padding: 6px;\"> EXAMPLE ONLY. To edit </span> 2 matching TCEs:\n",
    "  - https://exo.mast.stsci.edu/exomast_planet.html?planet=TIC1220444S0005S0005TCE1 : deep eclipses\n",
    "  - https://exo.mast.stsci.edu/exomast_planet.html?planet=TIC1220444S0005S0005TCE2  : shallow eclipses\n",
    "  - Epoch / period can be derived from it.\n",
    "  - In-eclipse centroid is on target.  \n"
   ]
  }
 ],
 "metadata": {
  "kernelspec": {
   "display_name": "Python 3 (ipykernel)",
   "language": "python",
   "name": "python3"
  },
  "language_info": {
   "codemirror_mode": {
    "name": "ipython",
    "version": 3
   },
   "file_extension": ".py",
   "mimetype": "text/x-python",
   "name": "python",
   "nbconvert_exporter": "python",
   "pygments_lexer": "ipython3",
   "version": "3.10.13"
  },
  "toc": {
   "base_numbering": 1,
   "nav_menu": {},
   "number_sections": true,
   "sideBar": true,
   "skip_h1_title": false,
   "title_cell": "Table of Contents",
   "title_sidebar": "Contents",
   "toc_cell": false,
   "toc_position": {},
   "toc_section_display": true,
   "toc_window_display": false
  },
  "vscode": {
   "interpreter": {
    "hash": "cf14734aefd952c101fa7a730b7e28a3f566541dc5a8dc5204d96dcd505be75c"
   }
  }
 },
 "nbformat": 4,
 "nbformat_minor": 4
}
