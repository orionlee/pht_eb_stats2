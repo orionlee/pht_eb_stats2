{
 "cells": [
  {
   "cell_type": "markdown",
   "id": "dca701db",
   "metadata": {},
   "source": [
    "# PHT EB Catalog - PHT participants\n",
    "\n",
    "- this notebook focuses on report the behavior of PHT participants\n",
    "- Thus it primarily works on PHT subject level (rather than TIC level)"
   ]
  },
  {
   "cell_type": "code",
   "execution_count": 1,
   "id": "4858a3c2",
   "metadata": {},
   "outputs": [
    {
     "data": {
      "text/html": [
       "<style>.container { width:99% !important; }</style>"
      ],
      "text/plain": [
       "<IPython.core.display.HTML object>"
      ]
     },
     "metadata": {},
     "output_type": "display_data"
    }
   ],
   "source": [
    "from importlib import reload\n",
    "\n",
    "import numpy as np\n",
    "import pandas as pd\n",
    "from IPython.display import display, HTML\n",
    "\n",
    "import catalog\n",
    "import catalog_stats\n",
    "import dashboard_utils\n",
    "\n",
    "display(HTML(\"<style>.container { width:99% !important; }</style>\"))"
   ]
  },
  {
   "cell_type": "code",
   "execution_count": 2,
   "id": "8bcb2bbb",
   "metadata": {},
   "outputs": [
    {
     "name": "stdout",
     "output_type": "stream",
     "text": [
      "Num. of subjects in the catalog: 28092\n"
     ]
    }
   ],
   "source": [
    "def sector_group_func1(sector):\n",
    "    if sector <= 13:\n",
    "        return \"01-13\"  # year 1\n",
    "    elif sector <= 26:\n",
    "        return \"14-26\"  # year 2\n",
    "    elif sector <= 39:\n",
    "        return \"27-39\"  # year 3\n",
    "    else:\n",
    "        return \"others\"\n",
    "\n",
    "def sector_group_func2(sector):\n",
    "    if sector <= 9:\n",
    "        return \"01-09\"  # use the zoom-in UI1, sector 9 with UI2 and UI2\n",
    "    elif sector <= 19:\n",
    "        return \"10-19\"\n",
    "    elif sector <= 29:\n",
    "        return \"20-29\"\n",
    "    elif sector <= 39:\n",
    "        return \"30-39\"\n",
    "    else:\n",
    "        return \"others\"  # should not happen\n",
    "\n",
    "sector_groups = [\"01-09\", \"10-19\", \"20-29\", \"30-39\"]\n",
    "df = catalog.create_pht_eb_subj_catalog(sector_group_func=sector_group_func2)\n",
    "print(\"Num. of subjects in the catalog:\", len(df))"
   ]
  },
  {
   "cell_type": "markdown",
   "id": "547705c4",
   "metadata": {},
   "source": [
    "## Tagging accuracy changes over time\n",
    "\n",
    "- The proxy accuracy among subjects tagged by more than 3 users (`eb_score >=3`) does not change much over time.\n",
    "- There might in fact be some *decrease* in sectors 30-39, down to <span style=\"background: rgba(255,255,0, 0.8);\">91.8%</span>\n",
    "- The proportion of subjects with `eb_score >=3` has incresaed, from <span style=\"background: rgba(255,168,0, 0.5);\">19.5%</span> in sectors 1-9 up to <span style=\"background: rgba(255,168,0, 0.5);\">39.2%</span> in sectors 30-39"
   ]
  },
  {
   "cell_type": "code",
   "execution_count": 3,
   "id": "24b1e895",
   "metadata": {},
   "outputs": [
    {
     "data": {
      "application/vnd.jupyter.widget-view+json": {
       "model_id": "3f9f62e7fe1b449ab098bb50f2f01133",
       "version_major": 2,
       "version_minor": 0
      },
      "text/plain": [
       "GridBox(children=(Output(layout=Layout(border='1px dotted gray')), Output(layout=Layout(border='1px dotted gra…"
      ]
     },
     "metadata": {},
     "output_type": "display_data"
    }
   ],
   "source": [
    "max_eb_score =3\n",
    "catalog_stats.add_eb_score_group(df, group_min=0, group_max=max_eb_score, recalc_if_exists=True)\n",
    "\n",
    "\n",
    "sector_group_reports, sector_group_stylers = [], []\n",
    "for i, sector_group in enumerate(sector_groups):\n",
    "    report, styler = catalog_stats.pivot_by_eb_score_group(df[df[\"sector_group\"] == sector_group], \n",
    "                                                           calc_totals_pct_col=True,\n",
    "                                                           also_return_styler=True)\n",
    "    # abbreviate is_eb_catalog, eb_score_group to fit the screen space\n",
    "    styler.columns.names = [None, None, \"is_eb\"]\n",
    "    styler.index.name = \"score\"\n",
    "\n",
    "    # highlight the best\n",
    "    selector_proxy_accuracy = (f\"0{max_eb_score}+\", (\"count\", \"tic_id\", \"T/(T+F)\"))\n",
    "    styler = styler.applymap(lambda x: \"background: rgba(255, 255, 0, 0.8)\", subset=selector_proxy_accuracy)\n",
    "    selector_totals_pct = (f\"0{max_eb_score}+\", (\"count\", \"tic_id\", \"Totals %\"))\n",
    "    styler = styler.applymap(lambda x: \"background: rgba(255, 168, 0, 0.5)\", subset=selector_totals_pct)\n",
    "    styler = styler.set_caption(f\"Sectors {sector_group}\")\n",
    "    \n",
    "    sector_group_reports.append(report)\n",
    "    sector_group_stylers.append(styler)\n",
    "\n",
    "dashboard_utils.n_columns(sector_group_stylers)"
   ]
  }
 ],
 "metadata": {
  "kernelspec": {
   "display_name": "Python 3 (ipykernel)",
   "language": "python",
   "name": "python3"
  },
  "language_info": {
   "codemirror_mode": {
    "name": "ipython",
    "version": 3
   },
   "file_extension": ".py",
   "mimetype": "text/x-python",
   "name": "python",
   "nbconvert_exporter": "python",
   "pygments_lexer": "ipython3",
   "version": "3.9.12"
  }
 },
 "nbformat": 4,
 "nbformat_minor": 5
}
