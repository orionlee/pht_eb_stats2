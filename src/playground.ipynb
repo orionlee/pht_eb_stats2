{
 "cells": [
  {
   "cell_type": "markdown",
   "metadata": {},
   "source": [
    "## Scratch pad for trying / testing out codes"
   ]
  },
  {
   "cell_type": "code",
   "execution_count": 2,
   "metadata": {},
   "outputs": [],
   "source": [
    "from importlib import reload\n",
    "\n",
    "#\n",
    "#\n",
    "#\n",
    "\n",
    "import uuid\n",
    "from IPython.display import display_javascript, display_html, display\n",
    "import json\n",
    "\n",
    "class RenderJSON(object):\n",
    "    def __init__(self, json_data):\n",
    "        if isinstance(json_data, dict):\n",
    "            self.json_str = json.dumps(json_data)\n",
    "        else:\n",
    "            self.json_str = json_data\n",
    "        self.uuid = str(uuid.uuid4())\n",
    "\n",
    "    def _ipython_display_(self):\n",
    "        display_html('<div id=\"{}\" style=\"height: 600px; width:100%;\"></div>'.format(self.uuid), raw=True)\n",
    "        display_javascript(\"\"\"\n",
    "        require([\"https://rawgit.com/caldwell/renderjson/master/renderjson.js\"], function() {\n",
    "        renderjson.set_show_to_level(2)\n",
    "        document.getElementById('%s').appendChild(renderjson(%s))\n",
    "        });\n",
    "        \"\"\" % (self.uuid, self.json_str), raw=True)\n",
    "        \n"
   ]
  },
  {
   "cell_type": "code",
   "execution_count": null,
   "metadata": {},
   "outputs": [],
   "source": [
    "import common as _common\n",
    "reload(_common)\n",
    "import pht_subj_ids as pht_ids\n",
    "reload(pht_ids)\n",
    "\n",
    "# res = pht_ids._get_subject_ids_of_tag_page(\"eclipsingbinary\", 1, json=True)\n",
    "# RenderJSON(res);\n",
    "\n",
    "# res = pht_ids._get_subject_ids_of_tag_page(\"eclipsingbinary\", 1)\n",
    "# res\n",
    "\n",
    "# res = pht_ids.get_subject_ids_of_tag(\"eclipsingbinary\", 1, 2, 33000000, pht_ids.save_subject_ids_of_page)\n",
    "res = pht_ids.get_subject_ids_of_tag(\"eclipsingbinary\", 1, 15, end_subject_id_exclusive=68601250, page_result_func=pht_ids.save_subject_ids_of_page)\n",
    "len(res)"
   ]
  },
  {
   "cell_type": "code",
   "execution_count": 38,
   "metadata": {},
   "outputs": [
    {
     "data": {
      "text/html": [
       "<div id=\"c0ea4e40-0a26-416d-95d0-d4e7bec94d85\" style=\"height: 600px; width:100%;\"></div>"
      ]
     },
     "metadata": {},
     "output_type": "display_data"
    },
    {
     "data": {
      "application/javascript": "\n        require([\"https://rawgit.com/caldwell/renderjson/master/renderjson.js\"], function() {\n        renderjson.set_show_to_level(2)\n        document.getElementById('c0ea4e40-0a26-416d-95d0-d4e7bec94d85').appendChild(renderjson({\"subjects\": [{\"id\": \"32582718\", \"metadata\": {\"#sim\": false, \"#durl\": \"https://mast.stsci.edu/api/v0.1/Download/file/?uri=mast:TESS/product/tess2019032160000-s0008-0000000382517745-0136-s_lc.fits\", \"#Image\": \"tess382517745_scc0841_03.png\", \"#chunk\": 3, \"Sector\": 8, \"!TIC ID\": 382517745, \"#Target\": false, \"!Web link\": \"https://archive.stsci.edu/tess\", \"#xmax pix\": 1197.599999999999, \"#xmin pix\": 30.29191802530204, \"Magnitude\": \"10.59\", \"#xmax time\": 24.648891732732896, \"#xmin time\": 17.5, \"Temperature (K)\": \"5518\", \"Radius (solar radii)\": \"1.216\"}, \"locations\": [{\"image/png\": \"https://panoptes-uploads.zooniverse.org/subject_location/67017c3a-b541-48b2-a40c-ab5a86f0ef84.png\"}], \"zooniverse_id\": null, \"external_id\": null, \"created_at\": \"2019-04-23T10:48:06.653Z\", \"updated_at\": \"2019-04-23T10:48:06.653Z\", \"href\": \"/subjects/32582718\", \"links\": {\"project\": \"7929\", \"collections\": [\"121659\", \"123406\", \"123887\", \"124164\", \"124181\", \"124459\", \"126114\", \"128401\", \"129360\", \"129698\", \"129787\", \"130039\", \"130602\", \"130929\", \"133379\", \"135694\", \"139764\", \"140692\", \"141290\", \"143380\", \"143484\", \"143796\", \"143827\", \"143921\", \"150520\", \"150521\", \"153005\", \"161806\", \"167846\", \"232875\", \"252035\", \"255234\", \"255252\", \"257334\"], \"subject_sets\": [\"75016\"]}}], \"links\": {\"subjects.project\": {\"href\": \"/projects/{subjects.project}\", \"type\": \"projects\"}, \"subjects.collections\": {\"href\": \"/collections?subject_id={subjects.id}\", \"type\": \"collections\"}, \"subjects.subject_sets\": {\"href\": \"/subject_sets?subject_id={subjects.id}\", \"type\": \"subject_sets\"}}, \"meta\": {\"subjects\": {\"page\": 1, \"page_size\": 20, \"count\": 1, \"include\": [], \"page_count\": 1, \"previous_page\": null, \"next_page\": null, \"first_href\": \"/subjects?id=32582718\", \"previous_href\": null, \"next_href\": null, \"last_href\": \"/subjects?id=32582718\"}}}))\n        });\n        "
     },
     "metadata": {},
     "output_type": "display_data"
    }
   ],
   "source": [
    "from IPython.display import display, JSON\n",
    "\n",
    "import requests\n",
    "\n",
    "# # get list of subjects of a tag\n",
    "# tag = \"eclipsingbinary\"\n",
    "# page = 1\n",
    "# r = requests.get(f\"https://talk.zooniverse.org/tags/popular?http_cache=true&taggable_type=Subject&section=project-7929&name={tag}&page={page}\")\n",
    "# r.json()\n",
    "\n",
    "\n",
    "# get comments of a subject \n",
    "# subject_id = 32582718\n",
    "# page = 1\n",
    "# r = requests.get(f\"https://talk.zooniverse.org/comments?http_cache=true&section=project-7929&focus_type=Subject&sort=-created_at&focus_id={subject_id}&page={page}\")\n",
    "# JSON(r.json())\n",
    "\n",
    "# TIC (and other meta) of a subject\n",
    "subject_id = 32582718\n",
    "headers = {\"accept\": \"application/vnd.api+json; version=1\", \"content-type\": \"application/json\"}\n",
    "r = requests.get(f\"https://www.zooniverse.org/api/subjects?http_cache=true&id={subject_id}\", headers=headers)\n",
    "RenderJSON(r.json())"
   ]
  }
 ],
 "metadata": {
  "kernelspec": {
   "display_name": "Python 3.9.12 ('pht_eb_stats2')",
   "language": "python",
   "name": "python3"
  },
  "language_info": {
   "codemirror_mode": {
    "name": "ipython",
    "version": 3
   },
   "file_extension": ".py",
   "mimetype": "text/x-python",
   "name": "python",
   "nbconvert_exporter": "python",
   "pygments_lexer": "ipython3",
   "version": "3.9.12"
  },
  "orig_nbformat": 4,
  "vscode": {
   "interpreter": {
    "hash": "eb550afef4070f6d0c84559578f78a28984f8f075409b177c967e1897d402310"
   }
  }
 },
 "nbformat": 4,
 "nbformat_minor": 2
}
