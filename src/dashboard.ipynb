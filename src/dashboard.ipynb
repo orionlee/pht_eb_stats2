{
 "cells": [
  {
   "cell_type": "markdown",
   "metadata": {},
   "source": [
    "# PHT Eclipsing Binary Catalog\n",
    "\n",
    "- data covered: sectors 1 - 39 (2 years of Southern hemisphere and 1 year of Northern hemisphere)"
   ]
  },
  {
   "cell_type": "code",
   "execution_count": 2,
   "metadata": {},
   "outputs": [
    {
     "name": "stdout",
     "output_type": "stream",
     "text": [
      "Could not import regions, which is required for some of the functionalities of this module.\n"
     ]
    }
   ],
   "source": [
    "from importlib import reload\n",
    "\n",
    "from IPython.display import display\n",
    "\n",
    "import pandas as pd\n",
    "from pandas.io.clipboard import clipboard_set\n",
    "\n",
    "import catalog_stats\n",
    "from catalog_stats import CAT_COLS_COMMON\n",
    "import dashboard_utils\n",
    "from dashboard_utils import two_columns"
   ]
  },
  {
   "cell_type": "markdown",
   "metadata": {},
   "source": [
    "## Tagging accuracy and Catalog coverage"
   ]
  },
  {
   "cell_type": "code",
   "execution_count": 3,
   "metadata": {},
   "outputs": [
    {
     "data": {
      "application/vnd.jupyter.widget-view+json": {
       "model_id": "e9686048129e402a8ea5d22ffc983139",
       "version_major": 2,
       "version_minor": 0
      },
      "text/plain": [
       "GridBox(children=(Output(layout=Layout(border='1px dotted gray')), Output(layout=Layout(border='1px dotted gra…"
      ]
     },
     "metadata": {},
     "output_type": "display_data"
    },
    {
     "data": {
      "image/png": "[encoded data removed]",
      "text/plain": [
       "<Figure size 432x288 with 1 Axes>"
      ]
     },
     "metadata": {},
     "output_type": "display_data"
    }
   ],
   "source": [
    "# reload(catalog_stats)\n",
    "\n",
    "df_catalog = dashboard_utils.get_catalog(\"pht_eb\")\n",
    "\n",
    "grid, col1, col2 = two_columns(also_return_outputs=True)\n",
    "\n",
    "with col1:\n",
    "    report, styler = catalog_stats.pivot_by_eb_score_group(df_catalog, also_return_styler=True)\n",
    "    display(styler)\n",
    "\n",
    "with col2:\n",
    "    ax = report[report.index != \"Totals\"].plot.pie(y=('count', 'tic_id', 'Totals'));\n",
    "    ax.set_title(\"TIC distribution by eb_score_group\")\n",
    "    display(ax.get_figure())\n",
    "\n",
    "display(grid);"
   ]
  },
  {
   "cell_type": "markdown",
   "metadata": {},
   "source": [
    "## Coverage of individual catalogs"
   ]
  },
  {
   "cell_type": "code",
   "execution_count": 6,
   "metadata": {},
   "outputs": [
    {
     "data": {
      "application/vnd.jupyter.widget-view+json": {
       "model_id": "3b484fd25e7c4f58ae99800e0411aadf",
       "version_major": 2,
       "version_minor": 0
      },
      "text/plain": [
       "GridBox(children=(Output(layout=Layout(border='1px dotted gray')), Output(layout=Layout(border='1px dotted gra…"
      ]
     },
     "metadata": {},
     "output_type": "display_data"
    },
    {
     "data": {
      "application/vnd.jupyter.widget-view+json": {
       "model_id": "6f432d6d21ac4f90973dc36479238c64",
       "version_major": 2,
       "version_minor": 0
      },
      "text/plain": [
       "GridBox(children=(Output(layout=Layout(border='1px dotted gray')), Output(layout=Layout(border='1px dotted gra…"
      ]
     },
     "metadata": {},
     "output_type": "display_data"
    }
   ],
   "source": [
    "report_simbad, styler_simbad = catalog_stats.pivot_by_eb_score_group(df_catalog, columns=\"SIMBAD_Is_EB\", also_return_styler=True)\n",
    "# display(report_simbad[report_simbad.index == \"Totals\"])\n",
    "display(two_columns(styler_simbad, styler))\n",
    "\n",
    "report_vsx, styler_vsx = catalog_stats.pivot_by_eb_score_group(df_catalog, columns=\"VSX_Is_EB\", also_return_styler=True)\n",
    "# display(report_vsx[report_vsx.index == \"Totals\"])\n",
    "display(two_columns(styler_vsx, styler))"
   ]
  },
  {
   "cell_type": "markdown",
   "metadata": {},
   "source": [
    "### Compare raw number of EB votes vs adjusted eb_score \n",
    "- can we just use raw `num_votes_eb`, rather than adjusted `eb_score`, to gauge the likelihood of TIC being an eclipsing binary?"
   ]
  },
  {
   "cell_type": "code",
   "execution_count": 5,
   "metadata": {},
   "outputs": [
    {
     "data": {
      "application/vnd.jupyter.widget-view+json": {
       "model_id": "975aaf36a9a748b19113d653c958f15f",
       "version_major": 2,
       "version_minor": 0
      },
      "text/plain": [
       "GridBox(children=(Output(layout=Layout(border='1px dotted gray')), Output(layout=Layout(border='1px dotted gra…"
      ]
     },
     "metadata": {},
     "output_type": "display_data"
    }
   ],
   "source": [
    "report_by_score, styler_by_score = catalog_stats.pivot_by_eb_score_group(df_catalog, row=\"num_votes_eb_group\", also_return_styler=True)\n",
    "display(two_columns(styler_by_score, styler))"
   ]
  },
  {
   "cell_type": "markdown",
   "metadata": {},
   "source": [
    "## Sample TICs"
   ]
  },
  {
   "cell_type": "code",
   "execution_count": 21,
   "metadata": {},
   "outputs": [
    {
     "data": {
      "text/html": [
       "<style type=\"text/css\">\n",
       "</style>\n",
       "<table id=\"T_5da79\">\n",
       "  <thead>\n",
       "    <tr>\n",
       "      <th id=\"T_5da79_level0_col0\" class=\"col_heading level0 col0\" >tic_id</th>\n",
       "      <th id=\"T_5da79_level0_col1\" class=\"col_heading level0 col1\" >best_subject_id</th>\n",
       "      <th id=\"T_5da79_level0_col2\" class=\"col_heading level0 col2\" >is_eb_catalog</th>\n",
       "      <th id=\"T_5da79_level0_col3\" class=\"col_heading level0 col3\" >eb_score</th>\n",
       "      <th id=\"T_5da79_level0_col4\" class=\"col_heading level0 col4\" >SIMBAD_MAIN_ID</th>\n",
       "      <th id=\"T_5da79_level0_col5\" class=\"col_heading level0 col5\" >SIMBAD_OTYPES</th>\n",
       "      <th id=\"T_5da79_level0_col6\" class=\"col_heading level0 col6\" >SIMBAD_Is_EB</th>\n",
       "      <th id=\"T_5da79_level0_col7\" class=\"col_heading level0 col7\" >VSX_Name</th>\n",
       "      <th id=\"T_5da79_level0_col8\" class=\"col_heading level0 col8\" >VSX_Type</th>\n",
       "      <th id=\"T_5da79_level0_col9\" class=\"col_heading level0 col9\" >VSX_Is_EB</th>\n",
       "      <th id=\"T_5da79_level0_col10\" class=\"col_heading level0 col10\" >VSX_Period</th>\n",
       "    </tr>\n",
       "  </thead>\n",
       "  <tbody>\n",
       "    <tr>\n",
       "      <td id=\"T_5da79_row0_col0\" class=\"data row0 col0\" >143669444</td>\n",
       "      <td id=\"T_5da79_row0_col1\" class=\"data row0 col1\" >32026607</td>\n",
       "      <td id=\"T_5da79_row0_col2\" class=\"data row0 col2\" >F</td>\n",
       "      <td id=\"T_5da79_row0_col3\" class=\"data row0 col3\" >11</td>\n",
       "      <td id=\"T_5da79_row0_col4\" class=\"data row0 col4\" >HD  64881</td>\n",
       "      <td id=\"T_5da79_row0_col5\" class=\"data row0 col5\" >*|IR</td>\n",
       "      <td id=\"T_5da79_row0_col6\" class=\"data row0 col6\" >-</td>\n",
       "      <td id=\"T_5da79_row0_col7\" class=\"data row0 col7\" >HD 64881</td>\n",
       "      <td id=\"T_5da79_row0_col8\" class=\"data row0 col8\" >ACV|ELL</td>\n",
       "      <td id=\"T_5da79_row0_col9\" class=\"data row0 col9\" >F</td>\n",
       "      <td id=\"T_5da79_row0_col10\" class=\"data row0 col10\" >1.103900</td>\n",
       "    </tr>\n",
       "    <tr>\n",
       "      <td id=\"T_5da79_row1_col0\" class=\"data row1 col0\" >281581467</td>\n",
       "      <td id=\"T_5da79_row1_col1\" class=\"data row1 col1\" >60853074</td>\n",
       "      <td id=\"T_5da79_row1_col2\" class=\"data row1 col2\" >F</td>\n",
       "      <td id=\"T_5da79_row1_col3\" class=\"data row1 col3\" >7</td>\n",
       "      <td id=\"T_5da79_row1_col4\" class=\"data row1 col4\" >TYC 8911-718-1</td>\n",
       "      <td id=\"T_5da79_row1_col5\" class=\"data row1 col5\" >PM*|*|IR</td>\n",
       "      <td id=\"T_5da79_row1_col6\" class=\"data row1 col6\" >-</td>\n",
       "      <td id=\"T_5da79_row1_col7\" class=\"data row1 col7\" >ASASSN-V J074356.39-602347.2</td>\n",
       "      <td id=\"T_5da79_row1_col8\" class=\"data row1 col8\" >ROT:</td>\n",
       "      <td id=\"T_5da79_row1_col9\" class=\"data row1 col9\" >F</td>\n",
       "      <td id=\"T_5da79_row1_col10\" class=\"data row1 col10\" >nan</td>\n",
       "    </tr>\n",
       "    <tr>\n",
       "      <td id=\"T_5da79_row2_col0\" class=\"data row2 col0\" >4200337</td>\n",
       "      <td id=\"T_5da79_row2_col1\" class=\"data row2 col1\" >56365918</td>\n",
       "      <td id=\"T_5da79_row2_col2\" class=\"data row2 col2\" >F</td>\n",
       "      <td id=\"T_5da79_row2_col3\" class=\"data row2 col3\" >6</td>\n",
       "      <td id=\"T_5da79_row2_col4\" class=\"data row2 col4\" >nan</td>\n",
       "      <td id=\"T_5da79_row2_col5\" class=\"data row2 col5\" >nan</td>\n",
       "      <td id=\"T_5da79_row2_col6\" class=\"data row2 col6\" >-</td>\n",
       "      <td id=\"T_5da79_row2_col7\" class=\"data row2 col7\" >CSS_J052244.8-010231</td>\n",
       "      <td id=\"T_5da79_row2_col8\" class=\"data row2 col8\" >BY</td>\n",
       "      <td id=\"T_5da79_row2_col9\" class=\"data row2 col9\" >F</td>\n",
       "      <td id=\"T_5da79_row2_col10\" class=\"data row2 col10\" >8.164117</td>\n",
       "    </tr>\n",
       "    <tr>\n",
       "      <td id=\"T_5da79_row3_col0\" class=\"data row3 col0\" >77209028</td>\n",
       "      <td id=\"T_5da79_row3_col1\" class=\"data row3 col1\" >30249806</td>\n",
       "      <td id=\"T_5da79_row3_col2\" class=\"data row3 col2\" >F</td>\n",
       "      <td id=\"T_5da79_row3_col3\" class=\"data row3 col3\" >6</td>\n",
       "      <td id=\"T_5da79_row3_col4\" class=\"data row3 col4\" >CD-38  1652</td>\n",
       "      <td id=\"T_5da79_row3_col5\" class=\"data row3 col5\" >Ro*|V*|*|IR|X</td>\n",
       "      <td id=\"T_5da79_row3_col6\" class=\"data row3 col6\" >F</td>\n",
       "      <td id=\"T_5da79_row3_col7\" class=\"data row3 col7\" >ASAS J043559-3841.6</td>\n",
       "      <td id=\"T_5da79_row3_col8\" class=\"data row3 col8\" >ROT</td>\n",
       "      <td id=\"T_5da79_row3_col9\" class=\"data row3 col9\" >F</td>\n",
       "      <td id=\"T_5da79_row3_col10\" class=\"data row3 col10\" >0.568900</td>\n",
       "    </tr>\n",
       "    <tr>\n",
       "      <td id=\"T_5da79_row4_col0\" class=\"data row4 col0\" >17342647</td>\n",
       "      <td id=\"T_5da79_row4_col1\" class=\"data row4 col1\" >48229829</td>\n",
       "      <td id=\"T_5da79_row4_col2\" class=\"data row4 col2\" >F</td>\n",
       "      <td id=\"T_5da79_row4_col3\" class=\"data row4 col3\" >5</td>\n",
       "      <td id=\"T_5da79_row4_col4\" class=\"data row4 col4\" >HD 144359</td>\n",
       "      <td id=\"T_5da79_row4_col5\" class=\"data row4 col5\" >*|IR|UV</td>\n",
       "      <td id=\"T_5da79_row4_col6\" class=\"data row4 col6\" >-</td>\n",
       "      <td id=\"T_5da79_row4_col7\" class=\"data row4 col7\" >HD 144359</td>\n",
       "      <td id=\"T_5da79_row4_col8\" class=\"data row4 col8\" >HB</td>\n",
       "      <td id=\"T_5da79_row4_col9\" class=\"data row4 col9\" >F</td>\n",
       "      <td id=\"T_5da79_row4_col10\" class=\"data row4 col10\" >4.382000</td>\n",
       "    </tr>\n",
       "    <tr>\n",
       "      <td id=\"T_5da79_row5_col0\" class=\"data row5 col0\" >43273020</td>\n",
       "      <td id=\"T_5da79_row5_col1\" class=\"data row5 col1\" >48223594</td>\n",
       "      <td id=\"T_5da79_row5_col2\" class=\"data row5 col2\" >F</td>\n",
       "      <td id=\"T_5da79_row5_col3\" class=\"data row5 col3\" >5</td>\n",
       "      <td id=\"T_5da79_row5_col4\" class=\"data row5 col4\" >AG+41 1420</td>\n",
       "      <td id=\"T_5da79_row5_col5\" class=\"data row5 col5\" >PM*|BY*|SB*|V*|*|IR|X</td>\n",
       "      <td id=\"T_5da79_row5_col6\" class=\"data row5 col6\" >F</td>\n",
       "      <td id=\"T_5da79_row5_col7\" class=\"data row5 col7\" >V1221 Her</td>\n",
       "      <td id=\"T_5da79_row5_col8\" class=\"data row5 col8\" >BY</td>\n",
       "      <td id=\"T_5da79_row5_col9\" class=\"data row5 col9\" >F</td>\n",
       "      <td id=\"T_5da79_row5_col10\" class=\"data row5 col10\" >1.813700</td>\n",
       "    </tr>\n",
       "    <tr>\n",
       "      <td id=\"T_5da79_row6_col0\" class=\"data row6 col0\" >22120766</td>\n",
       "      <td id=\"T_5da79_row6_col1\" class=\"data row6 col1\" >41413067</td>\n",
       "      <td id=\"T_5da79_row6_col2\" class=\"data row6 col2\" >F</td>\n",
       "      <td id=\"T_5da79_row6_col3\" class=\"data row6 col3\" >4</td>\n",
       "      <td id=\"T_5da79_row6_col4\" class=\"data row6 col4\" >CD-23  8836</td>\n",
       "      <td id=\"T_5da79_row6_col5\" class=\"data row6 col5\" >Ro*|PM*|V*|*|IR|X</td>\n",
       "      <td id=\"T_5da79_row6_col6\" class=\"data row6 col6\" >F</td>\n",
       "      <td id=\"T_5da79_row6_col7\" class=\"data row6 col7\" >ASAS J095357-2408.8</td>\n",
       "      <td id=\"T_5da79_row6_col8\" class=\"data row6 col8\" >ROT</td>\n",
       "      <td id=\"T_5da79_row6_col9\" class=\"data row6 col9\" >F</td>\n",
       "      <td id=\"T_5da79_row6_col10\" class=\"data row6 col10\" >1.668000</td>\n",
       "    </tr>\n",
       "    <tr>\n",
       "      <td id=\"T_5da79_row7_col0\" class=\"data row7 col0\" >35044762</td>\n",
       "      <td id=\"T_5da79_row7_col1\" class=\"data row7 col1\" >60849117</td>\n",
       "      <td id=\"T_5da79_row7_col2\" class=\"data row7 col2\" >F</td>\n",
       "      <td id=\"T_5da79_row7_col3\" class=\"data row7 col3\" >4</td>\n",
       "      <td id=\"T_5da79_row7_col4\" class=\"data row7 col4\" >TYC 7702-75-1</td>\n",
       "      <td id=\"T_5da79_row7_col5\" class=\"data row7 col5\" >*|IR</td>\n",
       "      <td id=\"T_5da79_row7_col6\" class=\"data row7 col6\" >-</td>\n",
       "      <td id=\"T_5da79_row7_col7\" class=\"data row7 col7\" >ASASSN-V J095059.01-425034.5</td>\n",
       "      <td id=\"T_5da79_row7_col8\" class=\"data row7 col8\" >L</td>\n",
       "      <td id=\"T_5da79_row7_col9\" class=\"data row7 col9\" >F</td>\n",
       "      <td id=\"T_5da79_row7_col10\" class=\"data row7 col10\" >nan</td>\n",
       "    </tr>\n",
       "    <tr>\n",
       "      <td id=\"T_5da79_row8_col0\" class=\"data row8 col0\" >8669966</td>\n",
       "      <td id=\"T_5da79_row8_col1\" class=\"data row8 col1\" >48223652</td>\n",
       "      <td id=\"T_5da79_row8_col2\" class=\"data row8 col2\" >F</td>\n",
       "      <td id=\"T_5da79_row8_col3\" class=\"data row8 col3\" >3</td>\n",
       "      <td id=\"T_5da79_row8_col4\" class=\"data row8 col4\" >*  32 Her</td>\n",
       "      <td id=\"T_5da79_row8_col5\" class=\"data row8 col5\" >SB*|**|*|IR|UV</td>\n",
       "      <td id=\"T_5da79_row8_col6\" class=\"data row8 col6\" >-</td>\n",
       "      <td id=\"T_5da79_row8_col7\" class=\"data row8 col7\" >NSV 20695</td>\n",
       "      <td id=\"T_5da79_row8_col8\" class=\"data row8 col8\" >ELL+DSCT</td>\n",
       "      <td id=\"T_5da79_row8_col9\" class=\"data row8 col9\" >F</td>\n",
       "      <td id=\"T_5da79_row8_col10\" class=\"data row8 col10\" >3.394306</td>\n",
       "    </tr>\n",
       "    <tr>\n",
       "      <td id=\"T_5da79_row9_col0\" class=\"data row9 col0\" >10863087</td>\n",
       "      <td id=\"T_5da79_row9_col1\" class=\"data row9 col1\" >52587377</td>\n",
       "      <td id=\"T_5da79_row9_col2\" class=\"data row9 col2\" >F</td>\n",
       "      <td id=\"T_5da79_row9_col3\" class=\"data row9 col3\" >3</td>\n",
       "      <td id=\"T_5da79_row9_col4\" class=\"data row9 col4\" >RX J0143.7-0602</td>\n",
       "      <td id=\"T_5da79_row9_col5\" class=\"data row9 col5\" >PM*|SB*|Er*|PM*|*|*|IR|X</td>\n",
       "      <td id=\"T_5da79_row9_col6\" class=\"data row9 col6\" >F</td>\n",
       "      <td id=\"T_5da79_row9_col7\" class=\"data row9 col7\" >nan</td>\n",
       "      <td id=\"T_5da79_row9_col8\" class=\"data row9 col8\" >nan</td>\n",
       "      <td id=\"T_5da79_row9_col9\" class=\"data row9 col9\" >-</td>\n",
       "      <td id=\"T_5da79_row9_col10\" class=\"data row9 col10\" >nan</td>\n",
       "    </tr>\n",
       "    <tr>\n",
       "      <td id=\"T_5da79_row10_col0\" class=\"data row10 col0\" >8245065</td>\n",
       "      <td id=\"T_5da79_row10_col1\" class=\"data row10 col1\" >41030412</td>\n",
       "      <td id=\"T_5da79_row10_col2\" class=\"data row10 col2\" >F</td>\n",
       "      <td id=\"T_5da79_row10_col3\" class=\"data row10 col3\" >2</td>\n",
       "      <td id=\"T_5da79_row10_col4\" class=\"data row10 col4\" >V* GS UMa</td>\n",
       "      <td id=\"T_5da79_row10_col5\" class=\"data row10 col5\" >dS*|V*|*|IR</td>\n",
       "      <td id=\"T_5da79_row10_col6\" class=\"data row10 col6\" >F</td>\n",
       "      <td id=\"T_5da79_row10_col7\" class=\"data row10 col7\" >GS UMa</td>\n",
       "      <td id=\"T_5da79_row10_col8\" class=\"data row10 col8\" >DSCT</td>\n",
       "      <td id=\"T_5da79_row10_col9\" class=\"data row10 col9\" >F</td>\n",
       "      <td id=\"T_5da79_row10_col10\" class=\"data row10 col10\" >0.163970</td>\n",
       "    </tr>\n",
       "    <tr>\n",
       "      <td id=\"T_5da79_row11_col0\" class=\"data row11 col0\" >10111251</td>\n",
       "      <td id=\"T_5da79_row11_col1\" class=\"data row11 col1\" >43283591</td>\n",
       "      <td id=\"T_5da79_row11_col2\" class=\"data row11 col2\" >F</td>\n",
       "      <td id=\"T_5da79_row11_col3\" class=\"data row11 col3\" >2</td>\n",
       "      <td id=\"T_5da79_row11_col4\" class=\"data row11 col4\" >V* MU UMa</td>\n",
       "      <td id=\"T_5da79_row11_col5\" class=\"data row11 col5\" >RR*|RR*|RR*|Pu*|V*|*|IR|RR?</td>\n",
       "      <td id=\"T_5da79_row11_col6\" class=\"data row11 col6\" >F</td>\n",
       "      <td id=\"T_5da79_row11_col7\" class=\"data row11 col7\" >MU UMa</td>\n",
       "      <td id=\"T_5da79_row11_col8\" class=\"data row11 col8\" >RRC</td>\n",
       "      <td id=\"T_5da79_row11_col9\" class=\"data row11 col9\" >F</td>\n",
       "      <td id=\"T_5da79_row11_col10\" class=\"data row11 col10\" >0.267946</td>\n",
       "    </tr>\n",
       "    <tr>\n",
       "      <td id=\"T_5da79_row12_col0\" class=\"data row12 col0\" >93155</td>\n",
       "      <td id=\"T_5da79_row12_col1\" class=\"data row12 col1\" >64603128</td>\n",
       "      <td id=\"T_5da79_row12_col2\" class=\"data row12 col2\" >F</td>\n",
       "      <td id=\"T_5da79_row12_col3\" class=\"data row12 col3\" >1</td>\n",
       "      <td id=\"T_5da79_row12_col4\" class=\"data row12 col4\" >*  55 Hya</td>\n",
       "      <td id=\"T_5da79_row12_col5\" class=\"data row12 col5\" >*|IR</td>\n",
       "      <td id=\"T_5da79_row12_col6\" class=\"data row12 col6\" >-</td>\n",
       "      <td id=\"T_5da79_row12_col7\" class=\"data row12 col7\" >NSV 20183</td>\n",
       "      <td id=\"T_5da79_row12_col8\" class=\"data row12 col8\" >ACV</td>\n",
       "      <td id=\"T_5da79_row12_col9\" class=\"data row12 col9\" >F</td>\n",
       "      <td id=\"T_5da79_row12_col10\" class=\"data row12 col10\" >4.413600</td>\n",
       "    </tr>\n",
       "    <tr>\n",
       "      <td id=\"T_5da79_row13_col0\" class=\"data row13 col0\" >615133</td>\n",
       "      <td id=\"T_5da79_row13_col1\" class=\"data row13 col1\" >56366876</td>\n",
       "      <td id=\"T_5da79_row13_col2\" class=\"data row13 col2\" >F</td>\n",
       "      <td id=\"T_5da79_row13_col3\" class=\"data row13 col3\" >1</td>\n",
       "      <td id=\"T_5da79_row13_col4\" class=\"data row13 col4\" >HD  30984</td>\n",
       "      <td id=\"T_5da79_row13_col5\" class=\"data row13 col5\" >Ro*|**|V*|*|IR|X</td>\n",
       "      <td id=\"T_5da79_row13_col6\" class=\"data row13 col6\" >F</td>\n",
       "      <td id=\"T_5da79_row13_col7\" class=\"data row13 col7\" >ASAS J045103-2731.2</td>\n",
       "      <td id=\"T_5da79_row13_col8\" class=\"data row13 col8\" >ROT</td>\n",
       "      <td id=\"T_5da79_row13_col9\" class=\"data row13 col9\" >F</td>\n",
       "      <td id=\"T_5da79_row13_col10\" class=\"data row13 col10\" >5.876000</td>\n",
       "    </tr>\n",
       "    <tr>\n",
       "      <td id=\"T_5da79_row14_col0\" class=\"data row14 col0\" >9729491</td>\n",
       "      <td id=\"T_5da79_row14_col1\" class=\"data row14 col1\" >48221586</td>\n",
       "      <td id=\"T_5da79_row14_col2\" class=\"data row14 col2\" >F</td>\n",
       "      <td id=\"T_5da79_row14_col3\" class=\"data row14 col3\" >0</td>\n",
       "      <td id=\"T_5da79_row14_col4\" class=\"data row14 col4\" >TYC 2600-1473-1</td>\n",
       "      <td id=\"T_5da79_row14_col5\" class=\"data row14 col5\" >*|IR</td>\n",
       "      <td id=\"T_5da79_row14_col6\" class=\"data row14 col6\" >-</td>\n",
       "      <td id=\"T_5da79_row14_col7\" class=\"data row14 col7\" >ASASSN-V J172045.60+340721.5</td>\n",
       "      <td id=\"T_5da79_row14_col8\" class=\"data row14 col8\" >ROT</td>\n",
       "      <td id=\"T_5da79_row14_col9\" class=\"data row14 col9\" >F</td>\n",
       "      <td id=\"T_5da79_row14_col10\" class=\"data row14 col10\" >5.541470</td>\n",
       "    </tr>\n",
       "    <tr>\n",
       "      <td id=\"T_5da79_row15_col0\" class=\"data row15 col0\" >22959701</td>\n",
       "      <td id=\"T_5da79_row15_col1\" class=\"data row15 col1\" >64591998</td>\n",
       "      <td id=\"T_5da79_row15_col2\" class=\"data row15 col2\" >F</td>\n",
       "      <td id=\"T_5da79_row15_col3\" class=\"data row15 col3\" >0</td>\n",
       "      <td id=\"T_5da79_row15_col4\" class=\"data row15 col4\" >CD-26 10981</td>\n",
       "      <td id=\"T_5da79_row15_col5\" class=\"data row15 col5\" >Y*O|Ro*|V*|Y*O|*|*|IR|X</td>\n",
       "      <td id=\"T_5da79_row15_col6\" class=\"data row15 col6\" >F</td>\n",
       "      <td id=\"T_5da79_row15_col7\" class=\"data row15 col7\" >ASAS J154106-2656.6</td>\n",
       "      <td id=\"T_5da79_row15_col8\" class=\"data row15 col8\" >ROT</td>\n",
       "      <td id=\"T_5da79_row15_col9\" class=\"data row15 col9\" >F</td>\n",
       "      <td id=\"T_5da79_row15_col10\" class=\"data row15 col10\" >5.273000</td>\n",
       "    </tr>\n",
       "  </tbody>\n",
       "</table>\n"
      ],
      "text/plain": [
       "<pandas.io.formats.style.Styler at 0x286f334b6d0>"
      ]
     },
     "execution_count": 21,
     "metadata": {},
     "output_type": "execute_result"
    }
   ],
   "source": [
    "df = df_catalog\n",
    "df = (\n",
    "    df\n",
    "    [df[\"is_eb_catalog\"] == \"F\"]\n",
    "    .groupby(\"eb_score_group\")\n",
    "    .head(2)\n",
    "    .sort_values([\"eb_score_group\"], ascending=[False])\n",
    "    )\n",
    "# clipboard_set(df[CAT_COLS_COMMON].to_markdown())\n",
    "# df[CAT_COLS_COMMON].to_clipboard()\n",
    "df[CAT_COLS_COMMON].style.hide(axis='index')"
   ]
  },
  {
   "cell_type": "code",
   "execution_count": 4,
   "metadata": {},
   "outputs": [
    {
     "data": {
      "application/vnd.jupyter.widget-view+json": {
       "model_id": "1315bc3384254db5965be8377b5d7d0d",
       "version_major": 2,
       "version_minor": 0
      },
      "text/plain": [
       "GridBox(children=(Output(layout=Layout(border='1px dotted gray')), Output(layout=Layout(border='1px dotted gra…"
      ]
     },
     "metadata": {},
     "output_type": "display_data"
    },
    {
     "data": {
      "image/png": "[encoded data removed]",
      "text/plain": [
       "<Figure size 432x288 with 1 Axes>"
      ]
     },
     "metadata": {
      "needs_background": "light"
     },
     "output_type": "display_data"
    }
   ],
   "source": [
    "dashboard_utils.display_details(\n",
    "    tic_id=35044762, \n",
    "    type=\"tic_meta\",\n",
    "    brief=True,\n",
    ")"
   ]
  }
 ],
 "metadata": {
  "kernelspec": {
   "display_name": "Python 3 (ipykernel)",
   "language": "python",
   "name": "python3"
  },
  "language_info": {
   "codemirror_mode": {
    "name": "ipython",
    "version": 3
   },
   "file_extension": ".py",
   "mimetype": "text/x-python",
   "name": "python",
   "nbconvert_exporter": "python",
   "pygments_lexer": "ipython3",
   "version": "3.9.12"
  },
  "vscode": {
   "interpreter": {
    "hash": "eb550afef4070f6d0c84559578f78a28984f8f075409b177c967e1897d402310"
   }
  }
 },
 "nbformat": 4,
 "nbformat_minor": 2
}
