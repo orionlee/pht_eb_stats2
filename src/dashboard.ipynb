{
 "cells": [
  {
   "cell_type": "markdown",
   "metadata": {},
   "source": [
    "# PHT Eclipsing Binary Catalog\n",
    "\n",
    "- data covered: sectors 1 - 39 (2 years of Southern hemisphere and 1 year of Northern hemisphere)"
   ]
  },
  {
   "cell_type": "code",
   "execution_count": 1,
   "metadata": {},
   "outputs": [
    {
     "data": {
      "text/html": [
       "<style>.container { width:99% !important; }</style>"
      ],
      "text/plain": [
       "<IPython.core.display.HTML object>"
      ]
     },
     "metadata": {},
     "output_type": "display_data"
    }
   ],
   "source": [
    "from importlib import reload\n",
    "\n",
    "from IPython.display import display, HTML, clear_output\n",
    "\n",
    "import pandas as pd\n",
    "from pandas.io.clipboard import clipboard_set\n",
    "\n",
    "import catalog_stats\n",
    "import dashboard_utils\n",
    "from dashboard_utils import CAT_COLS_COMMON\n",
    "from dashboard_utils import two_columns\n",
    "\n",
    "display(HTML(\"<style>.container { width:99% !important; }</style>\"))"
   ]
  },
  {
   "cell_type": "markdown",
   "metadata": {},
   "source": [
    "## Tagging accuracy and Catalog coverage"
   ]
  },
  {
   "cell_type": "code",
   "execution_count": 2,
   "metadata": {},
   "outputs": [
    {
     "data": {
      "application/vnd.jupyter.widget-view+json": {
       "model_id": "6161c7d387614e0e8941f6c86250d49c",
       "version_major": 2,
       "version_minor": 0
      },
      "text/plain": [
       "GridBox(children=(Output(layout=Layout(border='1px dotted gray')), Output(layout=Layout(border='1px dotted gra…"
      ]
     },
     "metadata": {},
     "output_type": "display_data"
    },
    {
     "data": {
      "image/png": "[encoded data removed]",
      "text/plain": [
       "<Figure size 432x288 with 1 Axes>"
      ]
     },
     "metadata": {},
     "output_type": "display_data"
    }
   ],
   "source": [
    "# reload(catalog_stats)\n",
    "\n",
    "df_catalog = dashboard_utils.get_catalog(\"pht_eb\")\n",
    "\n",
    "grid, col1, col2 = two_columns(also_return_outputs=True)\n",
    "\n",
    "with col1:\n",
    "    report, styler = catalog_stats.pivot_by_eb_score_group(df_catalog, also_return_styler=True)\n",
    "    display(styler)\n",
    "\n",
    "with col2:\n",
    "    ax = report[report.index != \"Totals\"].plot.pie(y=('count', 'tic_id', 'Totals'));\n",
    "    ax.set_title(\"TIC distribution by eb_score_group\")\n",
    "    display(ax.get_figure())\n",
    "\n",
    "display(grid);"
   ]
  },
  {
   "cell_type": "markdown",
   "metadata": {},
   "source": [
    "## Coverage of individual catalogs"
   ]
  },
  {
   "cell_type": "code",
   "execution_count": 3,
   "metadata": {},
   "outputs": [
    {
     "data": {
      "application/vnd.jupyter.widget-view+json": {
       "model_id": "d60e5dca289d4811ae8ba8e5ca1a01c8",
       "version_major": 2,
       "version_minor": 0
      },
      "text/plain": [
       "GridBox(children=(Output(layout=Layout(border='1px dotted gray')), Output(layout=Layout(border='1px dotted gra…"
      ]
     },
     "metadata": {},
     "output_type": "display_data"
    },
    {
     "data": {
      "application/vnd.jupyter.widget-view+json": {
       "model_id": "a2df035cbd574900b804db378fb363ce",
       "version_major": 2,
       "version_minor": 0
      },
      "text/plain": [
       "GridBox(children=(Output(layout=Layout(border='1px dotted gray')), Output(layout=Layout(border='1px dotted gra…"
      ]
     },
     "metadata": {},
     "output_type": "display_data"
    },
    {
     "data": {
      "application/vnd.jupyter.widget-view+json": {
       "model_id": "8f2f002105034c3e9f7dc39abb7f3577",
       "version_major": 2,
       "version_minor": 0
      },
      "text/plain": [
       "GridBox(children=(Output(layout=Layout(border='1px dotted gray')), Output(layout=Layout(border='1px dotted gra…"
      ]
     },
     "metadata": {},
     "output_type": "display_data"
    }
   ],
   "source": [
    "report_simbad, styler_simbad = catalog_stats.pivot_by_eb_score_group(df_catalog, columns=\"SIMBAD_Is_EB\", also_return_styler=True)\n",
    "# display(report_simbad[report_simbad.index == \"Totals\"])\n",
    "display(two_columns(styler_simbad, styler))\n",
    "\n",
    "report_vsx, styler_vsx = catalog_stats.pivot_by_eb_score_group(df_catalog, columns=\"VSX_Is_EB\", also_return_styler=True)\n",
    "# display(report_vsx[report_vsx.index == \"Totals\"])\n",
    "display(two_columns(styler_vsx, styler))\n",
    "\n",
    "report_asas_sn, styler_asas_sn = catalog_stats.pivot_by_eb_score_group(df_catalog, columns=\"ASASSN_Is_EB\", also_return_styler=True)\n",
    "# display(report_vsx[report_asas_sn.index == \"Totals\"])\n",
    "display(two_columns(styler_asas_sn, styler))"
   ]
  },
  {
   "cell_type": "markdown",
   "metadata": {},
   "source": [
    "### Compare raw number of EB votes vs adjusted eb_score \n",
    "- can we just use raw `num_votes_eb`, rather than adjusted `eb_score`, to gauge the likelihood of TIC being an eclipsing binary?"
   ]
  },
  {
   "cell_type": "code",
   "execution_count": 4,
   "metadata": {},
   "outputs": [
    {
     "data": {
      "application/vnd.jupyter.widget-view+json": {
       "model_id": "ef145a40beff4e09bf49aedca0c9dfa5",
       "version_major": 2,
       "version_minor": 0
      },
      "text/plain": [
       "GridBox(children=(Output(layout=Layout(border='1px dotted gray')), Output(layout=Layout(border='1px dotted gra…"
      ]
     },
     "metadata": {},
     "output_type": "display_data"
    }
   ],
   "source": [
    "report_by_score, styler_by_score = catalog_stats.pivot_by_eb_score_group(df_catalog, row=\"num_votes_eb_group\", also_return_styler=True)\n",
    "display(two_columns(styler_by_score, styler))"
   ]
  },
  {
   "cell_type": "markdown",
   "metadata": {},
   "source": [
    "## Sample TICs"
   ]
  },
  {
   "cell_type": "code",
   "execution_count": 16,
   "metadata": {
    "scrolled": false
   },
   "outputs": [
    {
     "data": {
      "text/html": [
       "<style type=\"text/css\">\n",
       "</style>\n",
       "<table id=\"T_95a4e\">\n",
       "  <thead>\n",
       "    <tr>\n",
       "      <th id=\"T_95a4e_level0_col0\" class=\"col_heading level0 col0\" >best_subject_img_id</th>\n",
       "      <th id=\"T_95a4e_level0_col1\" class=\"col_heading level0 col1\" >tic_id</th>\n",
       "      <th id=\"T_95a4e_level0_col2\" class=\"col_heading level0 col2\" >best_subject_id</th>\n",
       "      <th id=\"T_95a4e_level0_col3\" class=\"col_heading level0 col3\" >is_eb_catalog</th>\n",
       "      <th id=\"T_95a4e_level0_col4\" class=\"col_heading level0 col4\" >eb_score</th>\n",
       "      <th id=\"T_95a4e_level0_col5\" class=\"col_heading level0 col5\" >SIMBAD_MAIN_ID</th>\n",
       "      <th id=\"T_95a4e_level0_col6\" class=\"col_heading level0 col6\" >SIMBAD_OTYPES</th>\n",
       "      <th id=\"T_95a4e_level0_col7\" class=\"col_heading level0 col7\" >SIMBAD_Is_EB</th>\n",
       "      <th id=\"T_95a4e_level0_col8\" class=\"col_heading level0 col8\" >VSX_OID</th>\n",
       "      <th id=\"T_95a4e_level0_col9\" class=\"col_heading level0 col9\" >VSX_Type</th>\n",
       "      <th id=\"T_95a4e_level0_col10\" class=\"col_heading level0 col10\" >VSX_Is_EB</th>\n",
       "      <th id=\"T_95a4e_level0_col11\" class=\"col_heading level0 col11\" >VSX_Period</th>\n",
       "      <th id=\"T_95a4e_level0_col12\" class=\"col_heading level0 col12\" >ASASSN_Name</th>\n",
       "      <th id=\"T_95a4e_level0_col13\" class=\"col_heading level0 col13\" >ASASSN_URL</th>\n",
       "      <th id=\"T_95a4e_level0_col14\" class=\"col_heading level0 col14\" >ASASSN_Type</th>\n",
       "      <th id=\"T_95a4e_level0_col15\" class=\"col_heading level0 col15\" >ASASSN_Per</th>\n",
       "    </tr>\n",
       "  </thead>\n",
       "  <tbody>\n",
       "    <tr>\n",
       "      <td id=\"T_95a4e_row0_col0\" class=\"data row0 col0\" ><img src=\"https://panoptes-uploads.zooniverse.org/subject_location/29929c8b-55e4-42be-a59d-2e487930dcbb.png\"></td>\n",
       "      <td id=\"T_95a4e_row0_col1\" class=\"data row0 col1\" ><a target=\"_exofop\" href=\"https://exofop.ipac.caltech.edu/tess/target.php?id=143669444\">143669444</a></td>\n",
       "      <td id=\"T_95a4e_row0_col2\" class=\"data row0 col2\" ><a target=\"_pht\" href=\"https://www.zooniverse.org/projects/nora-dot-eisner/planet-hunters-tess/talk/subjects/32026607\">32026607</a></td>\n",
       "      <td id=\"T_95a4e_row0_col3\" class=\"data row0 col3\" >F</td>\n",
       "      <td id=\"T_95a4e_row0_col4\" class=\"data row0 col4\" >11</td>\n",
       "      <td id=\"T_95a4e_row0_col5\" class=\"data row0 col5\" ><a target=\"_simbad\" href=\"https://simbad.u-strasbg.fr/simbad/sim-basic?Ident=HD  64881\">HD  64881</a></td>\n",
       "      <td id=\"T_95a4e_row0_col6\" class=\"data row0 col6\" ></td>\n",
       "      <td id=\"T_95a4e_row0_col7\" class=\"data row0 col7\" >-</td>\n",
       "      <td id=\"T_95a4e_row0_col8\" class=\"data row0 col8\" ><a target=\"_vsx\" href=\"https://www.aavso.org/vsx/index.php?view=detail.top&oid=409787\">409787</a></td>\n",
       "      <td id=\"T_95a4e_row0_col9\" class=\"data row0 col9\" >ACV|ELL</td>\n",
       "      <td id=\"T_95a4e_row0_col10\" class=\"data row0 col10\" >F</td>\n",
       "      <td id=\"T_95a4e_row0_col11\" class=\"data row0 col11\" >1.103900</td>\n",
       "      <td id=\"T_95a4e_row0_col12\" class=\"data row0 col12\" >J075359.20-453838.0</td>\n",
       "      <td id=\"T_95a4e_row0_col13\" class=\"data row0 col13\" ><a target=\"_asas_sn\" href=\"https://asas-sn.osu.edu/variables/269523\">details</a></td>\n",
       "      <td id=\"T_95a4e_row0_col14\" class=\"data row0 col14\" >VAR</td>\n",
       "      <td id=\"T_95a4e_row0_col15\" class=\"data row0 col15\" >274.2499665</td>\n",
       "    </tr>\n",
       "    <tr>\n",
       "      <td id=\"T_95a4e_row1_col0\" class=\"data row1 col0\" ><img src=\"https://panoptes-uploads.zooniverse.org/subject_location/72320bdd-3dd3-430e-8afe-fe2e75b2c70b.png\"></td>\n",
       "      <td id=\"T_95a4e_row1_col1\" class=\"data row1 col1\" ><a target=\"_exofop\" href=\"https://exofop.ipac.caltech.edu/tess/target.php?id=198537349\">198537349</a></td>\n",
       "      <td id=\"T_95a4e_row1_col2\" class=\"data row1 col2\" ><a target=\"_pht\" href=\"https://www.zooniverse.org/projects/nora-dot-eisner/planet-hunters-tess/talk/subjects/44563986\">44563986</a></td>\n",
       "      <td id=\"T_95a4e_row1_col3\" class=\"data row1 col3\" >F</td>\n",
       "      <td id=\"T_95a4e_row1_col4\" class=\"data row1 col4\" >7</td>\n",
       "      <td id=\"T_95a4e_row1_col5\" class=\"data row1 col5\" ><a target=\"_simbad\" href=\"https://simbad.u-strasbg.fr/simbad/sim-basic?Ident=HD 141988\">HD 141988</a></td>\n",
       "      <td id=\"T_95a4e_row1_col6\" class=\"data row1 col6\" ></td>\n",
       "      <td id=\"T_95a4e_row1_col7\" class=\"data row1 col7\" >-</td>\n",
       "      <td id=\"T_95a4e_row1_col8\" class=\"data row1 col8\" ><a target=\"_vsx\" href=\"https://www.aavso.org/vsx/index.php?view=detail.top&oid=58848\">58848</a></td>\n",
       "      <td id=\"T_95a4e_row1_col9\" class=\"data row1 col9\" >nan</td>\n",
       "      <td id=\"T_95a4e_row1_col10\" class=\"data row1 col10\" >-</td>\n",
       "      <td id=\"T_95a4e_row1_col11\" class=\"data row1 col11\" >nan</td>\n",
       "      <td id=\"T_95a4e_row1_col12\" class=\"data row1 col12\" >J154830.03+622040.8</td>\n",
       "      <td id=\"T_95a4e_row1_col13\" class=\"data row1 col13\" ><a target=\"_asas_sn\" href=\"https://asas-sn.osu.edu/variables/91051\">details</a></td>\n",
       "      <td id=\"T_95a4e_row1_col14\" class=\"data row1 col14\" >ROT:</td>\n",
       "      <td id=\"T_95a4e_row1_col15\" class=\"data row1 col15\" >NON PERIODIC</td>\n",
       "    </tr>\n",
       "    <tr>\n",
       "      <td id=\"T_95a4e_row2_col0\" class=\"data row2 col0\" ><img src=\"https://panoptes-uploads.zooniverse.org/subject_location/342393b8-983f-4c87-9a08-38285f7a361e.png\"></td>\n",
       "      <td id=\"T_95a4e_row2_col1\" class=\"data row2 col1\" ><a target=\"_exofop\" href=\"https://exofop.ipac.caltech.edu/tess/target.php?id=4200337\">4200337</a></td>\n",
       "      <td id=\"T_95a4e_row2_col2\" class=\"data row2 col2\" ><a target=\"_pht\" href=\"https://www.zooniverse.org/projects/nora-dot-eisner/planet-hunters-tess/talk/subjects/56365918\">56365918</a></td>\n",
       "      <td id=\"T_95a4e_row2_col3\" class=\"data row2 col3\" >F</td>\n",
       "      <td id=\"T_95a4e_row2_col4\" class=\"data row2 col4\" >6</td>\n",
       "      <td id=\"T_95a4e_row2_col5\" class=\"data row2 col5\" >nan</td>\n",
       "      <td id=\"T_95a4e_row2_col6\" class=\"data row2 col6\" >nan</td>\n",
       "      <td id=\"T_95a4e_row2_col7\" class=\"data row2 col7\" >-</td>\n",
       "      <td id=\"T_95a4e_row2_col8\" class=\"data row2 col8\" ><a target=\"_vsx\" href=\"https://www.aavso.org/vsx/index.php?view=detail.top&oid=371037\">371037</a></td>\n",
       "      <td id=\"T_95a4e_row2_col9\" class=\"data row2 col9\" >BY</td>\n",
       "      <td id=\"T_95a4e_row2_col10\" class=\"data row2 col10\" >F</td>\n",
       "      <td id=\"T_95a4e_row2_col11\" class=\"data row2 col11\" >8.164117</td>\n",
       "      <td id=\"T_95a4e_row2_col12\" class=\"data row2 col12\" >J052244.88-010231.9</td>\n",
       "      <td id=\"T_95a4e_row2_col13\" class=\"data row2 col13\" ><a target=\"_asas_sn\" href=\"https://asas-sn.osu.edu/variables/212383\">details</a></td>\n",
       "      <td id=\"T_95a4e_row2_col14\" class=\"data row2 col14\" >ROT</td>\n",
       "      <td id=\"T_95a4e_row2_col15\" class=\"data row2 col15\" >8.152767</td>\n",
       "    </tr>\n",
       "    <tr>\n",
       "      <td id=\"T_95a4e_row3_col0\" class=\"data row3 col0\" ><img src=\"https://panoptes-uploads.zooniverse.org/subject_location/e201fa27-1bb1-4e94-bcba-6ecc67187692.png\"></td>\n",
       "      <td id=\"T_95a4e_row3_col1\" class=\"data row3 col1\" ><a target=\"_exofop\" href=\"https://exofop.ipac.caltech.edu/tess/target.php?id=77209028\">77209028</a></td>\n",
       "      <td id=\"T_95a4e_row3_col2\" class=\"data row3 col2\" ><a target=\"_pht\" href=\"https://www.zooniverse.org/projects/nora-dot-eisner/planet-hunters-tess/talk/subjects/30249806\">30249806</a></td>\n",
       "      <td id=\"T_95a4e_row3_col3\" class=\"data row3 col3\" >F</td>\n",
       "      <td id=\"T_95a4e_row3_col4\" class=\"data row3 col4\" >6</td>\n",
       "      <td id=\"T_95a4e_row3_col5\" class=\"data row3 col5\" ><a target=\"_simbad\" href=\"https://simbad.u-strasbg.fr/simbad/sim-basic?Ident=CD-38  1652\">CD-38  1652</a></td>\n",
       "      <td id=\"T_95a4e_row3_col6\" class=\"data row3 col6\" >Ro*|X|V*</td>\n",
       "      <td id=\"T_95a4e_row3_col7\" class=\"data row3 col7\" >F</td>\n",
       "      <td id=\"T_95a4e_row3_col8\" class=\"data row3 col8\" ><a target=\"_vsx\" href=\"https://www.aavso.org/vsx/index.php?view=detail.top&oid=280953\">280953</a></td>\n",
       "      <td id=\"T_95a4e_row3_col9\" class=\"data row3 col9\" >ROT</td>\n",
       "      <td id=\"T_95a4e_row3_col10\" class=\"data row3 col10\" >F</td>\n",
       "      <td id=\"T_95a4e_row3_col11\" class=\"data row3 col11\" >0.568900</td>\n",
       "      <td id=\"T_95a4e_row3_col12\" class=\"data row3 col12\" >J043558.78-384134.0</td>\n",
       "      <td id=\"T_95a4e_row3_col13\" class=\"data row3 col13\" ><a target=\"_asas_sn\" href=\"https://asas-sn.osu.edu/variables/76094\">details</a></td>\n",
       "      <td id=\"T_95a4e_row3_col14\" class=\"data row3 col14\" >VAR</td>\n",
       "      <td id=\"T_95a4e_row3_col15\" class=\"data row3 col15\" >NON PERIODIC</td>\n",
       "    </tr>\n",
       "    <tr>\n",
       "      <td id=\"T_95a4e_row4_col0\" class=\"data row4 col0\" ><img src=\"https://panoptes-uploads.zooniverse.org/subject_location/c20de4a7-9b3a-466a-a732-12ef902f1c56.png\"></td>\n",
       "      <td id=\"T_95a4e_row4_col1\" class=\"data row4 col1\" ><a target=\"_exofop\" href=\"https://exofop.ipac.caltech.edu/tess/target.php?id=17342647\">17342647</a></td>\n",
       "      <td id=\"T_95a4e_row4_col2\" class=\"data row4 col2\" ><a target=\"_pht\" href=\"https://www.zooniverse.org/projects/nora-dot-eisner/planet-hunters-tess/talk/subjects/48229829\">48229829</a></td>\n",
       "      <td id=\"T_95a4e_row4_col3\" class=\"data row4 col3\" >F</td>\n",
       "      <td id=\"T_95a4e_row4_col4\" class=\"data row4 col4\" >5</td>\n",
       "      <td id=\"T_95a4e_row4_col5\" class=\"data row4 col5\" ><a target=\"_simbad\" href=\"https://simbad.u-strasbg.fr/simbad/sim-basic?Ident=HD 144359\">HD 144359</a></td>\n",
       "      <td id=\"T_95a4e_row4_col6\" class=\"data row4 col6\" >UV</td>\n",
       "      <td id=\"T_95a4e_row4_col7\" class=\"data row4 col7\" >-</td>\n",
       "      <td id=\"T_95a4e_row4_col8\" class=\"data row4 col8\" ><a target=\"_vsx\" href=\"https://www.aavso.org/vsx/index.php?view=detail.top&oid=1546101\">1546101</a></td>\n",
       "      <td id=\"T_95a4e_row4_col9\" class=\"data row4 col9\" >HB</td>\n",
       "      <td id=\"T_95a4e_row4_col10\" class=\"data row4 col10\" >F</td>\n",
       "      <td id=\"T_95a4e_row4_col11\" class=\"data row4 col11\" >4.382000</td>\n",
       "      <td id=\"T_95a4e_row4_col12\" class=\"data row4 col12\" >nan</td>\n",
       "      <td id=\"T_95a4e_row4_col13\" class=\"data row4 col13\" >nan</td>\n",
       "      <td id=\"T_95a4e_row4_col14\" class=\"data row4 col14\" >nan</td>\n",
       "      <td id=\"T_95a4e_row4_col15\" class=\"data row4 col15\" >nan</td>\n",
       "    </tr>\n",
       "    <tr>\n",
       "      <td id=\"T_95a4e_row5_col0\" class=\"data row5 col0\" ><img src=\"https://panoptes-uploads.zooniverse.org/subject_location/6bac5808-0169-4155-b4fc-339019981749.png\"></td>\n",
       "      <td id=\"T_95a4e_row5_col1\" class=\"data row5 col1\" ><a target=\"_exofop\" href=\"https://exofop.ipac.caltech.edu/tess/target.php?id=29854488\">29854488</a></td>\n",
       "      <td id=\"T_95a4e_row5_col2\" class=\"data row5 col2\" ><a target=\"_pht\" href=\"https://www.zooniverse.org/projects/nora-dot-eisner/planet-hunters-tess/talk/subjects/52580003\">52580003</a></td>\n",
       "      <td id=\"T_95a4e_row5_col3\" class=\"data row5 col3\" >F</td>\n",
       "      <td id=\"T_95a4e_row5_col4\" class=\"data row5 col4\" >5</td>\n",
       "      <td id=\"T_95a4e_row5_col5\" class=\"data row5 col5\" >nan</td>\n",
       "      <td id=\"T_95a4e_row5_col6\" class=\"data row5 col6\" >nan</td>\n",
       "      <td id=\"T_95a4e_row5_col7\" class=\"data row5 col7\" >-</td>\n",
       "      <td id=\"T_95a4e_row5_col8\" class=\"data row5 col8\" ><NA></td>\n",
       "      <td id=\"T_95a4e_row5_col9\" class=\"data row5 col9\" >nan</td>\n",
       "      <td id=\"T_95a4e_row5_col10\" class=\"data row5 col10\" >-</td>\n",
       "      <td id=\"T_95a4e_row5_col11\" class=\"data row5 col11\" >nan</td>\n",
       "      <td id=\"T_95a4e_row5_col12\" class=\"data row5 col12\" >J013616.50-105235.0</td>\n",
       "      <td id=\"T_95a4e_row5_col13\" class=\"data row5 col13\" ><a target=\"_asas_sn\" href=\"https://asas-sn.osu.edu/variables/AP16603342\">details</a></td>\n",
       "      <td id=\"T_95a4e_row5_col14\" class=\"data row5 col14\" >ROT</td>\n",
       "      <td id=\"T_95a4e_row5_col15\" class=\"data row5 col15\" >2.3008603</td>\n",
       "    </tr>\n",
       "    <tr>\n",
       "      <td id=\"T_95a4e_row6_col0\" class=\"data row6 col0\" ><img src=\"https://panoptes-uploads.zooniverse.org/subject_location/63f277b6-394b-499b-aa2b-aaee102f67d5.png\"></td>\n",
       "      <td id=\"T_95a4e_row6_col1\" class=\"data row6 col1\" ><a target=\"_exofop\" href=\"https://exofop.ipac.caltech.edu/tess/target.php?id=22120766\">22120766</a></td>\n",
       "      <td id=\"T_95a4e_row6_col2\" class=\"data row6 col2\" ><a target=\"_pht\" href=\"https://www.zooniverse.org/projects/nora-dot-eisner/planet-hunters-tess/talk/subjects/41413067\">41413067</a></td>\n",
       "      <td id=\"T_95a4e_row6_col3\" class=\"data row6 col3\" >F</td>\n",
       "      <td id=\"T_95a4e_row6_col4\" class=\"data row6 col4\" >4</td>\n",
       "      <td id=\"T_95a4e_row6_col5\" class=\"data row6 col5\" ><a target=\"_simbad\" href=\"https://simbad.u-strasbg.fr/simbad/sim-basic?Ident=CD-23  8836\">CD-23  8836</a></td>\n",
       "      <td id=\"T_95a4e_row6_col6\" class=\"data row6 col6\" >Ro*|X|V*</td>\n",
       "      <td id=\"T_95a4e_row6_col7\" class=\"data row6 col7\" >F</td>\n",
       "      <td id=\"T_95a4e_row6_col8\" class=\"data row6 col8\" ><a target=\"_vsx\" href=\"https://www.aavso.org/vsx/index.php?view=detail.top&oid=90404\">90404</a></td>\n",
       "      <td id=\"T_95a4e_row6_col9\" class=\"data row6 col9\" >ROT</td>\n",
       "      <td id=\"T_95a4e_row6_col10\" class=\"data row6 col10\" >F</td>\n",
       "      <td id=\"T_95a4e_row6_col11\" class=\"data row6 col11\" >1.668000</td>\n",
       "      <td id=\"T_95a4e_row6_col12\" class=\"data row6 col12\" >J095357.05-240846.9</td>\n",
       "      <td id=\"T_95a4e_row6_col13\" class=\"data row6 col13\" ><a target=\"_asas_sn\" href=\"https://asas-sn.osu.edu/variables/128593\">details</a></td>\n",
       "      <td id=\"T_95a4e_row6_col14\" class=\"data row6 col14\" >ROT:</td>\n",
       "      <td id=\"T_95a4e_row6_col15\" class=\"data row6 col15\" >NON PERIODIC</td>\n",
       "    </tr>\n",
       "    <tr>\n",
       "      <td id=\"T_95a4e_row7_col0\" class=\"data row7 col0\" ><img src=\"https://panoptes-uploads.zooniverse.org/subject_location/27763ef5-0191-47a0-be03-a1d39dcf6482.png\"></td>\n",
       "      <td id=\"T_95a4e_row7_col1\" class=\"data row7 col1\" ><a target=\"_exofop\" href=\"https://exofop.ipac.caltech.edu/tess/target.php?id=22221233\">22221233</a></td>\n",
       "      <td id=\"T_95a4e_row7_col2\" class=\"data row7 col2\" ><a target=\"_pht\" href=\"https://www.zooniverse.org/projects/nora-dot-eisner/planet-hunters-tess/talk/subjects/41410027\">41410027</a></td>\n",
       "      <td id=\"T_95a4e_row7_col3\" class=\"data row7 col3\" >F</td>\n",
       "      <td id=\"T_95a4e_row7_col4\" class=\"data row7 col4\" >4</td>\n",
       "      <td id=\"T_95a4e_row7_col5\" class=\"data row7 col5\" ><a target=\"_simbad\" href=\"https://simbad.u-strasbg.fr/simbad/sim-basic?Ident=TYC 6604-717-1\">TYC 6604-717-1</a></td>\n",
       "      <td id=\"T_95a4e_row7_col6\" class=\"data row7 col6\" ></td>\n",
       "      <td id=\"T_95a4e_row7_col7\" class=\"data row7 col7\" >-</td>\n",
       "      <td id=\"T_95a4e_row7_col8\" class=\"data row7 col8\" ><NA></td>\n",
       "      <td id=\"T_95a4e_row7_col9\" class=\"data row7 col9\" >nan</td>\n",
       "      <td id=\"T_95a4e_row7_col10\" class=\"data row7 col10\" >-</td>\n",
       "      <td id=\"T_95a4e_row7_col11\" class=\"data row7 col11\" >nan</td>\n",
       "      <td id=\"T_95a4e_row7_col12\" class=\"data row7 col12\" >J095556.28-240307.8</td>\n",
       "      <td id=\"T_95a4e_row7_col13\" class=\"data row7 col13\" ><a target=\"_asas_sn\" href=\"https://asas-sn.osu.edu/variables/592917\">details</a></td>\n",
       "      <td id=\"T_95a4e_row7_col14\" class=\"data row7 col14\" >ROT:</td>\n",
       "      <td id=\"T_95a4e_row7_col15\" class=\"data row7 col15\" >NON PERIODIC</td>\n",
       "    </tr>\n",
       "    <tr>\n",
       "      <td id=\"T_95a4e_row8_col0\" class=\"data row8 col0\" ><img src=\"https://panoptes-uploads.zooniverse.org/subject_location/771ba55c-b16b-4146-a035-a2f0c3dd898a.png\"></td>\n",
       "      <td id=\"T_95a4e_row8_col1\" class=\"data row8 col1\" ><a target=\"_exofop\" href=\"https://exofop.ipac.caltech.edu/tess/target.php?id=52357\">52357</a></td>\n",
       "      <td id=\"T_95a4e_row8_col2\" class=\"data row8 col2\" ><a target=\"_pht\" href=\"https://www.zooniverse.org/projects/nora-dot-eisner/planet-hunters-tess/talk/subjects/64613852\">64613852</a></td>\n",
       "      <td id=\"T_95a4e_row8_col3\" class=\"data row8 col3\" >F</td>\n",
       "      <td id=\"T_95a4e_row8_col4\" class=\"data row8 col4\" >3</td>\n",
       "      <td id=\"T_95a4e_row8_col5\" class=\"data row8 col5\" ><a target=\"_simbad\" href=\"https://simbad.u-strasbg.fr/simbad/sim-basic?Ident=HD 129195\">HD 129195</a></td>\n",
       "      <td id=\"T_95a4e_row8_col6\" class=\"data row8 col6\" >V*</td>\n",
       "      <td id=\"T_95a4e_row8_col7\" class=\"data row8 col7\" >-</td>\n",
       "      <td id=\"T_95a4e_row8_col8\" class=\"data row8 col8\" ><a target=\"_vsx\" href=\"https://www.aavso.org/vsx/index.php?view=detail.top&oid=58594\">58594</a></td>\n",
       "      <td id=\"T_95a4e_row8_col9\" class=\"data row8 col9\" >VAR</td>\n",
       "      <td id=\"T_95a4e_row8_col10\" class=\"data row8 col10\" >-</td>\n",
       "      <td id=\"T_95a4e_row8_col11\" class=\"data row8 col11\" >0.377800</td>\n",
       "      <td id=\"T_95a4e_row8_col12\" class=\"data row8 col12\" >J144157.16-280357.6</td>\n",
       "      <td id=\"T_95a4e_row8_col13\" class=\"data row8 col13\" ><a target=\"_asas_sn\" href=\"https://asas-sn.osu.edu/variables/109467\">details</a></td>\n",
       "      <td id=\"T_95a4e_row8_col14\" class=\"data row8 col14\" >L</td>\n",
       "      <td id=\"T_95a4e_row8_col15\" class=\"data row8 col15\" >NON PERIODIC</td>\n",
       "    </tr>\n",
       "    <tr>\n",
       "      <td id=\"T_95a4e_row9_col0\" class=\"data row9 col0\" ><img src=\"https://panoptes-uploads.zooniverse.org/subject_location/8d5048df-8911-49d0-856c-483f15fbc7c4.png\"></td>\n",
       "      <td id=\"T_95a4e_row9_col1\" class=\"data row9 col1\" ><a target=\"_exofop\" href=\"https://exofop.ipac.caltech.edu/tess/target.php?id=8669966\">8669966</a></td>\n",
       "      <td id=\"T_95a4e_row9_col2\" class=\"data row9 col2\" ><a target=\"_pht\" href=\"https://www.zooniverse.org/projects/nora-dot-eisner/planet-hunters-tess/talk/subjects/48223652\">48223652</a></td>\n",
       "      <td id=\"T_95a4e_row9_col3\" class=\"data row9 col3\" >F</td>\n",
       "      <td id=\"T_95a4e_row9_col4\" class=\"data row9 col4\" >3</td>\n",
       "      <td id=\"T_95a4e_row9_col5\" class=\"data row9 col5\" ><a target=\"_simbad\" href=\"https://simbad.u-strasbg.fr/simbad/sim-basic?Ident=*  32 Her\">*  32 Her</a></td>\n",
       "      <td id=\"T_95a4e_row9_col6\" class=\"data row9 col6\" >**|SB*|UV</td>\n",
       "      <td id=\"T_95a4e_row9_col7\" class=\"data row9 col7\" >-</td>\n",
       "      <td id=\"T_95a4e_row9_col8\" class=\"data row9 col8\" ><a target=\"_vsx\" href=\"https://www.aavso.org/vsx/index.php?view=detail.top&oid=59130\">59130</a></td>\n",
       "      <td id=\"T_95a4e_row9_col9\" class=\"data row9 col9\" >ELL+DSCT</td>\n",
       "      <td id=\"T_95a4e_row9_col10\" class=\"data row9 col10\" >F</td>\n",
       "      <td id=\"T_95a4e_row9_col11\" class=\"data row9 col11\" >3.394306</td>\n",
       "      <td id=\"T_95a4e_row9_col12\" class=\"data row9 col12\" >J163329.10+302956.2</td>\n",
       "      <td id=\"T_95a4e_row9_col13\" class=\"data row9 col13\" ><a target=\"_asas_sn\" href=\"https://asas-sn.osu.edu/variables/91079\">details</a></td>\n",
       "      <td id=\"T_95a4e_row9_col14\" class=\"data row9 col14\" >ROT:</td>\n",
       "      <td id=\"T_95a4e_row9_col15\" class=\"data row9 col15\" >NON PERIODIC</td>\n",
       "    </tr>\n",
       "    <tr>\n",
       "      <td id=\"T_95a4e_row10_col0\" class=\"data row10 col0\" ><img src=\"https://panoptes-uploads.zooniverse.org/subject_location/f315853b-3782-460c-98e6-cb03f779f76f.png\"></td>\n",
       "      <td id=\"T_95a4e_row10_col1\" class=\"data row10 col1\" ><a target=\"_exofop\" href=\"https://exofop.ipac.caltech.edu/tess/target.php?id=8245065\">8245065</a></td>\n",
       "      <td id=\"T_95a4e_row10_col2\" class=\"data row10 col2\" ><a target=\"_pht\" href=\"https://www.zooniverse.org/projects/nora-dot-eisner/planet-hunters-tess/talk/subjects/41030412\">41030412</a></td>\n",
       "      <td id=\"T_95a4e_row10_col3\" class=\"data row10 col3\" >F</td>\n",
       "      <td id=\"T_95a4e_row10_col4\" class=\"data row10 col4\" >2</td>\n",
       "      <td id=\"T_95a4e_row10_col5\" class=\"data row10 col5\" ><a target=\"_simbad\" href=\"https://simbad.u-strasbg.fr/simbad/sim-basic?Ident=V* GS UMa\">V* GS UMa</a></td>\n",
       "      <td id=\"T_95a4e_row10_col6\" class=\"data row10 col6\" >V*|dS*</td>\n",
       "      <td id=\"T_95a4e_row10_col7\" class=\"data row10 col7\" >F</td>\n",
       "      <td id=\"T_95a4e_row10_col8\" class=\"data row10 col8\" ><a target=\"_vsx\" href=\"https://www.aavso.org/vsx/index.php?view=detail.top&oid=37305\">37305</a></td>\n",
       "      <td id=\"T_95a4e_row10_col9\" class=\"data row10 col9\" >DSCT</td>\n",
       "      <td id=\"T_95a4e_row10_col10\" class=\"data row10 col10\" >F</td>\n",
       "      <td id=\"T_95a4e_row10_col11\" class=\"data row10 col11\" >0.163970</td>\n",
       "      <td id=\"T_95a4e_row10_col12\" class=\"data row10 col12\" >J102926.74+394608.8</td>\n",
       "      <td id=\"T_95a4e_row10_col13\" class=\"data row10 col13\" ><a target=\"_asas_sn\" href=\"https://asas-sn.osu.edu/variables/118800\">details</a></td>\n",
       "      <td id=\"T_95a4e_row10_col14\" class=\"data row10 col14\" >VAR</td>\n",
       "      <td id=\"T_95a4e_row10_col15\" class=\"data row10 col15\" >NON PERIODIC</td>\n",
       "    </tr>\n",
       "    <tr>\n",
       "      <td id=\"T_95a4e_row11_col0\" class=\"data row11 col0\" ><img src=\"https://panoptes-uploads.zooniverse.org/subject_location/7a90358a-d465-4a7d-823c-e0aa3eb8830b.png\"></td>\n",
       "      <td id=\"T_95a4e_row11_col1\" class=\"data row11 col1\" ><a target=\"_exofop\" href=\"https://exofop.ipac.caltech.edu/tess/target.php?id=10111251\">10111251</a></td>\n",
       "      <td id=\"T_95a4e_row11_col2\" class=\"data row11 col2\" ><a target=\"_pht\" href=\"https://www.zooniverse.org/projects/nora-dot-eisner/planet-hunters-tess/talk/subjects/43283591\">43283591</a></td>\n",
       "      <td id=\"T_95a4e_row11_col3\" class=\"data row11 col3\" >F</td>\n",
       "      <td id=\"T_95a4e_row11_col4\" class=\"data row11 col4\" >2</td>\n",
       "      <td id=\"T_95a4e_row11_col5\" class=\"data row11 col5\" ><a target=\"_simbad\" href=\"https://simbad.u-strasbg.fr/simbad/sim-basic?Ident=V* MU UMa\">V* MU UMa</a></td>\n",
       "      <td id=\"T_95a4e_row11_col6\" class=\"data row11 col6\" >Pu*|RR*|V*|RR?</td>\n",
       "      <td id=\"T_95a4e_row11_col7\" class=\"data row11 col7\" >F</td>\n",
       "      <td id=\"T_95a4e_row11_col8\" class=\"data row11 col8\" ><a target=\"_vsx\" href=\"https://www.aavso.org/vsx/index.php?view=detail.top&oid=136551\">136551</a></td>\n",
       "      <td id=\"T_95a4e_row11_col9\" class=\"data row11 col9\" >RRC</td>\n",
       "      <td id=\"T_95a4e_row11_col10\" class=\"data row11 col10\" >F</td>\n",
       "      <td id=\"T_95a4e_row11_col11\" class=\"data row11 col11\" >0.267946</td>\n",
       "      <td id=\"T_95a4e_row11_col12\" class=\"data row11 col12\" >J113536.81+384557.4</td>\n",
       "      <td id=\"T_95a4e_row11_col13\" class=\"data row11 col13\" ><a target=\"_asas_sn\" href=\"https://asas-sn.osu.edu/variables/109226\">details</a></td>\n",
       "      <td id=\"T_95a4e_row11_col14\" class=\"data row11 col14\" >RRC</td>\n",
       "      <td id=\"T_95a4e_row11_col15\" class=\"data row11 col15\" >0.2693019</td>\n",
       "    </tr>\n",
       "    <tr>\n",
       "      <td id=\"T_95a4e_row12_col0\" class=\"data row12 col0\" ><img src=\"https://panoptes-uploads.zooniverse.org/subject_location/6f70ef8b-6be9-400f-b304-0a6593976eec.png\"></td>\n",
       "      <td id=\"T_95a4e_row12_col1\" class=\"data row12 col1\" ><a target=\"_exofop\" href=\"https://exofop.ipac.caltech.edu/tess/target.php?id=93155\">93155</a></td>\n",
       "      <td id=\"T_95a4e_row12_col2\" class=\"data row12 col2\" ><a target=\"_pht\" href=\"https://www.zooniverse.org/projects/nora-dot-eisner/planet-hunters-tess/talk/subjects/64603128\">64603128</a></td>\n",
       "      <td id=\"T_95a4e_row12_col3\" class=\"data row12 col3\" >F</td>\n",
       "      <td id=\"T_95a4e_row12_col4\" class=\"data row12 col4\" >1</td>\n",
       "      <td id=\"T_95a4e_row12_col5\" class=\"data row12 col5\" ><a target=\"_simbad\" href=\"https://simbad.u-strasbg.fr/simbad/sim-basic?Ident=*  55 Hya\">*  55 Hya</a></td>\n",
       "      <td id=\"T_95a4e_row12_col6\" class=\"data row12 col6\" ></td>\n",
       "      <td id=\"T_95a4e_row12_col7\" class=\"data row12 col7\" >-</td>\n",
       "      <td id=\"T_95a4e_row12_col8\" class=\"data row12 col8\" ><a target=\"_vsx\" href=\"https://www.aavso.org/vsx/index.php?view=detail.top&oid=58618\">58618</a></td>\n",
       "      <td id=\"T_95a4e_row12_col9\" class=\"data row12 col9\" >ACV</td>\n",
       "      <td id=\"T_95a4e_row12_col10\" class=\"data row12 col10\" >F</td>\n",
       "      <td id=\"T_95a4e_row12_col11\" class=\"data row12 col11\" >4.413600</td>\n",
       "      <td id=\"T_95a4e_row12_col12\" class=\"data row12 col12\" >J144722.70-253725.9</td>\n",
       "      <td id=\"T_95a4e_row12_col13\" class=\"data row12 col13\" ><a target=\"_asas_sn\" href=\"https://asas-sn.osu.edu/variables/240384\">details</a></td>\n",
       "      <td id=\"T_95a4e_row12_col14\" class=\"data row12 col14\" >VAR</td>\n",
       "      <td id=\"T_95a4e_row12_col15\" class=\"data row12 col15\" >440.2991201</td>\n",
       "    </tr>\n",
       "    <tr>\n",
       "      <td id=\"T_95a4e_row13_col0\" class=\"data row13 col0\" ><img src=\"https://panoptes-uploads.zooniverse.org/subject_location/6aaa4916-76c0-43fc-b4cf-96ebfcd85742.png\"></td>\n",
       "      <td id=\"T_95a4e_row13_col1\" class=\"data row13 col1\" ><a target=\"_exofop\" href=\"https://exofop.ipac.caltech.edu/tess/target.php?id=615133\">615133</a></td>\n",
       "      <td id=\"T_95a4e_row13_col2\" class=\"data row13 col2\" ><a target=\"_pht\" href=\"https://www.zooniverse.org/projects/nora-dot-eisner/planet-hunters-tess/talk/subjects/56366876\">56366876</a></td>\n",
       "      <td id=\"T_95a4e_row13_col3\" class=\"data row13 col3\" >F</td>\n",
       "      <td id=\"T_95a4e_row13_col4\" class=\"data row13 col4\" >1</td>\n",
       "      <td id=\"T_95a4e_row13_col5\" class=\"data row13 col5\" ><a target=\"_simbad\" href=\"https://simbad.u-strasbg.fr/simbad/sim-basic?Ident=HD  30984\">HD  30984</a></td>\n",
       "      <td id=\"T_95a4e_row13_col6\" class=\"data row13 col6\" >Ro*|X|**|V*</td>\n",
       "      <td id=\"T_95a4e_row13_col7\" class=\"data row13 col7\" >F</td>\n",
       "      <td id=\"T_95a4e_row13_col8\" class=\"data row13 col8\" ><a target=\"_vsx\" href=\"https://www.aavso.org/vsx/index.php?view=detail.top&oid=280964\">280964</a></td>\n",
       "      <td id=\"T_95a4e_row13_col9\" class=\"data row13 col9\" >ROT</td>\n",
       "      <td id=\"T_95a4e_row13_col10\" class=\"data row13 col10\" >F</td>\n",
       "      <td id=\"T_95a4e_row13_col11\" class=\"data row13 col11\" >5.876000</td>\n",
       "      <td id=\"T_95a4e_row13_col12\" class=\"data row13 col12\" >J045103.87-273110.7</td>\n",
       "      <td id=\"T_95a4e_row13_col13\" class=\"data row13 col13\" ><a target=\"_asas_sn\" href=\"https://asas-sn.osu.edu/variables/145419\">details</a></td>\n",
       "      <td id=\"T_95a4e_row13_col14\" class=\"data row13 col14\" >VAR</td>\n",
       "      <td id=\"T_95a4e_row13_col15\" class=\"data row13 col15\" >606.6256286</td>\n",
       "    </tr>\n",
       "    <tr>\n",
       "      <td id=\"T_95a4e_row14_col0\" class=\"data row14 col0\" ><img src=\"https://panoptes-uploads.zooniverse.org/subject_location/476b5d98-ff38-4792-96b3-a42bd863845e.png\"></td>\n",
       "      <td id=\"T_95a4e_row14_col1\" class=\"data row14 col1\" ><a target=\"_exofop\" href=\"https://exofop.ipac.caltech.edu/tess/target.php?id=9729491\">9729491</a></td>\n",
       "      <td id=\"T_95a4e_row14_col2\" class=\"data row14 col2\" ><a target=\"_pht\" href=\"https://www.zooniverse.org/projects/nora-dot-eisner/planet-hunters-tess/talk/subjects/48221586\">48221586</a></td>\n",
       "      <td id=\"T_95a4e_row14_col3\" class=\"data row14 col3\" >F</td>\n",
       "      <td id=\"T_95a4e_row14_col4\" class=\"data row14 col4\" >0</td>\n",
       "      <td id=\"T_95a4e_row14_col5\" class=\"data row14 col5\" ><a target=\"_simbad\" href=\"https://simbad.u-strasbg.fr/simbad/sim-basic?Ident=TYC 2600-1473-1\">TYC 2600-1473-1</a></td>\n",
       "      <td id=\"T_95a4e_row14_col6\" class=\"data row14 col6\" ></td>\n",
       "      <td id=\"T_95a4e_row14_col7\" class=\"data row14 col7\" >-</td>\n",
       "      <td id=\"T_95a4e_row14_col8\" class=\"data row14 col8\" ><a target=\"_vsx\" href=\"https://www.aavso.org/vsx/index.php?view=detail.top&oid=1516692\">1516692</a></td>\n",
       "      <td id=\"T_95a4e_row14_col9\" class=\"data row14 col9\" >ROT</td>\n",
       "      <td id=\"T_95a4e_row14_col10\" class=\"data row14 col10\" >F</td>\n",
       "      <td id=\"T_95a4e_row14_col11\" class=\"data row14 col11\" >5.541470</td>\n",
       "      <td id=\"T_95a4e_row14_col12\" class=\"data row14 col12\" >J172045.59+340721.5</td>\n",
       "      <td id=\"T_95a4e_row14_col13\" class=\"data row14 col13\" ><a target=\"_asas_sn\" href=\"https://asas-sn.osu.edu/variables/AP8196670\">details</a></td>\n",
       "      <td id=\"T_95a4e_row14_col14\" class=\"data row14 col14\" >ROT</td>\n",
       "      <td id=\"T_95a4e_row14_col15\" class=\"data row14 col15\" >5.5414721</td>\n",
       "    </tr>\n",
       "    <tr>\n",
       "      <td id=\"T_95a4e_row15_col0\" class=\"data row15 col0\" ><img src=\"https://panoptes-uploads.zooniverse.org/subject_location/84d30f45-4a00-40f9-b580-30f149131c3b.png\"></td>\n",
       "      <td id=\"T_95a4e_row15_col1\" class=\"data row15 col1\" ><a target=\"_exofop\" href=\"https://exofop.ipac.caltech.edu/tess/target.php?id=22959701\">22959701</a></td>\n",
       "      <td id=\"T_95a4e_row15_col2\" class=\"data row15 col2\" ><a target=\"_pht\" href=\"https://www.zooniverse.org/projects/nora-dot-eisner/planet-hunters-tess/talk/subjects/64591998\">64591998</a></td>\n",
       "      <td id=\"T_95a4e_row15_col3\" class=\"data row15 col3\" >F</td>\n",
       "      <td id=\"T_95a4e_row15_col4\" class=\"data row15 col4\" >0</td>\n",
       "      <td id=\"T_95a4e_row15_col5\" class=\"data row15 col5\" ><a target=\"_simbad\" href=\"https://simbad.u-strasbg.fr/simbad/sim-basic?Ident=CD-26 10981\">CD-26 10981</a></td>\n",
       "      <td id=\"T_95a4e_row15_col6\" class=\"data row15 col6\" >Ro*|X|V*|Y*O</td>\n",
       "      <td id=\"T_95a4e_row15_col7\" class=\"data row15 col7\" >F</td>\n",
       "      <td id=\"T_95a4e_row15_col8\" class=\"data row15 col8\" ><a target=\"_vsx\" href=\"https://www.aavso.org/vsx/index.php?view=detail.top&oid=281591\">281591</a></td>\n",
       "      <td id=\"T_95a4e_row15_col9\" class=\"data row15 col9\" >ROT</td>\n",
       "      <td id=\"T_95a4e_row15_col10\" class=\"data row15 col10\" >F</td>\n",
       "      <td id=\"T_95a4e_row15_col11\" class=\"data row15 col11\" >5.273000</td>\n",
       "      <td id=\"T_95a4e_row15_col12\" class=\"data row15 col12\" >J154106.72-265625.5</td>\n",
       "      <td id=\"T_95a4e_row15_col13\" class=\"data row15 col13\" ><a target=\"_asas_sn\" href=\"https://asas-sn.osu.edu/variables/246732\">details</a></td>\n",
       "      <td id=\"T_95a4e_row15_col14\" class=\"data row15 col14\" >ROT</td>\n",
       "      <td id=\"T_95a4e_row15_col15\" class=\"data row15 col15\" >5.4714347</td>\n",
       "    </tr>\n",
       "  </tbody>\n",
       "</table>\n"
      ],
      "text/plain": [
       "<pandas.io.formats.style.Styler at 0x1bc0f7275e0>"
      ]
     },
     "execution_count": 16,
     "metadata": {},
     "output_type": "execute_result"
    }
   ],
   "source": [
    "reload(dashboard_utils)\n",
    "\n",
    "df = df_catalog\n",
    "df = (\n",
    "    df\n",
    "    [df[\"is_eb_catalog\"] == \"F\"]\n",
    "    .groupby(\"eb_score_group\")\n",
    "    .head(2)\n",
    "    .sort_values([\"eb_score_group\"], ascending=[False])\n",
    "    )\n",
    "# clipboard_set(df[CAT_COLS_COMMON].to_markdown())\n",
    "# df[CAT_COLS_COMMON].to_clipboard()\n",
    "\n",
    "# dashboard_utils.style(df[CAT_COLS_COMMON])\n",
    "dashboard_utils.style(df[[\"best_subject_img_id\", ] + CAT_COLS_COMMON], show_thumbnail=True)"
   ]
  },
  {
   "cell_type": "code",
   "execution_count": 6,
   "metadata": {},
   "outputs": [
    {
     "data": {
      "application/vnd.jupyter.widget-view+json": {
       "model_id": "e5df45d40f4d46aebd7a69fe7d8af9d3",
       "version_major": 2,
       "version_minor": 0
      },
      "text/plain": [
       "GridBox(children=(Output(layout=Layout(border='1px dotted gray')), Output(layout=Layout(border='1px dotted gra…"
      ]
     },
     "metadata": {},
     "output_type": "display_data"
    },
    {
     "data": {
      "image/png": "[encoded data removed]",
      "text/plain": [
       "<Figure size 432x288 with 1 Axes>"
      ]
     },
     "metadata": {
      "needs_background": "light"
     },
     "output_type": "display_data"
    }
   ],
   "source": [
    "dashboard_utils.display_details(\n",
    "    tic_id=10111251, \n",
    "    type=\"tic_meta\",\n",
    "    brief=True,\n",
    ")"
   ]
  }
 ],
 "metadata": {
  "kernelspec": {
   "display_name": "Python 3 (ipykernel)",
   "language": "python",
   "name": "python3"
  },
  "language_info": {
   "codemirror_mode": {
    "name": "ipython",
    "version": 3
   },
   "file_extension": ".py",
   "mimetype": "text/x-python",
   "name": "python",
   "nbconvert_exporter": "python",
   "pygments_lexer": "ipython3",
   "version": "3.9.12"
  },
  "vscode": {
   "interpreter": {
    "hash": "eb550afef4070f6d0c84559578f78a28984f8f075409b177c967e1897d402310"
   }
  }
 },
 "nbformat": 4,
 "nbformat_minor": 2
}
